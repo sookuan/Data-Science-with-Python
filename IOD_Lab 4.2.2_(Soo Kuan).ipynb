{
 "cells": [
  {
   "cell_type": "markdown",
   "metadata": {
    "id": "9XIMscuZXR3_"
   },
   "source": [
    "<div>\n",
    "<img src=https://www.institutedata.com/wp-content/uploads/2019/10/iod_h_tp_primary_c.svg width=\"300\">\n",
    "</div>"
   ]
  },
  {
   "cell_type": "markdown",
   "metadata": {
    "id": "_MEq0z1KXR4C"
   },
   "source": [
    "## Lab 4.2.2: Feature Selection"
   ]
  },
  {
   "cell_type": "markdown",
   "metadata": {
    "id": "Izj4LsbrGNc8"
   },
   "source": [
    "Moving beyond basic feature selection methods, this lab introduces forward feature selection. Through an iterative process, we progressively include features that contribute to improving the model's adjusted R-squared score. By systematically evaluating the impact of each feature, we aim to construct a regression model that captures the underlying patterns in the data."
   ]
  },
  {
   "cell_type": "code",
   "execution_count": 1,
   "metadata": {
    "id": "Od_2rcZkXR4D"
   },
   "outputs": [],
   "source": [
    "import pandas as pd\n",
    "import numpy as np\n",
    "import matplotlib.pyplot as plt\n",
    "import seaborn as sns\n",
    "from sklearn.linear_model import LinearRegression\n",
    "from sklearn.model_selection import train_test_split\n",
    "\n",
    "%matplotlib inline"
   ]
  },
  {
   "cell_type": "markdown",
   "metadata": {
    "id": "mADumyI3XR4G"
   },
   "source": [
    "### 5. Forward Feature Selection\n",
    "\n",
    "> Forward Selection: Forward selection is an iterative method in which we start with having no feature in the model. In each iteration, we keep adding the feature which best improves our model till an addition of a new variable does not improve the performance of the model.\n",
    "\n",
    "Create a Regression model using Forward Feature Selection by looping over all the features adding one at a time until there are no improvements on the prediction metric ( R2  and  AdjustedR2  in this case)."
   ]
  },
  {
   "cell_type": "markdown",
   "metadata": {
    "id": "Ha-2bFwdXR4H"
   },
   "source": [
    "#### 5.1 Load Wine Data & Define Predictor and Target"
   ]
  },
  {
   "cell_type": "code",
   "execution_count": 4,
   "metadata": {
    "id": "dKp1loQLXR4H"
   },
   "outputs": [],
   "source": [
    "## Load the wine quality dataset\n",
    "\n",
    "# Load the wine dataset from csv\n",
    "wine = pd.read_csv('winequality_merged.csv')\n",
    "\n",
    "# define the target variable (dependent variable) as y\n",
    "y = wine['quality']\n",
    "\n",
    "# Take all columns except target as predictor columns\n",
    "predictor_columns = [c for c in wine.columns if c != 'quality']\n",
    "# Load the dataset as a pandas data frame\n",
    "X = pd.DataFrame(wine, columns = predictor_columns)"
   ]
  },
  {
   "cell_type": "code",
   "execution_count": 9,
   "metadata": {
    "id": "_IaxFgFkXR4K"
   },
   "outputs": [],
   "source": [
    "## Create training and testing subsets\n",
    "\n",
    "X_train, X_test, y_train, y_test = train_test_split(X, y, test_size = 0.2, random_state = 42)"
   ]
  },
  {
   "cell_type": "code",
   "execution_count": 11,
   "metadata": {},
   "outputs": [
    {
     "data": {
      "text/html": [
       "<div>\n",
       "<style scoped>\n",
       "    .dataframe tbody tr th:only-of-type {\n",
       "        vertical-align: middle;\n",
       "    }\n",
       "\n",
       "    .dataframe tbody tr th {\n",
       "        vertical-align: top;\n",
       "    }\n",
       "\n",
       "    .dataframe thead th {\n",
       "        text-align: right;\n",
       "    }\n",
       "</style>\n",
       "<table border=\"1\" class=\"dataframe\">\n",
       "  <thead>\n",
       "    <tr style=\"text-align: right;\">\n",
       "      <th></th>\n",
       "      <th>fixed acidity</th>\n",
       "      <th>volatile acidity</th>\n",
       "      <th>citric acid</th>\n",
       "      <th>residual sugar</th>\n",
       "      <th>chlorides</th>\n",
       "      <th>free sulfur dioxide</th>\n",
       "      <th>total sulfur dioxide</th>\n",
       "      <th>density</th>\n",
       "      <th>pH</th>\n",
       "      <th>sulphates</th>\n",
       "      <th>alcohol</th>\n",
       "      <th>red_wine</th>\n",
       "    </tr>\n",
       "  </thead>\n",
       "  <tbody>\n",
       "    <tr>\n",
       "      <th>1916</th>\n",
       "      <td>6.6</td>\n",
       "      <td>0.240</td>\n",
       "      <td>0.35</td>\n",
       "      <td>7.7</td>\n",
       "      <td>0.031</td>\n",
       "      <td>36.0</td>\n",
       "      <td>135.0</td>\n",
       "      <td>0.99380</td>\n",
       "      <td>3.19</td>\n",
       "      <td>0.37</td>\n",
       "      <td>10.5</td>\n",
       "      <td>0</td>\n",
       "    </tr>\n",
       "    <tr>\n",
       "      <th>947</th>\n",
       "      <td>8.3</td>\n",
       "      <td>0.280</td>\n",
       "      <td>0.48</td>\n",
       "      <td>2.1</td>\n",
       "      <td>0.093</td>\n",
       "      <td>6.0</td>\n",
       "      <td>12.0</td>\n",
       "      <td>0.99408</td>\n",
       "      <td>3.26</td>\n",
       "      <td>0.62</td>\n",
       "      <td>12.4</td>\n",
       "      <td>1</td>\n",
       "    </tr>\n",
       "    <tr>\n",
       "      <th>877</th>\n",
       "      <td>7.7</td>\n",
       "      <td>0.715</td>\n",
       "      <td>0.01</td>\n",
       "      <td>2.1</td>\n",
       "      <td>0.064</td>\n",
       "      <td>31.0</td>\n",
       "      <td>43.0</td>\n",
       "      <td>0.99371</td>\n",
       "      <td>3.41</td>\n",
       "      <td>0.57</td>\n",
       "      <td>11.8</td>\n",
       "      <td>1</td>\n",
       "    </tr>\n",
       "    <tr>\n",
       "      <th>2927</th>\n",
       "      <td>5.2</td>\n",
       "      <td>0.370</td>\n",
       "      <td>0.33</td>\n",
       "      <td>1.2</td>\n",
       "      <td>0.028</td>\n",
       "      <td>13.0</td>\n",
       "      <td>81.0</td>\n",
       "      <td>0.99020</td>\n",
       "      <td>3.37</td>\n",
       "      <td>0.38</td>\n",
       "      <td>11.7</td>\n",
       "      <td>0</td>\n",
       "    </tr>\n",
       "    <tr>\n",
       "      <th>6063</th>\n",
       "      <td>6.6</td>\n",
       "      <td>0.260</td>\n",
       "      <td>0.56</td>\n",
       "      <td>15.4</td>\n",
       "      <td>0.053</td>\n",
       "      <td>32.0</td>\n",
       "      <td>141.0</td>\n",
       "      <td>0.99810</td>\n",
       "      <td>3.11</td>\n",
       "      <td>0.49</td>\n",
       "      <td>9.3</td>\n",
       "      <td>0</td>\n",
       "    </tr>\n",
       "  </tbody>\n",
       "</table>\n",
       "</div>"
      ],
      "text/plain": [
       "      fixed acidity  volatile acidity  citric acid  residual sugar  chlorides  \\\n",
       "1916            6.6             0.240         0.35             7.7      0.031   \n",
       "947             8.3             0.280         0.48             2.1      0.093   \n",
       "877             7.7             0.715         0.01             2.1      0.064   \n",
       "2927            5.2             0.370         0.33             1.2      0.028   \n",
       "6063            6.6             0.260         0.56            15.4      0.053   \n",
       "\n",
       "      free sulfur dioxide  total sulfur dioxide  density    pH  sulphates  \\\n",
       "1916                 36.0                 135.0  0.99380  3.19       0.37   \n",
       "947                   6.0                  12.0  0.99408  3.26       0.62   \n",
       "877                  31.0                  43.0  0.99371  3.41       0.57   \n",
       "2927                 13.0                  81.0  0.99020  3.37       0.38   \n",
       "6063                 32.0                 141.0  0.99810  3.11       0.49   \n",
       "\n",
       "      alcohol  red_wine  \n",
       "1916     10.5         0  \n",
       "947      12.4         1  \n",
       "877      11.8         1  \n",
       "2927     11.7         0  \n",
       "6063      9.3         0  "
      ]
     },
     "execution_count": 11,
     "metadata": {},
     "output_type": "execute_result"
    }
   ],
   "source": [
    "X_train.head()"
   ]
  },
  {
   "cell_type": "markdown",
   "metadata": {
    "id": "sHGOCW66XR4M"
   },
   "source": [
    "#### 5.2 Overview of the code below\n",
    "\n",
    "The external `while` loop goes forever until there are no improvements to the model, which is controlled by the flag `changed` (until is **not** changed).\n",
    "The inner `for` loop goes over each of the features not yet included in the model and calculates the correlation coefficient. If any model improves on the previous best model then the records are updated.\n",
    "\n",
    "#### Code variables\n",
    "- `included`: list of the features (predictors) that were included in the model; starts empty.\n",
    "- `excluded`: list of features that have **not** been included in the model; starts as the full list of features.\n",
    "- `best`: dictionary to keep record of the best model found at any stage; starts 'empty'.\n",
    "- `model`: object of class LinearRegression, with default values for all parameters.\n",
    "\n",
    "#### Methods of the `LinearRegression` object to investigate\n",
    "- `fit()`\n",
    "- `fit.score()`\n",
    "\n",
    "#### Adjusted $R^2$ formula\n",
    "$$Adjusted \\; R^2 = 1 - { (1 - R^2) (n - 1)  \\over n - k - 1 }$$\n",
    "\n",
    "#### Linear Regression [reference](http://scikit-learn.org/stable/modules/generated/sklearn.linear_model.LinearRegression.html#sklearn.linear_model.LinearRegression)"
   ]
  },
  {
   "cell_type": "code",
   "execution_count": 13,
   "metadata": {
    "id": "LVJY9yXaXR4M"
   },
   "outputs": [],
   "source": [
    "## Flag intermediate output\n",
    "\n",
    "show_steps = True   # for testing/debugging\n",
    "# show_steps = False  # without showing steps"
   ]
  },
  {
   "cell_type": "code",
   "execution_count": 17,
   "metadata": {
    "id": "vxROsvaIXR4P"
   },
   "outputs": [
    {
     "name": "stdout",
     "output_type": "stream",
     "text": [
      "\n",
      "(Step) Excluded = citric acid, pH, free sulfur dioxide, red_wine, total sulfur dioxide, sulphates, fixed acidity, volatile acidity, density, chlorides, residual sugar, alcohol\n",
      "(Step) Trying citric acid...\n",
      "(Step) - Features = citric acid\n",
      "(Step) - Adjusted R^2: This = 0.993; Best = 0.000\n",
      "(Step) - New Best!   : Feature = citric acid; R^2 = 0.007; Adjusted R^2 = 0.993\n",
      "(Step) Trying pH...\n",
      "(Step) - Features = pH\n",
      "(Step) - Adjusted R^2: This = 1.000; Best = 0.993\n",
      "(Step) - New Best!   : Feature = pH; R^2 = 0.000; Adjusted R^2 = 1.000\n",
      "(Step) Trying free sulfur dioxide...\n",
      "(Step) - Features = free sulfur dioxide\n",
      "(Step) - Adjusted R^2: This = 0.997; Best = 1.000\n",
      "(Step) Trying red_wine...\n",
      "(Step) - Features = red_wine\n",
      "(Step) - Adjusted R^2: This = 0.988; Best = 1.000\n",
      "(Step) Trying total sulfur dioxide...\n",
      "(Step) - Features = total sulfur dioxide\n",
      "(Step) - Adjusted R^2: This = 0.998; Best = 1.000\n",
      "(Step) Trying sulphates...\n",
      "(Step) - Features = sulphates\n",
      "(Step) - Adjusted R^2: This = 0.998; Best = 1.000\n",
      "(Step) Trying fixed acidity...\n",
      "(Step) - Features = fixed acidity\n",
      "(Step) - Adjusted R^2: This = 0.996; Best = 1.000\n",
      "(Step) Trying volatile acidity...\n",
      "(Step) - Features = volatile acidity\n",
      "(Step) - Adjusted R^2: This = 0.931; Best = 1.000\n",
      "(Step) Trying density...\n",
      "(Step) - Features = density\n",
      "(Step) - Adjusted R^2: This = 0.909; Best = 1.000\n",
      "(Step) Trying chlorides...\n",
      "(Step) - Features = chlorides\n",
      "(Step) - Adjusted R^2: This = 0.963; Best = 1.000\n",
      "(Step) Trying residual sugar...\n",
      "(Step) - Features = residual sugar\n",
      "(Step) - Adjusted R^2: This = 0.998; Best = 1.000\n",
      "(Step) Trying alcohol...\n",
      "(Step) - Features = alcohol\n",
      "(Step) - Adjusted R^2: This = 0.799; Best = 1.000\n",
      "Added feature pH with R^2 = 0.000 and adjusted R^2 = 1.000\n",
      "\n",
      "(Step) Excluded = citric acid, free sulfur dioxide, red_wine, total sulfur dioxide, sulphates, fixed acidity, volatile acidity, density, chlorides, residual sugar, alcohol\n",
      "(Step) Trying citric acid...\n",
      "(Step) - Features = pH, citric acid\n",
      "(Step) - Adjusted R^2: This = 0.991; Best = 1.000\n",
      "(Step) Trying free sulfur dioxide...\n",
      "(Step) - Features = pH, free sulfur dioxide\n",
      "(Step) - Adjusted R^2: This = 0.996; Best = 1.000\n",
      "(Step) Trying red_wine...\n",
      "(Step) - Features = pH, red_wine\n",
      "(Step) - Adjusted R^2: This = 0.984; Best = 1.000\n",
      "(Step) Trying total sulfur dioxide...\n",
      "(Step) - Features = pH, total sulfur dioxide\n",
      "(Step) - Adjusted R^2: This = 0.998; Best = 1.000\n",
      "(Step) Trying sulphates...\n",
      "(Step) - Features = pH, sulphates\n",
      "(Step) - Adjusted R^2: This = 0.998; Best = 1.000\n",
      "(Step) Trying fixed acidity...\n",
      "(Step) - Features = pH, fixed acidity\n",
      "(Step) - Adjusted R^2: This = 0.996; Best = 1.000\n",
      "(Step) Trying volatile acidity...\n",
      "(Step) - Features = pH, volatile acidity\n",
      "(Step) - Adjusted R^2: This = 0.923; Best = 1.000\n",
      "(Step) Trying density...\n",
      "(Step) - Features = pH, density\n",
      "(Step) - Adjusted R^2: This = 0.909; Best = 1.000\n",
      "(Step) Trying chlorides...\n",
      "(Step) - Features = pH, chlorides\n",
      "(Step) - Adjusted R^2: This = 0.963; Best = 1.000\n",
      "(Step) Trying residual sugar...\n",
      "(Step) - Features = pH, residual sugar\n",
      "(Step) - Adjusted R^2: This = 0.999; Best = 1.000\n",
      "(Step) Trying alcohol...\n",
      "(Step) - Features = pH, alcohol\n",
      "(Step) - Adjusted R^2: This = 0.798; Best = 1.000\n",
      "\n",
      "Resulting features:\n",
      "pH\n"
     ]
    }
   ],
   "source": [
    "## Use Forward Feature Selection to pick a good model\n",
    "\n",
    "# start with no predictors\n",
    "included = []\n",
    "# keep track of model and parameters\n",
    "best = {'feature': '', 'r2': 0, 'a_r2': 0}\n",
    "# create a model object to hold the modelling parameters\n",
    "model = LinearRegression() # create a model for Linear Regression\n",
    "# get the number of cases in the training data\n",
    "n = X_train.shape[0]\n",
    "\n",
    "while True:\n",
    "    changed = False\n",
    "\n",
    "    if show_steps:\n",
    "        print('')\n",
    "\n",
    "    # list the features to be evaluated\n",
    "    excluded = list(set(X.columns) - set(included))\n",
    "\n",
    "    if show_steps:\n",
    "        print(f\"(Step) Excluded = {', '.join(excluded)}\")\n",
    "\n",
    "    # for each remaining feature to be evaluated\n",
    "    for new_column in excluded:\n",
    "\n",
    "        if show_steps:\n",
    "            print(f\"(Step) Trying {new_column}...\")\n",
    "            print(f\"(Step) - Features = {', '.join(included + [new_column])}\")\n",
    "\n",
    "        # fit the model with the Training data\n",
    "        fit = model.fit(X_train[included + [new_column]], y_train) # fit a model; consider which predictors should be included\n",
    "        # calculate the score (R^2 for Regression)\n",
    "        r2 = fit.score(X_train[included + [new_column]], y_train) # calculate the score\n",
    "        # number of predictors in this model\n",
    "        k = len(included) + 1\n",
    "        # calculate the adjusted R^2\n",
    "        adjusted_r2 = (((1-r2)*(n-1))/(n-k-1)) # calculate the Adjusted R^2\n",
    "\n",
    "        if show_steps:\n",
    "            print(f\"(Step) - Adjusted R^2: This = {adjusted_r2:.3f}; Best = {best['a_r2']:.3f}\")\n",
    "\n",
    "        # if model improves\n",
    "        if adjusted_r2 > best['a_r2']:\n",
    "            # record new parameters\n",
    "            best = {'feature': new_column, 'r2': r2, 'a_r2': adjusted_r2}\n",
    "            # flag that found a better model\n",
    "            changed = True\n",
    "            if show_steps:\n",
    "                print(f\"(Step) - New Best!   : Feature = {best['feature']}; R^2 = {best['r2']:.3f}; Adjusted R^2 = {best['a_r2']:.3f}\")\n",
    "    # END for\n",
    "\n",
    "    # if found a better model after testing all remaining features\n",
    "    if changed:\n",
    "        # update control details\n",
    "        included.append(best['feature'])\n",
    "        excluded = list(set(excluded) - set(best['feature']))\n",
    "        print(f\"Added feature {best['feature']} with R^2 = {best['r2']:.3f} and adjusted R^2 = {best['a_r2']:.3f}\")\n",
    "    else:\n",
    "        # terminate if no better model\n",
    "        break\n",
    "\n",
    "print('')\n",
    "print('Resulting features:')\n",
    "print(', '.join(included))"
   ]
  },
  {
   "cell_type": "markdown",
   "metadata": {
    "id": "3LCpYCPXl1XK"
   },
   "source": [
    "\n",
    "\n",
    "---\n",
    "\n",
    "\n",
    "\n",
    "---\n",
    "\n",
    "\n",
    "\n",
    "> > > > > > > > > © 2025 Institute of Data\n",
    "\n",
    "\n",
    "---\n",
    "\n",
    "\n",
    "\n",
    "---\n",
    "\n",
    "\n",
    "\n"
   ]
  }
 ],
 "metadata": {
  "colab": {
   "provenance": []
  },
  "kernelspec": {
   "display_name": "Python [conda env:base] *",
   "language": "python",
   "name": "conda-base-py"
  },
  "language_info": {
   "codemirror_mode": {
    "name": "ipython",
    "version": 3
   },
   "file_extension": ".py",
   "mimetype": "text/x-python",
   "name": "python",
   "nbconvert_exporter": "python",
   "pygments_lexer": "ipython3",
   "version": "3.11.5"
  }
 },
 "nbformat": 4,
 "nbformat_minor": 4
}
