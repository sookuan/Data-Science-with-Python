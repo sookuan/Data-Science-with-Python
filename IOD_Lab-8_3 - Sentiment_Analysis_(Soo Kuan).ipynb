{
 "cells": [
  {
   "cell_type": "markdown",
   "metadata": {
    "id": "UYvQOebqLcfM"
   },
   "source": [
    "<div>\n",
    "<img src=https://www.institutedata.com/wp-content/uploads/2019/10/iod_h_tp_primary_c.svg width=\"300\">\n",
    "</div>"
   ]
  },
  {
   "cell_type": "markdown",
   "metadata": {
    "id": "1JWvLBewLcfP"
   },
   "source": [
    "# Lab 8.3: Sentiment Analysis\n",
    "\n",
    "This lab performs sentiment analysis on sentiment-labelled sentences using two types of feature extraction - a count vectoriser and TF-IDF vectoriser."
   ]
  },
  {
   "cell_type": "markdown",
   "metadata": {
    "id": "HbhmKC6NLcfS"
   },
   "source": [
    "Based on the video tutorial **Text Classification with Machine Learning,SpaCy and Scikit(Sentiment Analysis)** by **Jesse E. Agbe (JCharis)**."
   ]
  },
  {
   "cell_type": "markdown",
   "metadata": {
    "id": "NnuAMgbhLcfV"
   },
   "source": [
    "## Data Source: UCI\n",
    "### UCI - Machine Learning Repository\n",
    "- Center for Machine Learning and Intelligent Systems\n",
    "\n",
    "The [**UCI Machine Learning Repository**](http://archive.ics.uci.edu/about) is a collection of databases, domain theories, and data generators that are used by the machine learning community for the empirical analysis of machine learning algorithms.\n",
    "\n",
    "### Dataset\n",
    "- [Sentiment Labelled Sentences Data Set](http://archive.ics.uci.edu/ml/datasets/Sentiment+Labelled+Sentences)\n",
    "\n",
    "### Abstract\n",
    "The dataset contains sentences labelled with positive or negative sentiment.\n",
    "\n",
    "- Data Set Characteristics: Text\n",
    "- Number of Instances: 3000\n",
    "- Area: N/A\n",
    "- Attribute Characteristics: N/A\n",
    "- Number of Attributes: N/A\n",
    "- Date Donated: 2015-05-30\n",
    "- Associated Tasks: Classification\n",
    "- Missing Values? N/A\n",
    "\n",
    "### Source\n",
    "Dimitrios Kotzias dkotzias '@' ics.uci.edu\n",
    "\n",
    "### Data Set Information\n",
    "This dataset was created for the Paper 'From Group to Individual Labels using Deep Features', Kotzias et. al,. KDD 2015\n",
    "\n",
    "Please cite the paper if you want to use it :)\n",
    "\n",
    "It contains sentences labelled with positive or negative sentiment.\n",
    "\n",
    "### Format\n",
    "sentence &lt;tab&gt; score &lt;newline&gt;\n",
    "\n",
    "### Details\n",
    "Score is either 1 (for positive) or 0 (for negative)\n",
    "\n",
    "The sentences come from three different websites/fields:\n",
    "- imdb.com\n",
    "- amazon.com\n",
    "- yelp.com\n",
    "\n",
    "For each website, there exist **500 positive** and **500 negative** sentences. Those were selected randomly for larger datasets of reviews.\n",
    "\n",
    "We attempted to select sentences that have a clearly positive or negative connotation, the goal was for no neutral sentences to be selected.\n",
    "\n",
    "For the full datasets look:\n",
    "\n",
    "- **imdb**: Maas et. al., 2011 _Learning word vectors for sentiment analysis_\n",
    "- **amazon**: McAuley et. al., 2013 _Hidden factors and hidden topics: Understanding rating dimensions with review text_\n",
    "- **yelp**: [Yelp dataset challenge](http://www.yelp.com/dataset_challenge)\n",
    "\n",
    "\n",
    "### Attribute Information\n",
    "The attributes are text sentences, extracted from reviews of products, movies, and restaurants\n",
    "\n",
    "### Relevant Papers\n",
    "**From Group to Individual Labels using Deep Features**, Kotzias et. al,. KDD 2015\n",
    "\n",
    "### Citation Request\n",
    "**From Group to Individual Labels using Deep Features**, Kotzias et. al,. KDD 2015"
   ]
  },
  {
   "cell_type": "markdown",
   "metadata": {
    "id": "abNvVWdlLcfW"
   },
   "source": [
    "## Import libraries"
   ]
  },
  {
   "cell_type": "code",
   "execution_count": 1,
   "metadata": {
    "ExecuteTime": {
     "end_time": "2019-06-17T01:27:26.865620Z",
     "start_time": "2019-06-17T01:27:24.368522Z"
    },
    "id": "4BJWjM0zLcfZ"
   },
   "outputs": [],
   "source": [
    "## Import Libraries\n",
    "import pandas as pd\n",
    "import numpy as np\n",
    "\n",
    "import regex as re\n",
    "import spacy\n",
    "\n",
    "%matplotlib inline\n",
    "import matplotlib.pyplot as plt\n",
    "import matplotlib.gridspec as gridspec\n",
    "import seaborn as sns\n",
    "\n",
    "from sklearn.feature_extraction.text import CountVectorizer\n",
    "from sklearn.feature_extraction.text import TfidfVectorizer\n",
    "\n",
    "from sklearn.model_selection import train_test_split\n",
    "\n",
    "from sklearn.svm import SVC\n",
    "\n",
    "from sklearn.metrics import confusion_matrix\n",
    "from sklearn.metrics import accuracy_score\n",
    "from sklearn.metrics import precision_score\n",
    "from sklearn.metrics import recall_score\n",
    "from sklearn.metrics import average_precision_score\n",
    "from sklearn.metrics import roc_auc_score\n",
    "from sklearn.metrics import precision_recall_curve\n",
    "from sklearn.metrics import roc_curve\n",
    "from sklearn.metrics import auc\n",
    "\n",
    "import warnings\n",
    "warnings.filterwarnings('ignore')"
   ]
  },
  {
   "cell_type": "markdown",
   "metadata": {
    "id": "Dzzk6JdcLcfh"
   },
   "source": [
    "## Load data\n",
    "\n",
    "Load Yelp, Amazon and Imdb Data into dataframes. Create three column names 'text', 'sentiment' and 'source' (equal to one of 'yelp', 'imdb' or 'amazon' for each dataframe).\n",
    "\n",
    "Hint: Source is separated by tabs and has no headers."
   ]
  },
  {
   "cell_type": "code",
   "execution_count": 3,
   "metadata": {
    "ExecuteTime": {
     "end_time": "2019-06-17T01:29:38.157718Z",
     "start_time": "2019-06-17T01:29:38.152747Z"
    },
    "id": "GZUWhcCuLcfi"
   },
   "outputs": [
    {
     "name": "stdout",
     "output_type": "stream",
     "text": [
      "                                                text  sentiment source\n",
      "0                           Wow... Loved this place.          1   yelp\n",
      "1                                 Crust is not good.          0   yelp\n",
      "2          Not tasty and the texture was just nasty.          0   yelp\n",
      "3  Stopped by during the late May bank holiday of...          1   yelp\n",
      "4  The selection on the menu was great and so wer...          1   yelp\n",
      "                                                text  sentiment  source\n",
      "0  So there is no way for me to plug it in here i...          0  amazon\n",
      "1                        Good case, Excellent value.          1  amazon\n",
      "2                             Great for the jawbone.          1  amazon\n",
      "3  Tied to charger for conversations lasting more...          0  amazon\n",
      "4                                  The mic is great.          1  amazon\n",
      "                                                text  sentiment source\n",
      "0  A very, very, very slow-moving, aimless movie ...          0   imdb\n",
      "1  Not sure who was more lost - the flat characte...          0   imdb\n",
      "2  Attempting artiness with black & white and cle...          0   imdb\n",
      "3       Very little music or anything to speak of.            0   imdb\n",
      "4  The best scene in the movie was when Gerardo i...          1   imdb\n"
     ]
    }
   ],
   "source": [
    "yelp_text = 'yelp_labelled.txt'\n",
    "imdb_text = 'imdb_labelled.txt'\n",
    "amazon_text = 'amazon_cells_labelled.txt'\n",
    "\n",
    "# ANSWER\n",
    "# Load data\n",
    "yelp_df = pd.read_csv(yelp_text, sep=\"\\t\", header=None, names=[\"text\", \"sentiment\"])\n",
    "amazon_df = pd.read_csv(amazon_text, sep=\"\\t\", header=None, names=[\"text\", \"sentiment\"])\n",
    "imdb_df = pd.read_csv(imdb_text, sep=\"\\t\", header=None, names=[\"text\", \"sentiment\"])\n",
    "\n",
    "# Add source column\n",
    "yelp_df[\"source\"] = \"yelp\"\n",
    "amazon_df[\"source\"] = \"amazon\"\n",
    "imdb_df[\"source\"] = \"imdb\"\n",
    "\n",
    "print(yelp_df.head())\n",
    "print(amazon_df.head())\n",
    "print(imdb_df.head())\n"
   ]
  },
  {
   "cell_type": "markdown",
   "metadata": {
    "id": "pwa3MBrwLcfo"
   },
   "source": [
    "## Inspect the data\n",
    "\n",
    "Check your datasets."
   ]
  },
  {
   "cell_type": "code",
   "execution_count": 5,
   "metadata": {},
   "outputs": [],
   "source": [
    "dfs = {\n",
    "    \"yelp\" : yelp_df, \n",
    "    \"imdb\": imdb_df, \n",
    "    \"amazon\": amazon_df\n",
    "}"
   ]
  },
  {
   "cell_type": "code",
   "execution_count": 6,
   "metadata": {},
   "outputs": [
    {
     "name": "stdout",
     "output_type": "stream",
     "text": [
      "Datasets: yelp [1000 rows X 3 col(s)]\n",
      "                                                text  sentiment source\n",
      "0                           Wow... Loved this place.          1   yelp\n",
      "1                                 Crust is not good.          0   yelp\n",
      "2          Not tasty and the texture was just nasty.          0   yelp\n",
      "3  Stopped by during the late May bank holiday of...          1   yelp\n",
      "4  The selection on the menu was great and so wer...          1   yelp\n",
      "---------------------------------------------------------------------------\n",
      "Datasets: imdb [748 rows X 3 col(s)]\n",
      "                                                text  sentiment source\n",
      "0  A very, very, very slow-moving, aimless movie ...          0   imdb\n",
      "1  Not sure who was more lost - the flat characte...          0   imdb\n",
      "2  Attempting artiness with black & white and cle...          0   imdb\n",
      "3       Very little music or anything to speak of.            0   imdb\n",
      "4  The best scene in the movie was when Gerardo i...          1   imdb\n",
      "---------------------------------------------------------------------------\n",
      "Datasets: amazon [1000 rows X 3 col(s)]\n",
      "                                                text  sentiment  source\n",
      "0  So there is no way for me to plug it in here i...          0  amazon\n",
      "1                        Good case, Excellent value.          1  amazon\n",
      "2                             Great for the jawbone.          1  amazon\n",
      "3  Tied to charger for conversations lasting more...          0  amazon\n",
      "4                                  The mic is great.          1  amazon\n",
      "---------------------------------------------------------------------------\n"
     ]
    }
   ],
   "source": [
    "for ds in dfs.keys():\n",
    "    print('Datasets: %s [%d rows X %d col(s)]' % (ds, dfs[ds].shape[0], dfs[ds].shape[1]))\n",
    "    dfs[ds].columns = ['text', 'sentiment', 'source']\n",
    "    dfs[ds]['source'] = ds\n",
    "    print(dfs[ds].head())\n",
    "    print('-' * 75)"
   ]
  },
  {
   "cell_type": "markdown",
   "metadata": {
    "id": "meEtfGfELcf4"
   },
   "source": [
    "## Merge the data\n",
    "\n",
    "Merge all three datasets."
   ]
  },
  {
   "cell_type": "code",
   "execution_count": 8,
   "metadata": {
    "ExecuteTime": {
     "end_time": "2019-06-17T01:30:37.302897Z",
     "start_time": "2019-06-17T01:30:37.299903Z"
    },
    "id": "WVpAx-HHcbwn",
    "outputId": "474633c5-4101-4a38-af3c-e2141f0bfecd"
   },
   "outputs": [
    {
     "name": "stdout",
     "output_type": "stream",
     "text": [
      "                                                text  sentiment source\n",
      "0                           Wow... Loved this place.          1   yelp\n",
      "1                                 Crust is not good.          0   yelp\n",
      "2          Not tasty and the texture was just nasty.          0   yelp\n",
      "3  Stopped by during the late May bank holiday of...          1   yelp\n",
      "4  The selection on the menu was great and so wer...          1   yelp\n"
     ]
    }
   ],
   "source": [
    "# ANSWER\n",
    "all_df = pd.concat([yelp_df, amazon_df, imdb_df], ignore_index = True)\n",
    "print(all_df.head())"
   ]
  },
  {
   "cell_type": "code",
   "execution_count": 9,
   "metadata": {},
   "outputs": [
    {
     "name": "stdout",
     "output_type": "stream",
     "text": [
      "Datasets: [2748 rows X 3 col(s)]\n"
     ]
    }
   ],
   "source": [
    "print('Datasets: [%d rows X %d col(s)]' % (all_df.shape[0], all_df.shape[1]))"
   ]
  },
  {
   "cell_type": "markdown",
   "metadata": {
    "id": "bzA4FQsPLcgA"
   },
   "source": [
    "## Prepare the stage\n",
    "- Load spaCy"
   ]
  },
  {
   "cell_type": "code",
   "execution_count": 11,
   "metadata": {
    "ExecuteTime": {
     "end_time": "2019-06-17T01:31:19.686599Z",
     "start_time": "2019-06-17T01:31:18.952239Z"
    },
    "id": "wVMTSDYQLcgB"
   },
   "outputs": [],
   "source": [
    "nlp = spacy.load('en_core_web_sm')"
   ]
  },
  {
   "cell_type": "markdown",
   "metadata": {
    "id": "YguMrtDuLcgD"
   },
   "source": [
    "## Prepare the text\n",
    "All the text handling and preparation concerned with the changes and modifications from the raw source text to a format that will be used for the actual processing, things like:\n",
    "- handle encoding\n",
    "- handle extraneous and international characters\n",
    "- handle symbols\n",
    "- handle metadata and embedded information\n",
    "- handle repetitions (such multiple spaces or newlines)\n",
    "\n",
    "Clean text."
   ]
  },
  {
   "cell_type": "code",
   "execution_count": 13,
   "metadata": {
    "ExecuteTime": {
     "end_time": "2019-06-17T01:31:31.608285Z",
     "start_time": "2019-06-17T01:31:31.601306Z"
    },
    "id": "GlsKSvonLcgD",
    "scrolled": true
   },
   "outputs": [],
   "source": [
    "def clean_text(text):\n",
    "    # reduce multiple spaces and newlines to only one\n",
    "    text = re.sub(r'(\\s\\s+|\\n\\n+)', r'\\1', text)\n",
    "    # remove double quotes\n",
    "    text = re.sub(r'\"', '', text)\n",
    "\n",
    "    return text"
   ]
  },
  {
   "cell_type": "code",
   "execution_count": 14,
   "metadata": {
    "ExecuteTime": {
     "end_time": "2019-06-17T01:32:56.768268Z",
     "start_time": "2019-06-17T01:32:56.765283Z"
    },
    "id": "upPa3YmmLcgF"
   },
   "outputs": [
    {
     "name": "stdout",
     "output_type": "stream",
     "text": [
      "                                                text  sentiment source\n",
      "0                           Wow... Loved this place.          1   yelp\n",
      "1                                 Crust is not good.          0   yelp\n",
      "2          Not tasty and the texture was just nasty.          0   yelp\n",
      "3  Stopped by during the late May bank holiday of...          1   yelp\n",
      "4  The selection on the menu was great and so wer...          1   yelp\n"
     ]
    }
   ],
   "source": [
    "# Apply the clean_text function to your dataset.\n",
    "# ANSWER\n",
    "all_df['text'] = all_df['text'].apply(clean_text)\n",
    "print(all_df.head())"
   ]
  },
  {
   "cell_type": "markdown",
   "metadata": {
    "id": "za_6vt3MLcgH"
   },
   "source": [
    "## Work the text\n",
    "Using techniques learned in previous labs, remove StopWords, punctuation, and digits. Entities can be retained. Return the lemmatised form of any remaining words in lower case form.\n",
    "\n",
    "This removes meaningless information."
   ]
  },
  {
   "cell_type": "code",
   "execution_count": 16,
   "metadata": {
    "ExecuteTime": {
     "end_time": "2019-06-17T01:32:58.911623Z",
     "start_time": "2019-06-17T01:32:58.897659Z"
    },
    "id": "sh_uDWcCLcgI"
   },
   "outputs": [],
   "source": [
    "# Complete the function\n",
    "def convert_text(text):\n",
    "    '''\n",
    "    Use techniques learned in previous labs.\n",
    "    1) Remove StopWords, Punctuation and digits.\n",
    "    2) Retain entities.\n",
    "    3) Return the lemmatised form of remaining words in lower case form.\n",
    "    '''\n",
    "    sent = nlp(text)\n",
    "    ents = {x.text: x for x in sent.ents}\n",
    "    tokens = []\n",
    "    for w in sent:\n",
    "        if w.is_stop or w.is_punct or w.is_digit:\n",
    "            continue\n",
    "        if w.text in ents:\n",
    "            tokens.append(w.text)\n",
    "        else: \n",
    "            tokens.append(w.lemma_.lower())\n",
    "    text = ' '.join(tokens)\n",
    "    return text"
   ]
  },
  {
   "cell_type": "code",
   "execution_count": 17,
   "metadata": {
    "ExecuteTime": {
     "end_time": "2019-06-17T01:33:42.014624Z",
     "start_time": "2019-06-17T01:33:01.620538Z"
    },
    "id": "0vDv55U1LcgK",
    "outputId": "6ae31463-3509-4ea6-934a-6ea1ff1f6b6c"
   },
   "outputs": [
    {
     "name": "stdout",
     "output_type": "stream",
     "text": [
      "                                                text  sentiment source  \\\n",
      "0                           Wow... Loved this place.          1   yelp   \n",
      "1                                 Crust is not good.          0   yelp   \n",
      "2          Not tasty and the texture was just nasty.          0   yelp   \n",
      "3  Stopped by during the late May bank holiday of...          1   yelp   \n",
      "4  The selection on the menu was great and so wer...          1   yelp   \n",
      "\n",
      "                                               short  \n",
      "0                                     wow love place  \n",
      "1                                         Crust good  \n",
      "2                                tasty texture nasty  \n",
      "3  stop late bank holiday rick steve recommendati...  \n",
      "4                         selection menu great price  \n",
      "CPU times: total: 19.6 s\n",
      "Wall time: 19.9 s\n"
     ]
    }
   ],
   "source": [
    "%%time\n",
    "all_df['short'] = all_df['text'].apply(convert_text)\n",
    "print(all_df.head())"
   ]
  },
  {
   "cell_type": "code",
   "execution_count": 18,
   "metadata": {
    "ExecuteTime": {
     "end_time": "2019-06-17T01:35:13.381487Z",
     "start_time": "2019-06-17T01:35:13.362526Z"
    },
    "id": "faiuJfunLcgM",
    "outputId": "67d67ec3-44c6-4315-ef42-7467f69494d5"
   },
   "outputs": [
    {
     "data": {
      "text/html": [
       "<div>\n",
       "<style scoped>\n",
       "    .dataframe tbody tr th:only-of-type {\n",
       "        vertical-align: middle;\n",
       "    }\n",
       "\n",
       "    .dataframe tbody tr th {\n",
       "        vertical-align: top;\n",
       "    }\n",
       "\n",
       "    .dataframe thead th {\n",
       "        text-align: right;\n",
       "    }\n",
       "</style>\n",
       "<table border=\"1\" class=\"dataframe\">\n",
       "  <thead>\n",
       "    <tr style=\"text-align: right;\">\n",
       "      <th></th>\n",
       "      <th>text</th>\n",
       "      <th>sentiment</th>\n",
       "      <th>source</th>\n",
       "      <th>short</th>\n",
       "    </tr>\n",
       "  </thead>\n",
       "  <tbody>\n",
       "    <tr>\n",
       "      <th>2465</th>\n",
       "      <td>Also notable is John Bailey's fine crisp beaut...</td>\n",
       "      <td>1</td>\n",
       "      <td>imdb</td>\n",
       "      <td>notable john bailey fine crisp beautifully col...</td>\n",
       "    </tr>\n",
       "    <tr>\n",
       "      <th>2156</th>\n",
       "      <td>The writers were smack on and I think the best...</td>\n",
       "      <td>1</td>\n",
       "      <td>imdb</td>\n",
       "      <td>writer smack think good actor actress bonus ch...</td>\n",
       "    </tr>\n",
       "    <tr>\n",
       "      <th>381</th>\n",
       "      <td>They have great dinners.</td>\n",
       "      <td>1</td>\n",
       "      <td>yelp</td>\n",
       "      <td>great dinner</td>\n",
       "    </tr>\n",
       "    <tr>\n",
       "      <th>2460</th>\n",
       "      <td>Helen Baxendale is a very credible lady Macbet...</td>\n",
       "      <td>1</td>\n",
       "      <td>imdb</td>\n",
       "      <td>helen baxendale credible lady Macbeth cheerful...</td>\n",
       "    </tr>\n",
       "    <tr>\n",
       "      <th>2189</th>\n",
       "      <td>I highly recommend this movie for anyone inter...</td>\n",
       "      <td>1</td>\n",
       "      <td>imdb</td>\n",
       "      <td>highly recommend movie interested art poetry t...</td>\n",
       "    </tr>\n",
       "    <tr>\n",
       "      <th>1790</th>\n",
       "      <td>NOT WHAT I WANTED.</td>\n",
       "      <td>0</td>\n",
       "      <td>amazon</td>\n",
       "      <td>want</td>\n",
       "    </tr>\n",
       "    <tr>\n",
       "      <th>2244</th>\n",
       "      <td>I let my girlfriend talk me into seeing this -...</td>\n",
       "      <td>0</td>\n",
       "      <td>imdb</td>\n",
       "      <td>let girlfriend talk see bad idea hate</td>\n",
       "    </tr>\n",
       "    <tr>\n",
       "      <th>2604</th>\n",
       "      <td>Star Trek V The final Frontier is the worst in...</td>\n",
       "      <td>0</td>\n",
       "      <td>imdb</td>\n",
       "      <td>star trek v final Frontier bad series</td>\n",
       "    </tr>\n",
       "    <tr>\n",
       "      <th>347</th>\n",
       "      <td>Classy/warm atmosphere, fun and fresh appetize...</td>\n",
       "      <td>1</td>\n",
       "      <td>yelp</td>\n",
       "      <td>classy warm atmosphere fun fresh appetizer suc...</td>\n",
       "    </tr>\n",
       "    <tr>\n",
       "      <th>2649</th>\n",
       "      <td>This one just fails to create any real suspens...</td>\n",
       "      <td>0</td>\n",
       "      <td>imdb</td>\n",
       "      <td>fail create real suspense</td>\n",
       "    </tr>\n",
       "  </tbody>\n",
       "</table>\n",
       "</div>"
      ],
      "text/plain": [
       "                                                   text  sentiment  source  \\\n",
       "2465  Also notable is John Bailey's fine crisp beaut...          1    imdb   \n",
       "2156  The writers were smack on and I think the best...          1    imdb   \n",
       "381                            They have great dinners.          1    yelp   \n",
       "2460  Helen Baxendale is a very credible lady Macbet...          1    imdb   \n",
       "2189  I highly recommend this movie for anyone inter...          1    imdb   \n",
       "1790                                 NOT WHAT I WANTED.          0  amazon   \n",
       "2244  I let my girlfriend talk me into seeing this -...          0    imdb   \n",
       "2604  Star Trek V The final Frontier is the worst in...          0    imdb   \n",
       "347   Classy/warm atmosphere, fun and fresh appetize...          1    yelp   \n",
       "2649  This one just fails to create any real suspens...          0    imdb   \n",
       "\n",
       "                                                  short  \n",
       "2465  notable john bailey fine crisp beautifully col...  \n",
       "2156  writer smack think good actor actress bonus ch...  \n",
       "381                                        great dinner  \n",
       "2460  helen baxendale credible lady Macbeth cheerful...  \n",
       "2189  highly recommend movie interested art poetry t...  \n",
       "1790                                               want  \n",
       "2244            let girlfriend talk see bad idea hate    \n",
       "2604            star trek v final Frontier bad series    \n",
       "347   classy warm atmosphere fun fresh appetizer suc...  \n",
       "2649                        fail create real suspense    "
      ]
     },
     "execution_count": 18,
     "metadata": {},
     "output_type": "execute_result"
    }
   ],
   "source": [
    "all_df.sample(10)"
   ]
  },
  {
   "cell_type": "markdown",
   "metadata": {
    "id": "TbwjijVyLcgP"
   },
   "source": [
    "## Split the dataset"
   ]
  },
  {
   "cell_type": "code",
   "execution_count": 20,
   "metadata": {
    "ExecuteTime": {
     "end_time": "2019-06-17T01:35:24.658233Z",
     "start_time": "2019-06-17T01:35:24.649227Z"
    },
    "id": "Hj2aoBqqLcgV"
   },
   "outputs": [],
   "source": [
    "# Features and Labels\n",
    "X = all_df['short']\n",
    "y = all_df['sentiment']\n",
    "\n",
    "# Apply a train-test split\n",
    "X_train, X_test, y_train, y_test = train_test_split(X, y, test_size = 0.2, random_state = 42)"
   ]
  },
  {
   "cell_type": "markdown",
   "metadata": {
    "id": "yr_VmeNMLcgY"
   },
   "source": [
    "## Create a Bag-of-Words Model"
   ]
  },
  {
   "cell_type": "code",
   "execution_count": 22,
   "metadata": {
    "ExecuteTime": {
     "end_time": "2019-06-17T01:35:32.373670Z",
     "start_time": "2019-06-17T01:35:32.369681Z"
    },
    "id": "Rhd__LD6LcgZ"
   },
   "outputs": [],
   "source": [
    "# create a matrix of word counts from the text\n",
    "counts = CountVectorizer()"
   ]
  },
  {
   "cell_type": "code",
   "execution_count": 24,
   "metadata": {
    "ExecuteTime": {
     "end_time": "2019-06-17T01:35:35.842101Z",
     "start_time": "2019-06-17T01:35:35.784219Z"
    },
    "id": "23CpVgPxLcgb"
   },
   "outputs": [],
   "source": [
    "# do the actual counting\n",
    "A = counts.fit_transform(X_train, y_train)"
   ]
  },
  {
   "cell_type": "code",
   "execution_count": 30,
   "metadata": {
    "ExecuteTime": {
     "end_time": "2019-06-17T01:35:38.590493Z",
     "start_time": "2019-06-17T01:35:38.586469Z"
    },
    "id": "c_rue57RLcgd"
   },
   "outputs": [],
   "source": [
    "# create a classifier using SVC\n",
    "classifier = SVC(kernel='linear', probability=True)"
   ]
  },
  {
   "cell_type": "code",
   "execution_count": 31,
   "metadata": {
    "ExecuteTime": {
     "end_time": "2019-06-17T01:35:41.929126Z",
     "start_time": "2019-06-17T01:35:41.745617Z"
    },
    "id": "Lou4xDLmLcgh"
   },
   "outputs": [
    {
     "data": {
      "text/html": [
       "<style>#sk-container-id-1 {\n",
       "  /* Definition of color scheme common for light and dark mode */\n",
       "  --sklearn-color-text: black;\n",
       "  --sklearn-color-line: gray;\n",
       "  /* Definition of color scheme for unfitted estimators */\n",
       "  --sklearn-color-unfitted-level-0: #fff5e6;\n",
       "  --sklearn-color-unfitted-level-1: #f6e4d2;\n",
       "  --sklearn-color-unfitted-level-2: #ffe0b3;\n",
       "  --sklearn-color-unfitted-level-3: chocolate;\n",
       "  /* Definition of color scheme for fitted estimators */\n",
       "  --sklearn-color-fitted-level-0: #f0f8ff;\n",
       "  --sklearn-color-fitted-level-1: #d4ebff;\n",
       "  --sklearn-color-fitted-level-2: #b3dbfd;\n",
       "  --sklearn-color-fitted-level-3: cornflowerblue;\n",
       "\n",
       "  /* Specific color for light theme */\n",
       "  --sklearn-color-text-on-default-background: var(--sg-text-color, var(--theme-code-foreground, var(--jp-content-font-color1, black)));\n",
       "  --sklearn-color-background: var(--sg-background-color, var(--theme-background, var(--jp-layout-color0, white)));\n",
       "  --sklearn-color-border-box: var(--sg-text-color, var(--theme-code-foreground, var(--jp-content-font-color1, black)));\n",
       "  --sklearn-color-icon: #696969;\n",
       "\n",
       "  @media (prefers-color-scheme: dark) {\n",
       "    /* Redefinition of color scheme for dark theme */\n",
       "    --sklearn-color-text-on-default-background: var(--sg-text-color, var(--theme-code-foreground, var(--jp-content-font-color1, white)));\n",
       "    --sklearn-color-background: var(--sg-background-color, var(--theme-background, var(--jp-layout-color0, #111)));\n",
       "    --sklearn-color-border-box: var(--sg-text-color, var(--theme-code-foreground, var(--jp-content-font-color1, white)));\n",
       "    --sklearn-color-icon: #878787;\n",
       "  }\n",
       "}\n",
       "\n",
       "#sk-container-id-1 {\n",
       "  color: var(--sklearn-color-text);\n",
       "}\n",
       "\n",
       "#sk-container-id-1 pre {\n",
       "  padding: 0;\n",
       "}\n",
       "\n",
       "#sk-container-id-1 input.sk-hidden--visually {\n",
       "  border: 0;\n",
       "  clip: rect(1px 1px 1px 1px);\n",
       "  clip: rect(1px, 1px, 1px, 1px);\n",
       "  height: 1px;\n",
       "  margin: -1px;\n",
       "  overflow: hidden;\n",
       "  padding: 0;\n",
       "  position: absolute;\n",
       "  width: 1px;\n",
       "}\n",
       "\n",
       "#sk-container-id-1 div.sk-dashed-wrapped {\n",
       "  border: 1px dashed var(--sklearn-color-line);\n",
       "  margin: 0 0.4em 0.5em 0.4em;\n",
       "  box-sizing: border-box;\n",
       "  padding-bottom: 0.4em;\n",
       "  background-color: var(--sklearn-color-background);\n",
       "}\n",
       "\n",
       "#sk-container-id-1 div.sk-container {\n",
       "  /* jupyter's `normalize.less` sets `[hidden] { display: none; }`\n",
       "     but bootstrap.min.css set `[hidden] { display: none !important; }`\n",
       "     so we also need the `!important` here to be able to override the\n",
       "     default hidden behavior on the sphinx rendered scikit-learn.org.\n",
       "     See: https://github.com/scikit-learn/scikit-learn/issues/21755 */\n",
       "  display: inline-block !important;\n",
       "  position: relative;\n",
       "}\n",
       "\n",
       "#sk-container-id-1 div.sk-text-repr-fallback {\n",
       "  display: none;\n",
       "}\n",
       "\n",
       "div.sk-parallel-item,\n",
       "div.sk-serial,\n",
       "div.sk-item {\n",
       "  /* draw centered vertical line to link estimators */\n",
       "  background-image: linear-gradient(var(--sklearn-color-text-on-default-background), var(--sklearn-color-text-on-default-background));\n",
       "  background-size: 2px 100%;\n",
       "  background-repeat: no-repeat;\n",
       "  background-position: center center;\n",
       "}\n",
       "\n",
       "/* Parallel-specific style estimator block */\n",
       "\n",
       "#sk-container-id-1 div.sk-parallel-item::after {\n",
       "  content: \"\";\n",
       "  width: 100%;\n",
       "  border-bottom: 2px solid var(--sklearn-color-text-on-default-background);\n",
       "  flex-grow: 1;\n",
       "}\n",
       "\n",
       "#sk-container-id-1 div.sk-parallel {\n",
       "  display: flex;\n",
       "  align-items: stretch;\n",
       "  justify-content: center;\n",
       "  background-color: var(--sklearn-color-background);\n",
       "  position: relative;\n",
       "}\n",
       "\n",
       "#sk-container-id-1 div.sk-parallel-item {\n",
       "  display: flex;\n",
       "  flex-direction: column;\n",
       "}\n",
       "\n",
       "#sk-container-id-1 div.sk-parallel-item:first-child::after {\n",
       "  align-self: flex-end;\n",
       "  width: 50%;\n",
       "}\n",
       "\n",
       "#sk-container-id-1 div.sk-parallel-item:last-child::after {\n",
       "  align-self: flex-start;\n",
       "  width: 50%;\n",
       "}\n",
       "\n",
       "#sk-container-id-1 div.sk-parallel-item:only-child::after {\n",
       "  width: 0;\n",
       "}\n",
       "\n",
       "/* Serial-specific style estimator block */\n",
       "\n",
       "#sk-container-id-1 div.sk-serial {\n",
       "  display: flex;\n",
       "  flex-direction: column;\n",
       "  align-items: center;\n",
       "  background-color: var(--sklearn-color-background);\n",
       "  padding-right: 1em;\n",
       "  padding-left: 1em;\n",
       "}\n",
       "\n",
       "\n",
       "/* Toggleable style: style used for estimator/Pipeline/ColumnTransformer box that is\n",
       "clickable and can be expanded/collapsed.\n",
       "- Pipeline and ColumnTransformer use this feature and define the default style\n",
       "- Estimators will overwrite some part of the style using the `sk-estimator` class\n",
       "*/\n",
       "\n",
       "/* Pipeline and ColumnTransformer style (default) */\n",
       "\n",
       "#sk-container-id-1 div.sk-toggleable {\n",
       "  /* Default theme specific background. It is overwritten whether we have a\n",
       "  specific estimator or a Pipeline/ColumnTransformer */\n",
       "  background-color: var(--sklearn-color-background);\n",
       "}\n",
       "\n",
       "/* Toggleable label */\n",
       "#sk-container-id-1 label.sk-toggleable__label {\n",
       "  cursor: pointer;\n",
       "  display: block;\n",
       "  width: 100%;\n",
       "  margin-bottom: 0;\n",
       "  padding: 0.5em;\n",
       "  box-sizing: border-box;\n",
       "  text-align: center;\n",
       "}\n",
       "\n",
       "#sk-container-id-1 label.sk-toggleable__label-arrow:before {\n",
       "  /* Arrow on the left of the label */\n",
       "  content: \"▸\";\n",
       "  float: left;\n",
       "  margin-right: 0.25em;\n",
       "  color: var(--sklearn-color-icon);\n",
       "}\n",
       "\n",
       "#sk-container-id-1 label.sk-toggleable__label-arrow:hover:before {\n",
       "  color: var(--sklearn-color-text);\n",
       "}\n",
       "\n",
       "/* Toggleable content - dropdown */\n",
       "\n",
       "#sk-container-id-1 div.sk-toggleable__content {\n",
       "  max-height: 0;\n",
       "  max-width: 0;\n",
       "  overflow: hidden;\n",
       "  text-align: left;\n",
       "  /* unfitted */\n",
       "  background-color: var(--sklearn-color-unfitted-level-0);\n",
       "}\n",
       "\n",
       "#sk-container-id-1 div.sk-toggleable__content.fitted {\n",
       "  /* fitted */\n",
       "  background-color: var(--sklearn-color-fitted-level-0);\n",
       "}\n",
       "\n",
       "#sk-container-id-1 div.sk-toggleable__content pre {\n",
       "  margin: 0.2em;\n",
       "  border-radius: 0.25em;\n",
       "  color: var(--sklearn-color-text);\n",
       "  /* unfitted */\n",
       "  background-color: var(--sklearn-color-unfitted-level-0);\n",
       "}\n",
       "\n",
       "#sk-container-id-1 div.sk-toggleable__content.fitted pre {\n",
       "  /* unfitted */\n",
       "  background-color: var(--sklearn-color-fitted-level-0);\n",
       "}\n",
       "\n",
       "#sk-container-id-1 input.sk-toggleable__control:checked~div.sk-toggleable__content {\n",
       "  /* Expand drop-down */\n",
       "  max-height: 200px;\n",
       "  max-width: 100%;\n",
       "  overflow: auto;\n",
       "}\n",
       "\n",
       "#sk-container-id-1 input.sk-toggleable__control:checked~label.sk-toggleable__label-arrow:before {\n",
       "  content: \"▾\";\n",
       "}\n",
       "\n",
       "/* Pipeline/ColumnTransformer-specific style */\n",
       "\n",
       "#sk-container-id-1 div.sk-label input.sk-toggleable__control:checked~label.sk-toggleable__label {\n",
       "  color: var(--sklearn-color-text);\n",
       "  background-color: var(--sklearn-color-unfitted-level-2);\n",
       "}\n",
       "\n",
       "#sk-container-id-1 div.sk-label.fitted input.sk-toggleable__control:checked~label.sk-toggleable__label {\n",
       "  background-color: var(--sklearn-color-fitted-level-2);\n",
       "}\n",
       "\n",
       "/* Estimator-specific style */\n",
       "\n",
       "/* Colorize estimator box */\n",
       "#sk-container-id-1 div.sk-estimator input.sk-toggleable__control:checked~label.sk-toggleable__label {\n",
       "  /* unfitted */\n",
       "  background-color: var(--sklearn-color-unfitted-level-2);\n",
       "}\n",
       "\n",
       "#sk-container-id-1 div.sk-estimator.fitted input.sk-toggleable__control:checked~label.sk-toggleable__label {\n",
       "  /* fitted */\n",
       "  background-color: var(--sklearn-color-fitted-level-2);\n",
       "}\n",
       "\n",
       "#sk-container-id-1 div.sk-label label.sk-toggleable__label,\n",
       "#sk-container-id-1 div.sk-label label {\n",
       "  /* The background is the default theme color */\n",
       "  color: var(--sklearn-color-text-on-default-background);\n",
       "}\n",
       "\n",
       "/* On hover, darken the color of the background */\n",
       "#sk-container-id-1 div.sk-label:hover label.sk-toggleable__label {\n",
       "  color: var(--sklearn-color-text);\n",
       "  background-color: var(--sklearn-color-unfitted-level-2);\n",
       "}\n",
       "\n",
       "/* Label box, darken color on hover, fitted */\n",
       "#sk-container-id-1 div.sk-label.fitted:hover label.sk-toggleable__label.fitted {\n",
       "  color: var(--sklearn-color-text);\n",
       "  background-color: var(--sklearn-color-fitted-level-2);\n",
       "}\n",
       "\n",
       "/* Estimator label */\n",
       "\n",
       "#sk-container-id-1 div.sk-label label {\n",
       "  font-family: monospace;\n",
       "  font-weight: bold;\n",
       "  display: inline-block;\n",
       "  line-height: 1.2em;\n",
       "}\n",
       "\n",
       "#sk-container-id-1 div.sk-label-container {\n",
       "  text-align: center;\n",
       "}\n",
       "\n",
       "/* Estimator-specific */\n",
       "#sk-container-id-1 div.sk-estimator {\n",
       "  font-family: monospace;\n",
       "  border: 1px dotted var(--sklearn-color-border-box);\n",
       "  border-radius: 0.25em;\n",
       "  box-sizing: border-box;\n",
       "  margin-bottom: 0.5em;\n",
       "  /* unfitted */\n",
       "  background-color: var(--sklearn-color-unfitted-level-0);\n",
       "}\n",
       "\n",
       "#sk-container-id-1 div.sk-estimator.fitted {\n",
       "  /* fitted */\n",
       "  background-color: var(--sklearn-color-fitted-level-0);\n",
       "}\n",
       "\n",
       "/* on hover */\n",
       "#sk-container-id-1 div.sk-estimator:hover {\n",
       "  /* unfitted */\n",
       "  background-color: var(--sklearn-color-unfitted-level-2);\n",
       "}\n",
       "\n",
       "#sk-container-id-1 div.sk-estimator.fitted:hover {\n",
       "  /* fitted */\n",
       "  background-color: var(--sklearn-color-fitted-level-2);\n",
       "}\n",
       "\n",
       "/* Specification for estimator info (e.g. \"i\" and \"?\") */\n",
       "\n",
       "/* Common style for \"i\" and \"?\" */\n",
       "\n",
       ".sk-estimator-doc-link,\n",
       "a:link.sk-estimator-doc-link,\n",
       "a:visited.sk-estimator-doc-link {\n",
       "  float: right;\n",
       "  font-size: smaller;\n",
       "  line-height: 1em;\n",
       "  font-family: monospace;\n",
       "  background-color: var(--sklearn-color-background);\n",
       "  border-radius: 1em;\n",
       "  height: 1em;\n",
       "  width: 1em;\n",
       "  text-decoration: none !important;\n",
       "  margin-left: 1ex;\n",
       "  /* unfitted */\n",
       "  border: var(--sklearn-color-unfitted-level-1) 1pt solid;\n",
       "  color: var(--sklearn-color-unfitted-level-1);\n",
       "}\n",
       "\n",
       ".sk-estimator-doc-link.fitted,\n",
       "a:link.sk-estimator-doc-link.fitted,\n",
       "a:visited.sk-estimator-doc-link.fitted {\n",
       "  /* fitted */\n",
       "  border: var(--sklearn-color-fitted-level-1) 1pt solid;\n",
       "  color: var(--sklearn-color-fitted-level-1);\n",
       "}\n",
       "\n",
       "/* On hover */\n",
       "div.sk-estimator:hover .sk-estimator-doc-link:hover,\n",
       ".sk-estimator-doc-link:hover,\n",
       "div.sk-label-container:hover .sk-estimator-doc-link:hover,\n",
       ".sk-estimator-doc-link:hover {\n",
       "  /* unfitted */\n",
       "  background-color: var(--sklearn-color-unfitted-level-3);\n",
       "  color: var(--sklearn-color-background);\n",
       "  text-decoration: none;\n",
       "}\n",
       "\n",
       "div.sk-estimator.fitted:hover .sk-estimator-doc-link.fitted:hover,\n",
       ".sk-estimator-doc-link.fitted:hover,\n",
       "div.sk-label-container:hover .sk-estimator-doc-link.fitted:hover,\n",
       ".sk-estimator-doc-link.fitted:hover {\n",
       "  /* fitted */\n",
       "  background-color: var(--sklearn-color-fitted-level-3);\n",
       "  color: var(--sklearn-color-background);\n",
       "  text-decoration: none;\n",
       "}\n",
       "\n",
       "/* Span, style for the box shown on hovering the info icon */\n",
       ".sk-estimator-doc-link span {\n",
       "  display: none;\n",
       "  z-index: 9999;\n",
       "  position: relative;\n",
       "  font-weight: normal;\n",
       "  right: .2ex;\n",
       "  padding: .5ex;\n",
       "  margin: .5ex;\n",
       "  width: min-content;\n",
       "  min-width: 20ex;\n",
       "  max-width: 50ex;\n",
       "  color: var(--sklearn-color-text);\n",
       "  box-shadow: 2pt 2pt 4pt #999;\n",
       "  /* unfitted */\n",
       "  background: var(--sklearn-color-unfitted-level-0);\n",
       "  border: .5pt solid var(--sklearn-color-unfitted-level-3);\n",
       "}\n",
       "\n",
       ".sk-estimator-doc-link.fitted span {\n",
       "  /* fitted */\n",
       "  background: var(--sklearn-color-fitted-level-0);\n",
       "  border: var(--sklearn-color-fitted-level-3);\n",
       "}\n",
       "\n",
       ".sk-estimator-doc-link:hover span {\n",
       "  display: block;\n",
       "}\n",
       "\n",
       "/* \"?\"-specific style due to the `<a>` HTML tag */\n",
       "\n",
       "#sk-container-id-1 a.estimator_doc_link {\n",
       "  float: right;\n",
       "  font-size: 1rem;\n",
       "  line-height: 1em;\n",
       "  font-family: monospace;\n",
       "  background-color: var(--sklearn-color-background);\n",
       "  border-radius: 1rem;\n",
       "  height: 1rem;\n",
       "  width: 1rem;\n",
       "  text-decoration: none;\n",
       "  /* unfitted */\n",
       "  color: var(--sklearn-color-unfitted-level-1);\n",
       "  border: var(--sklearn-color-unfitted-level-1) 1pt solid;\n",
       "}\n",
       "\n",
       "#sk-container-id-1 a.estimator_doc_link.fitted {\n",
       "  /* fitted */\n",
       "  border: var(--sklearn-color-fitted-level-1) 1pt solid;\n",
       "  color: var(--sklearn-color-fitted-level-1);\n",
       "}\n",
       "\n",
       "/* On hover */\n",
       "#sk-container-id-1 a.estimator_doc_link:hover {\n",
       "  /* unfitted */\n",
       "  background-color: var(--sklearn-color-unfitted-level-3);\n",
       "  color: var(--sklearn-color-background);\n",
       "  text-decoration: none;\n",
       "}\n",
       "\n",
       "#sk-container-id-1 a.estimator_doc_link.fitted:hover {\n",
       "  /* fitted */\n",
       "  background-color: var(--sklearn-color-fitted-level-3);\n",
       "}\n",
       "</style><div id=\"sk-container-id-1\" class=\"sk-top-container\"><div class=\"sk-text-repr-fallback\"><pre>SVC(kernel=&#x27;linear&#x27;, probability=True)</pre><b>In a Jupyter environment, please rerun this cell to show the HTML representation or trust the notebook. <br />On GitHub, the HTML representation is unable to render, please try loading this page with nbviewer.org.</b></div><div class=\"sk-container\" hidden><div class=\"sk-item\"><div class=\"sk-estimator fitted sk-toggleable\"><input class=\"sk-toggleable__control sk-hidden--visually\" id=\"sk-estimator-id-1\" type=\"checkbox\" checked><label for=\"sk-estimator-id-1\" class=\"sk-toggleable__label fitted sk-toggleable__label-arrow fitted\">&nbsp;&nbsp;SVC<a class=\"sk-estimator-doc-link fitted\" rel=\"noreferrer\" target=\"_blank\" href=\"https://scikit-learn.org/1.5/modules/generated/sklearn.svm.SVC.html\">?<span>Documentation for SVC</span></a><span class=\"sk-estimator-doc-link fitted\">i<span>Fitted</span></span></label><div class=\"sk-toggleable__content fitted\"><pre>SVC(kernel=&#x27;linear&#x27;, probability=True)</pre></div> </div></div></div></div>"
      ],
      "text/plain": [
       "SVC(kernel='linear', probability=True)"
      ]
     },
     "execution_count": 31,
     "metadata": {},
     "output_type": "execute_result"
    }
   ],
   "source": [
    "# train the classifier with the training data\n",
    "classifier.fit(A, y_train)"
   ]
  },
  {
   "cell_type": "code",
   "execution_count": 36,
   "metadata": {
    "ExecuteTime": {
     "end_time": "2019-06-17T01:35:47.210207Z",
     "start_time": "2019-06-17T01:35:47.199250Z"
    },
    "id": "inkg1KTiLcgi"
   },
   "outputs": [],
   "source": [
    "# do the transformation for the test data\n",
    "# NOTE: use `transform()` instead of `fit_transform()`\n",
    "B = counts.transform(X_test)"
   ]
  },
  {
   "cell_type": "code",
   "execution_count": 37,
   "metadata": {
    "ExecuteTime": {
     "end_time": "2019-06-17T01:35:51.223067Z",
     "start_time": "2019-06-17T01:35:51.209096Z"
    },
    "id": "dg-HpdJ0Lcgk"
   },
   "outputs": [],
   "source": [
    "# make predictions based on the test data\n",
    "predictions = classifier.predict(B)\n",
    "\n",
    "# store probabilities of predictions being 1\n",
    "probabilities = classifier.predict_proba(B)[:, 1]"
   ]
  },
  {
   "cell_type": "code",
   "execution_count": 38,
   "metadata": {
    "ExecuteTime": {
     "end_time": "2019-06-17T01:35:54.779047Z",
     "start_time": "2019-06-17T01:35:54.771069Z"
    },
    "id": "t0HJn9qhLcgm",
    "outputId": "0bc7328f-ed1e-4259-e02f-981413ab8bc4"
   },
   "outputs": [
    {
     "name": "stdout",
     "output_type": "stream",
     "text": [
      "Accuracy: 0.7564\n"
     ]
    }
   ],
   "source": [
    "# check the accuracy\n",
    "print('Accuracy: %.4f' % accuracy_score(y_test, predictions))"
   ]
  },
  {
   "cell_type": "markdown",
   "metadata": {
    "id": "z-Ia6a8ULcgn"
   },
   "source": [
    "## Repeat using TF-IDF\n",
    "TF-IDF = Term Frequency - Inverse Document Frequency"
   ]
  },
  {
   "cell_type": "code",
   "execution_count": 40,
   "metadata": {
    "ExecuteTime": {
     "end_time": "2019-06-17T01:36:02.927008Z",
     "start_time": "2019-06-17T01:36:02.785387Z"
    },
    "id": "7Tg1dwSpLcgo",
    "outputId": "256d6cbb-663b-4f6d-daa6-c609c9ec18ad"
   },
   "outputs": [
    {
     "name": "stdout",
     "output_type": "stream",
     "text": [
      "Accuracy: 0.7927\n"
     ]
    }
   ],
   "source": [
    "# create a matrix of word counts from the text\n",
    "# use TF-IDF\n",
    "tfidf = TfidfVectorizer()\n",
    "# do the actual counting\n",
    "A = tfidf.fit_transform(X_train, y_train)\n",
    "\n",
    "# train the classifier with the training data\n",
    "classifier.fit(A, y_train)\n",
    "\n",
    "# do the transformation for the test data\n",
    "# NOTE: use `transform()` instead of `fit_transform()`\n",
    "B = tfidf.transform(X_test)\n",
    "\n",
    "# make predictions based on the test data\n",
    "predictions = classifier.predict(B)\n",
    "\n",
    "# store probabilities of predictions being 1\n",
    "probabilities = classifier.predict_proba(B)[:, 1]\n",
    "\n",
    "# check the accuracy\n",
    "print('Accuracy: %.4f' % accuracy_score(y_test, predictions))"
   ]
  },
  {
   "cell_type": "markdown",
   "metadata": {
    "id": "CXbw_oNdZAHv"
   },
   "source": [
    "## Defining a helper function to show results and charts"
   ]
  },
  {
   "cell_type": "code",
   "execution_count": 42,
   "metadata": {
    "ExecuteTime": {
     "end_time": "2019-06-17T01:35:22.212854Z",
     "start_time": "2019-06-17T01:35:22.040284Z"
    },
    "id": "eJZpD903LcgQ"
   },
   "outputs": [],
   "source": [
    "\n",
    "def show_summary_report(actual, prediction, probabilities):\n",
    "\n",
    "    if isinstance(actual, pd.Series):\n",
    "        actual = actual.values.astype(int)\n",
    "    prediction = prediction.astype(int)\n",
    "\n",
    "    accuracy_ = accuracy_score(actual, prediction)\n",
    "    precision_ = precision_score(actual, prediction)\n",
    "    recall_ = recall_score(actual, prediction)\n",
    "    roc_auc_ = roc_auc_score(actual, probabilities)\n",
    "\n",
    "    print('Accuracy : %.4f [TP / N] Proportion of predicted labels that match the true labels. Best: 1, Worst: 0' % accuracy_)\n",
    "    print('Precision: %.4f [TP / (TP + FP)] Not to label a negative sample as positive.        Best: 1, Worst: 0' % precision_)\n",
    "    print('Recall   : %.4f [TP / (TP + FN)] Find all the positive samples.                     Best: 1, Worst: 0' % recall_)\n",
    "    print('ROC AUC  : %.4f                                                                     Best: 1, Worst: < 0.5' % roc_auc_)\n",
    "    print('-' * 107)\n",
    "    print('TP: True Positives, FP: False Positives, TN: True Negatives, FN: False Negatives, N: Number of samples')\n",
    "\n",
    "    # Confusion Matrix\n",
    "    mat = confusion_matrix(actual, prediction)\n",
    "\n",
    "    # Precision/Recall\n",
    "    precision, recall, _ = precision_recall_curve(actual, probabilities)\n",
    "    average_precision = average_precision_score(actual, probabilities)\n",
    "\n",
    "    # Compute ROC curve and ROC area\n",
    "    fpr, tpr, _ = roc_curve(actual, probabilities)\n",
    "    roc_auc = auc(fpr, tpr)\n",
    "\n",
    "\n",
    "    # plot\n",
    "    fig, ax = plt.subplots(1, 3, figsize = (18, 6))\n",
    "    fig.subplots_adjust(left = 0.02, right = 0.98, wspace = 0.2)\n",
    "\n",
    "    # Confusion Matrix\n",
    "    sns.heatmap(mat.T, square = True, annot = True, fmt = 'd', cbar = False, cmap = 'Blues', ax = ax[0])\n",
    "\n",
    "    ax[0].set_title('Confusion Matrix')\n",
    "    ax[0].set_xlabel('True label')\n",
    "    ax[0].set_ylabel('Predicted label')\n",
    "\n",
    "    # Precision/Recall\n",
    "    step_kwargs = {'step': 'post'}\n",
    "    ax[1].step(recall, precision, color = 'b', alpha = 0.2, where = 'post')\n",
    "    ax[1].fill_between(recall, precision, alpha = 0.2, color = 'b', **step_kwargs)\n",
    "    ax[1].set_ylim([0.0, 1.0])\n",
    "    ax[1].set_xlim([0.0, 1.0])\n",
    "    ax[1].set_xlabel('Recall')\n",
    "    ax[1].set_ylabel('Precision')\n",
    "    ax[1].set_title('2-class Precision-Recall curve')\n",
    "\n",
    "    # ROC\n",
    "    ax[2].plot(fpr, tpr, color = 'darkorange', lw = 2, label = 'ROC curve (AUC = %0.2f)' % roc_auc)\n",
    "    ax[2].plot([0, 1], [0, 1], color = 'navy', lw = 2, linestyle = '--')\n",
    "    ax[2].set_xlim([0.0, 1.0])\n",
    "    ax[2].set_ylim([0.0, 1.0])\n",
    "    ax[2].set_xlabel('False Positive Rate')\n",
    "    ax[2].set_ylabel('True Positive Rate')\n",
    "    ax[2].set_title('Receiver Operating Characteristic')\n",
    "    ax[2].legend(loc = 'lower right')\n",
    "\n",
    "    plt.show()\n",
    "\n",
    "    return (accuracy_, precision_, recall_, roc_auc_)"
   ]
  },
  {
   "cell_type": "markdown",
   "metadata": {
    "id": "O5PTu402Lcgq"
   },
   "source": [
    "## Repeating it all for comparison\n",
    "Repeat the whole lot in one big block using the show_summary_report function.\n",
    "\n",
    "Find 'Accuracy', 'Precision', 'Recall', 'ROC_AUC' using CountVectorizer and TfidfVectorizer and keep the result in a dataframe."
   ]
  },
  {
   "cell_type": "code",
   "execution_count": 44,
   "metadata": {
    "ExecuteTime": {
     "end_time": "2019-06-17T01:37:30.200048Z",
     "start_time": "2019-06-17T01:37:30.197044Z"
    },
    "id": "_98CzdfPLcgq"
   },
   "outputs": [
    {
     "name": "stdout",
     "output_type": "stream",
     "text": [
      "**********\n",
      "* counts *\n",
      "**********\n",
      "Accuracy : 0.7564 [TP / N] Proportion of predicted labels that match the true labels. Best: 1, Worst: 0\n",
      "Precision: 0.7569 [TP / (TP + FP)] Not to label a negative sample as positive.        Best: 1, Worst: 0\n",
      "Recall   : 0.7283 [TP / (TP + FN)] Find all the positive samples.                     Best: 1, Worst: 0\n",
      "ROC AUC  : 0.8474                                                                     Best: 1, Worst: < 0.5\n",
      "-----------------------------------------------------------------------------------------------------------\n",
      "TP: True Positives, FP: False Positives, TN: True Negatives, FN: False Negatives, N: Number of samples\n"
     ]
    },
    {
     "data": {
      "image/png": "[encoded data removed]",
      "text/plain": [
       "<Figure size 1800x600 with 3 Axes>"
      ]
     },
     "metadata": {},
     "output_type": "display_data"
    },
    {
     "name": "stdout",
     "output_type": "stream",
     "text": [
      "**********\n",
      "* TF-IDX *\n",
      "**********\n",
      "Accuracy : 0.7927 [TP / N] Proportion of predicted labels that match the true labels. Best: 1, Worst: 0\n",
      "Precision: 0.7938 [TP / (TP + FP)] Not to label a negative sample as positive.        Best: 1, Worst: 0\n",
      "Recall   : 0.7698 [TP / (TP + FN)] Find all the positive samples.                     Best: 1, Worst: 0\n",
      "ROC AUC  : 0.8687                                                                     Best: 1, Worst: < 0.5\n",
      "-----------------------------------------------------------------------------------------------------------\n",
      "TP: True Positives, FP: False Positives, TN: True Negatives, FN: False Negatives, N: Number of samples\n"
     ]
    },
    {
     "data": {
      "image/png": "[encoded data removed]",
      "text/plain": [
       "<Figure size 1800x600 with 3 Axes>"
      ]
     },
     "metadata": {},
     "output_type": "display_data"
    }
   ],
   "source": [
    "# ANSWER\n",
    "results = pd.DataFrame(columns =['Model', 'Accuracy', 'Precision', 'Recall', 'ROC_AUC'])\n",
    "models = ['counts', 'TF-IDX']\n",
    "for i , m in enumerate([CountVectorizer(), TfidfVectorizer()]):\n",
    "    print('*' * (len(models[i]) +4 ))\n",
    "    print('* %s *' % models[i])\n",
    "    print('*' * (len(models[i]) +4))\n",
    "\n",
    "    counts = m\n",
    "\n",
    "    A = counts.fit_transform(X_train, y_train)\n",
    "\n",
    "    Classifier = SVC(kernel = 'linear', probability = True)\n",
    "\n",
    "    classifier.fit(A, y_train)\n",
    "\n",
    "    B = counts.transform(X_test)\n",
    "\n",
    "    predictions = classifier.predict(B)\n",
    "\n",
    "    probabilities = classifier.predict_proba(B)[:, 1]\n",
    "\n",
    "    accuracy_ , precision_, recall_, roc_auc_ = show_summary_report(y_test, predictions, probabilities)\n",
    "\n",
    "    results.loc[i] = {\n",
    "        'models' : models[i],\n",
    "        'accuracy' : accuracy_,\n",
    "        'precision' : precision_,\n",
    "        'recall' : recall_,\n",
    "        'ROC_AUC' : roc_auc_ }\n",
    "    "
   ]
  },
  {
   "cell_type": "markdown",
   "metadata": {
    "id": "G4RM_09UDt_r"
   },
   "source": [
    "## Bonus: Sentiment analysis with a pre-trained Large Language Model"
   ]
  },
  {
   "cell_type": "markdown",
   "metadata": {
    "id": "-kt20XkBD3ha"
   },
   "source": [
    "In this section we perform the sentiment analysis using a fine-tuned version of the Distilbert Large Language Model. Distilbert is a lighter-weight modification of BERT (which was developed by Google AI), having 60% as many parameters while maintaining 95% of the performance. The fine tuning is carried out on the SST2 (Stanford Sentiment Treebank v2) dataset (further details at https://huggingface.co/distilbert/distilbert-base-uncased-finetuned-sst-2-english)."
   ]
  },
  {
   "cell_type": "markdown",
   "metadata": {
    "id": "4CnYWgCAD6mX"
   },
   "source": [
    "This model will be accessed via [Hugging Face](https://huggingface.co/). Sign up for a free account at https://huggingface.co/ and then create a new token ('Read' type) via https://huggingface.co/settings/tokens . Copy-paste it into an empty text file called 'hf_token.txt'."
   ]
  },
  {
   "cell_type": "code",
   "execution_count": 48,
   "metadata": {
    "id": "71reen5ID_lG"
   },
   "outputs": [],
   "source": [
    "# import libraries for accessing the Hugging Face model\n",
    "import json\n",
    "import requests"
   ]
  },
  {
   "cell_type": "code",
   "execution_count": 49,
   "metadata": {
    "id": "315Ixg_5EJlO"
   },
   "outputs": [],
   "source": [
    "with open(r\"hf_token.txt\", 'r') as file: # this file contains only the token created via  https://huggingface.co/settings/tokens\n",
    "    HUGGINGFACEHUB_API_TOKEN = file.read().strip()"
   ]
  },
  {
   "cell_type": "code",
   "execution_count": 50,
   "metadata": {
    "id": "g-icPUV9ENRX"
   },
   "outputs": [],
   "source": [
    "API_URL = \"https://api-inference.huggingface.co/models/distilbert/distilbert-base-uncased-finetuned-sst-2-english\"\n",
    "headers = {\"Authorization\": f\"Bearer {HUGGINGFACEHUB_API_TOKEN}\"}"
   ]
  },
  {
   "cell_type": "markdown",
   "metadata": {
    "id": "SeRqAO9cESV0"
   },
   "source": [
    "The following function makes an API request to the model and returns a response in JSON form."
   ]
  },
  {
   "cell_type": "code",
   "execution_count": 52,
   "metadata": {
    "id": "dOMfc73dEXKK"
   },
   "outputs": [],
   "source": [
    "def query(payload):\n",
    "\tresponse = requests.post(API_URL, headers=headers, json=payload)\n",
    "\treturn response.json()"
   ]
  },
  {
   "cell_type": "markdown",
   "metadata": {
    "id": "c1sXVUWHEcN7"
   },
   "source": [
    "Observe the structure of the output when a couple of sentences are applied as inputs:"
   ]
  },
  {
   "cell_type": "code",
   "execution_count": 54,
   "metadata": {
    "id": "0gGYTXH5Ef-0"
   },
   "outputs": [
    {
     "data": {
      "text/plain": [
       "[[{'label': 'POSITIVE', 'score': 0.9998832941055298},\n",
       "  {'label': 'NEGATIVE', 'score': 0.998581051826477}]]"
      ]
     },
     "execution_count": 54,
     "metadata": {},
     "output_type": "execute_result"
    }
   ],
   "source": [
    "output = query({\n",
    "\t\"inputs\": [\"This is a fantastic product.\", \"No way is this possible!\"]\n",
    "})\n",
    "\n",
    "output # wait for the model to load if an error message appears at first"
   ]
  },
  {
   "cell_type": "markdown",
   "metadata": {
    "id": "d2JffgSDEkdO"
   },
   "source": [
    "The following code extracts the probability of positive predictions:"
   ]
  },
  {
   "cell_type": "code",
   "execution_count": 56,
   "metadata": {
    "id": "fGhs-9E0EnIx"
   },
   "outputs": [
    {
     "data": {
      "text/plain": [
       "[0.9998832941055298, 0.0014189481735229492]"
      ]
     },
     "execution_count": 56,
     "metadata": {},
     "output_type": "execute_result"
    }
   ],
   "source": [
    "[x['score'] if x['label'] == 'POSITIVE' else 1-x['score'] for x in output[0]]"
   ]
  },
  {
   "cell_type": "markdown",
   "metadata": {
    "id": "1Cuslxo5EsaP"
   },
   "source": [
    "Based on this a function is created to take in an output from the LLM and produce arrays of predictions and probabilities:"
   ]
  },
  {
   "cell_type": "code",
   "execution_count": 63,
   "metadata": {
    "id": "f6j-A7LlEtEw"
   },
   "outputs": [],
   "source": [
    "def llm_predict(output):\n",
    "    probs = [x['score'] if x['label'] == 'POSITIVE' else 1-x['score'] for x in output[0]]\n",
    "    preds = [round(x) for x in probs]\n",
    "    return np.array(preds), np.array(probs)"
   ]
  },
  {
   "cell_type": "markdown",
   "metadata": {
    "id": "GnetdzfmEw2L"
   },
   "source": [
    "Next we shall evaluate this model on X_test, y_test."
   ]
  },
  {
   "cell_type": "code",
   "execution_count": 79,
   "metadata": {
    "id": "FucwupK4EzzX"
   },
   "outputs": [],
   "source": [
    "output = query({\"inputs\": list(X_test.values)})"
   ]
  },
  {
   "cell_type": "markdown",
   "metadata": {
    "id": "mBONnIcBE2tu"
   },
   "source": [
    "Use the above `llm_predict` to calculate predictions and probabilities on `output` and then call the `show_summary_report` function to evaluate the performance on the test set."
   ]
  },
  {
   "cell_type": "code",
   "execution_count": 81,
   "metadata": {
    "id": "Mf5uU_XBE7Ef"
   },
   "outputs": [
    {
     "name": "stdout",
     "output_type": "stream",
     "text": [
      "[1 0 0 1 0 1 1 0 0 1 0 1 0 1 1 0 0 0 1 0 0 1 0 1 1 1 1 1 1 0 0 1 1 1 1 1 1\n",
      " 0 0 0 0 0 1 0 0 0 1 1 1 0 0 0 1 1 1 0 0 0 0 1 1 1 0 0 1 1 1 1 1 1 1 1 0 1\n",
      " 0 0 0 0 0 1 1 0 1 1 0 1 0 1 1 0 0 0 1 0 0 0 1 1 0 0 1 0 1 0 0 0 0 1 0 0 1\n",
      " 0 1 0 1 1 1 0 0 0 0 1 0 0 0 0 1 1 0 1 1 1 0 0 1 0 0 1 1 1 1 1 0 0 0 0 0 1\n",
      " 0 0 1 0 1 1 0 1 0 0 1 0 1 1 1 0 1 0 1 1 0 0 0 0 1 0 0 0 0 1 1 1 1 1 1 0 1\n",
      " 1 1 0 1 1 1 1 1 1 0 1 0 1 0 0 0 1 1 1 1 1 1 1 1 1 0 1 1 1 0 1 0 0 1 1 1 1\n",
      " 0 1 1 0 0 0 0 1 0 0 0 1 1 1 1 0 0 1 0 1 0 0 0 1 1 1 1 0 1 0 1 0 0 1 0 1 1\n",
      " 0 0 0 1 1 1 0 1 1 0 1 1 1 0 1 1 1 0 0 0 1 0 0 1 1 1 1 1 0 1 1 0 1 0 0 1 1\n",
      " 1 1 0 0 0 1 1 1 1 1 0 1 0 1 0 0 0 0 1 1 0 0 1 0 1 1 1 0 1 0 0 1 1 1 1 1 0\n",
      " 0 1 0 0 0 0 1 1 1 0 0 1 1 1 1 1 1 1 1 0 1 1 0 0 0 1 1 1 0 1 0 1 1 1 1 0 0\n",
      " 1 0 0 1 1 0 1 0 0 0 0 0 0 1 0 0 1 1 1 1 1 0 0 1 1 0 1 1 1 1 1 0 1 1 1 1 1\n",
      " 0 1 0 1 1 0 0 0 0 1 1 0 0 1 0 0 0 0 1 0 0 1 1 0 1 0 1 1 0 1 1 1 0 1 0 0 1\n",
      " 1 0 1 0 1 1 1 1 1 0 0 0 1 0 0 0 0 0 1 0 1 1 1 0 0 0 1 0 1 0 1 1 1 1 0 1 1\n",
      " 1 1 0 1 1 1 0 0 1 1 1 0 1 1 0 0 1 1 0 1 0 1 0 0 1 1 1 0 1 1 1 0 1 0 0 1 1\n",
      " 0 1 1 0 1 1 0 0 1 0 1 1 0 0 0 1 1 1 1 1 1 0 1 1 1 1 0 0 1 0 0 0]\n",
      "[9.99880314e-01 1.91628933e-04 2.01479793e-02 9.96148467e-01\n",
      " 2.04622746e-04 9.99881387e-01 9.99855042e-01 6.68013096e-03\n",
      " 6.08563423e-04 9.60905492e-01 4.29093838e-04 9.71434951e-01\n",
      " 6.34253025e-04 9.99812067e-01 9.97021735e-01 4.95195389e-04\n",
      " 1.84589624e-03 3.70502472e-04 9.99780357e-01 1.11645460e-03\n",
      " 7.14619160e-02 9.98682082e-01 3.46541405e-04 9.77330923e-01\n",
      " 9.99863744e-01 9.99856949e-01 9.96891916e-01 9.97900724e-01\n",
      " 9.99861479e-01 8.71598721e-04 4.32246923e-03 9.99754965e-01\n",
      " 9.99401450e-01 9.66093481e-01 9.12727177e-01 7.79777169e-01\n",
      " 9.99670148e-01 4.37105894e-02 2.39551067e-04 3.07083726e-01\n",
      " 1.08039379e-02 6.36386871e-03 9.99875307e-01 2.36511230e-02\n",
      " 3.97008657e-03 1.10858679e-03 9.99868274e-01 9.99633193e-01\n",
      " 9.99338210e-01 2.09510326e-04 1.97470188e-04 2.73859501e-03\n",
      " 9.99861717e-01 9.97771561e-01 9.99788940e-01 4.79507446e-03\n",
      " 3.50826979e-03 1.79052353e-03 2.69644260e-02 9.96785879e-01\n",
      " 9.99870658e-01 9.99636173e-01 1.48552239e-01 1.19263828e-01\n",
      " 9.84238088e-01 9.98546004e-01 9.97423887e-01 9.99858856e-01\n",
      " 9.89815116e-01 9.99854922e-01 6.32918179e-01 9.99856949e-01\n",
      " 5.06681204e-03 9.99766648e-01 2.17497349e-04 4.67777252e-04\n",
      " 1.81257725e-04 2.03871727e-03 2.19881535e-04 9.99307871e-01\n",
      " 9.90378737e-01 1.16249323e-02 9.99888659e-01 9.98513043e-01\n",
      " 1.19933486e-02 9.98697519e-01 7.80224800e-04 9.96338367e-01\n",
      " 9.98005807e-01 9.27668810e-03 2.25639343e-03 9.57548618e-04\n",
      " 9.99047220e-01 2.84560323e-02 2.01044083e-02 7.65085220e-03\n",
      " 9.77656007e-01 9.99293923e-01 1.05780363e-03 1.05410814e-02\n",
      " 9.99322772e-01 3.09389830e-03 9.99857426e-01 2.60424614e-03\n",
      " 9.24122334e-03 2.10344791e-04 1.03425980e-03 9.45057988e-01\n",
      " 2.68170834e-02 1.70594454e-03 9.99881387e-01 1.63251162e-03\n",
      " 9.36112523e-01 4.90385294e-03 9.94638026e-01 9.99841452e-01\n",
      " 5.67130387e-01 2.75313854e-04 5.09142876e-04 2.13325024e-04\n",
      " 1.96993351e-04 9.99855161e-01 2.55048275e-04 7.91609287e-04\n",
      " 7.94804096e-03 1.35430694e-02 9.99841571e-01 9.97998536e-01\n",
      " 5.73039055e-04 9.91155744e-01 9.96269584e-01 9.99872446e-01\n",
      " 2.19166279e-04 2.73764133e-04 9.99549448e-01 4.35960293e-03\n",
      " 1.19933486e-02 9.99518514e-01 9.99812305e-01 9.99876976e-01\n",
      " 9.99869704e-01 9.99856710e-01 4.87685204e-04 3.13520432e-04\n",
      " 8.70627165e-03 7.79080391e-03 3.31252813e-03 9.93478656e-01\n",
      " 1.43265724e-03 3.35693359e-04 9.98552263e-01 5.97596169e-04\n",
      " 9.99568284e-01 9.99880195e-01 1.33883953e-03 9.91717041e-01\n",
      " 1.80588245e-01 3.30321193e-02 9.99849081e-01 3.27244997e-02\n",
      " 9.99788821e-01 9.93778884e-01 9.53535020e-01 4.59676504e-01\n",
      " 9.95472610e-01 2.99841166e-03 9.98758078e-01 9.94142473e-01\n",
      " 4.11635637e-03 4.99367714e-04 3.43167782e-03 3.59273553e-02\n",
      " 9.99831557e-01 1.21011138e-02 5.88625073e-02 5.17249107e-04\n",
      " 7.58352876e-02 9.99716222e-01 9.99185622e-01 9.92646933e-01\n",
      " 9.87290800e-01 9.99851108e-01 9.99786913e-01 7.00622201e-02\n",
      " 9.99846101e-01 9.99885201e-01 9.74452317e-01 2.63631344e-04\n",
      " 9.99647975e-01 9.98899579e-01 9.99879003e-01 9.99766648e-01\n",
      " 9.73654926e-01 9.89648283e-01 2.55048275e-04 9.99755681e-01\n",
      " 1.51377916e-03 9.52247560e-01 1.59080029e-02 2.16662884e-04\n",
      " 2.27179527e-02 8.93027365e-01 9.93692636e-01 9.99735534e-01\n",
      " 9.99811828e-01 9.99846220e-01 9.30981219e-01 9.99653697e-01\n",
      " 9.99855280e-01 9.91056442e-01 2.11656094e-04 9.84485626e-01\n",
      " 9.99813259e-01 9.08651233e-01 1.83933973e-03 9.97106731e-01\n",
      " 5.19084930e-03 3.06844711e-03 9.99855995e-01 9.99862671e-01\n",
      " 9.99751627e-01 9.96334910e-01 4.20618057e-03 9.03271675e-01\n",
      " 9.99724925e-01 5.96523285e-04 9.94980335e-04 3.07905674e-03\n",
      " 1.18611336e-01 9.99834776e-01 2.40385532e-04 5.32567501e-04\n",
      " 1.67328119e-03 9.99855399e-01 9.99315143e-01 9.98749018e-01\n",
      " 9.98849154e-01 3.16023827e-04 2.03657150e-03 8.83599579e-01\n",
      " 1.47083998e-02 9.99760807e-01 2.10583210e-04 1.09601021e-03\n",
      " 1.29055977e-03 9.99522328e-01 9.99878526e-01 9.99853015e-01\n",
      " 9.99166489e-01 1.61565363e-01 9.99546707e-01 1.96993351e-04\n",
      " 9.84512329e-01 8.90910625e-03 1.90675259e-04 9.89957631e-01\n",
      " 4.19914722e-04 9.59682882e-01 9.99847174e-01 1.05438828e-02\n",
      " 2.08765268e-03 1.68516934e-01 9.97786760e-01 9.99874234e-01\n",
      " 9.99838829e-01 1.83641911e-04 9.99867797e-01 9.99571860e-01\n",
      " 6.62249327e-03 9.95170176e-01 9.95971382e-01 9.81397152e-01\n",
      " 1.02838874e-02 9.96590734e-01 9.99827325e-01 9.84940469e-01\n",
      " 8.57847929e-03 2.79009342e-04 1.69627070e-02 9.98748779e-01\n",
      " 5.89489937e-03 8.42714906e-02 8.38998199e-01 9.97330308e-01\n",
      " 9.99854684e-01 9.99806941e-01 9.98410344e-01 7.23421574e-04\n",
      " 9.95723248e-01 9.99850631e-01 6.60192966e-03 9.99858379e-01\n",
      " 1.31325781e-01 5.08898497e-03 9.99849558e-01 9.98668432e-01\n",
      " 9.74212885e-01 9.99875307e-01 7.53985047e-02 3.62634659e-04\n",
      " 2.67326832e-04 9.99148369e-01 9.53090489e-01 9.99863148e-01\n",
      " 9.99814928e-01 9.72377241e-01 1.90767050e-02 9.98916745e-01\n",
      " 4.23721075e-02 9.99301076e-01 8.56280327e-04 3.15159559e-03\n",
      " 2.15232372e-04 3.27819586e-03 9.98303413e-01 8.06067109e-01\n",
      " 1.52570009e-03 4.34990644e-01 9.99818385e-01 2.98337936e-02\n",
      " 9.98123109e-01 9.99834538e-01 7.99232364e-01 1.60332263e-01\n",
      " 9.54504907e-01 2.93791294e-04 3.59964371e-03 9.91355002e-01\n",
      " 9.99844551e-01 9.99811590e-01 9.99786437e-01 9.99607027e-01\n",
      " 2.76744366e-04 2.16442347e-03 9.99861717e-01 9.66686010e-03\n",
      " 2.74783373e-03 2.25365162e-04 4.77390885e-02 9.98371303e-01\n",
      " 9.99881029e-01 5.02667904e-01 4.68742847e-03 2.98082829e-04\n",
      " 9.99869823e-01 9.98559773e-01 9.07432079e-01 6.21728301e-01\n",
      " 9.86967266e-01 9.99619126e-01 9.99728382e-01 9.99832988e-01\n",
      " 2.50971317e-03 9.99888420e-01 9.95111525e-01 2.49904394e-03\n",
      " 1.92701817e-04 3.65614891e-04 9.99592125e-01 9.98032749e-01\n",
      " 9.99713719e-01 2.09987164e-04 9.99766648e-01 4.43875790e-04\n",
      " 8.65618289e-01 9.98330057e-01 9.98830259e-01 9.97412622e-01\n",
      " 2.08795071e-04 4.77552414e-03 9.83312011e-01 3.14474106e-04\n",
      " 4.36180234e-02 9.99769747e-01 9.97700393e-01 4.13420200e-02\n",
      " 9.96599019e-01 9.18316841e-03 1.48957968e-03 1.31814778e-01\n",
      " 3.69584560e-03 6.45103455e-02 2.24369764e-03 9.08267617e-01\n",
      " 2.16782093e-04 1.92940235e-04 6.13674641e-01 9.99344051e-01\n",
      " 9.83531058e-01 9.98476803e-01 9.99766648e-01 2.25126743e-04\n",
      " 1.99785173e-01 9.99820650e-01 9.97536540e-01 4.09138203e-03\n",
      " 9.99884367e-01 9.98465538e-01 9.99654770e-01 9.99072194e-01\n",
      " 9.99843478e-01 5.04612923e-04 9.96964395e-01 9.99238133e-01\n",
      " 9.99415278e-01 9.98591006e-01 9.99480426e-01 2.98690796e-03\n",
      " 9.84156907e-01 1.17018819e-02 8.81590247e-01 9.96118903e-01\n",
      " 2.60174274e-04 5.23865223e-04 1.96993351e-04 2.27331817e-01\n",
      " 9.99608099e-01 9.99808609e-01 2.18093395e-04 2.84588337e-02\n",
      " 9.81151998e-01 7.21156597e-04 1.98364258e-03 3.22103500e-04\n",
      " 2.49207020e-04 9.98931348e-01 1.25839472e-01 9.35298204e-03\n",
      " 9.90156531e-01 9.99839306e-01 5.03390431e-02 9.99827862e-01\n",
      " 1.17225051e-02 9.99841213e-01 9.91056442e-01 2.86042690e-03\n",
      " 9.99746740e-01 9.98713493e-01 9.84023213e-01 1.86860561e-04\n",
      " 9.99458849e-01 3.07886183e-01 4.43463922e-02 7.48121262e-01\n",
      " 9.96683300e-01 4.02169108e-01 9.99834180e-01 2.05099583e-04\n",
      " 9.91952717e-01 9.99474466e-01 9.98295844e-01 9.99868512e-01\n",
      " 9.99839306e-01 1.05422735e-03 8.06674361e-02 9.20772552e-03\n",
      " 9.27899957e-01 5.02789021e-03 6.47246838e-04 3.04147601e-02\n",
      " 1.20186806e-03 4.20510769e-04 9.99323130e-01 2.01786757e-02\n",
      " 9.80278432e-01 9.99251902e-01 9.99590695e-01 2.13205814e-04\n",
      " 3.51166725e-03 6.80088997e-04 9.97423768e-01 5.58316708e-04\n",
      " 9.99415278e-01 7.97227025e-02 9.99754250e-01 9.99690652e-01\n",
      " 9.99799907e-01 9.99760807e-01 1.84464455e-02 9.99601662e-01\n",
      " 9.96531546e-01 9.96186554e-01 9.43861306e-01 4.94784117e-03\n",
      " 9.76874709e-01 9.99876976e-01 9.99746621e-01 1.61995411e-01\n",
      " 5.11169434e-04 9.99035716e-01 9.99855757e-01 9.99722183e-01\n",
      " 6.23404980e-04 9.99842286e-01 9.99303579e-01 5.01568913e-02\n",
      " 4.10258770e-04 8.50127637e-01 9.91188526e-01 1.97947025e-04\n",
      " 9.99220967e-01 3.21865082e-04 9.79127705e-01 1.46734715e-03\n",
      " 5.25689125e-03 9.95383203e-01 5.86567521e-01 9.99864936e-01\n",
      " 3.91900539e-04 9.99849796e-01 9.94173825e-01 9.99431670e-01\n",
      " 5.98669052e-04 9.99863029e-01 5.12719154e-04 4.37105894e-02\n",
      " 9.96271610e-01 9.99193728e-01 1.05935335e-03 9.93941188e-01\n",
      " 9.99728501e-01 3.45706940e-04 9.97582555e-01 9.98182416e-01\n",
      " 2.89791822e-03 9.59098339e-04 9.99721587e-01 1.01652741e-02\n",
      " 9.99461591e-01 9.96466994e-01 2.53736973e-04 2.32409120e-01\n",
      " 5.14268875e-03 9.97742057e-01 9.97726500e-01 9.99832273e-01\n",
      " 9.99884129e-01 9.99664664e-01 9.96079504e-01 7.16507435e-04\n",
      " 9.99861717e-01 9.99790132e-01 9.99865294e-01 7.96506107e-01\n",
      " 2.24828720e-02 6.06536865e-04 9.95108783e-01 5.28633595e-04\n",
      " 3.51667404e-04 3.07623148e-02]\n"
     ]
    }
   ],
   "source": [
    "# ANSWER\n",
    "preds, probs = llm_predict(output)\n",
    "print(preds)\n",
    "print(probs)"
   ]
  },
  {
   "cell_type": "code",
   "execution_count": 84,
   "metadata": {},
   "outputs": [
    {
     "data": {
      "text/plain": [
       "2516    1\n",
       "2642    0\n",
       "1359    1\n",
       "1702    1\n",
       "2660    0\n",
       "       ..\n",
       "644     0\n",
       "1399    0\n",
       "1779    0\n",
       "719     0\n",
       "179     0\n",
       "Name: sentiment, Length: 550, dtype: int64"
      ]
     },
     "execution_count": 84,
     "metadata": {},
     "output_type": "execute_result"
    }
   ],
   "source": [
    "y_test"
   ]
  },
  {
   "cell_type": "code",
   "execution_count": 86,
   "metadata": {},
   "outputs": [
    {
     "name": "stdout",
     "output_type": "stream",
     "text": [
      "Accuracy : 0.8000 [TP / N] Proportion of predicted labels that match the true labels. Best: 1, Worst: 0\n",
      "Precision: 0.7575 [TP / (TP + FP)] Not to label a negative sample as positive.        Best: 1, Worst: 0\n",
      "Recall   : 0.8604 [TP / (TP + FN)] Find all the positive samples.                     Best: 1, Worst: 0\n",
      "ROC AUC  : 0.8763                                                                     Best: 1, Worst: < 0.5\n",
      "-----------------------------------------------------------------------------------------------------------\n",
      "TP: True Positives, FP: False Positives, TN: True Negatives, FN: False Negatives, N: Number of samples\n"
     ]
    },
    {
     "data": {
      "image/png": "[encoded data removed]",
      "text/plain": [
       "<Figure size 1800x600 with 3 Axes>"
      ]
     },
     "metadata": {},
     "output_type": "display_data"
    },
    {
     "data": {
      "text/plain": [
       "(0.8,\n",
       " np.float64(0.7574750830564784),\n",
       " np.float64(0.8603773584905661),\n",
       " np.float64(0.8762793776895068))"
      ]
     },
     "execution_count": 86,
     "metadata": {},
     "output_type": "execute_result"
    }
   ],
   "source": [
    "show_summary_report(y_test, preds, probs)"
   ]
  },
  {
   "cell_type": "markdown",
   "metadata": {
    "id": "xJCGOPHWE9iC"
   },
   "source": [
    "Note that the original pre-cleaned dataset is better suited to the model as it was trained on similar text. Next we evaluate performance on the original dataset."
   ]
  },
  {
   "cell_type": "code",
   "execution_count": 88,
   "metadata": {
    "id": "YukKiWk5FA8X"
   },
   "outputs": [],
   "source": [
    "# reload the original merged dataset with 3000 rows and 3 columns, the first row of data should have\n",
    "# Wow... Loved this place. \t1 \tyelp\n",
    "# Features and Labels\n",
    "X = all_df['text']\n",
    "y = all_df['sentiment']\n",
    "\n",
    "# Apply a train-test split\n",
    "X_train, X_test, y_train, y_test = train_test_split(X, y, test_size = 0.2, random_state = 42)"
   ]
  },
  {
   "cell_type": "code",
   "execution_count": 106,
   "metadata": {},
   "outputs": [
    {
     "data": {
      "text/plain": [
       "2198"
      ]
     },
     "execution_count": 106,
     "metadata": {},
     "output_type": "execute_result"
    }
   ],
   "source": [
    "X_train.size"
   ]
  },
  {
   "cell_type": "code",
   "execution_count": 96,
   "metadata": {},
   "outputs": [
    {
     "data": {
      "text/plain": [
       "550"
      ]
     },
     "execution_count": 96,
     "metadata": {},
     "output_type": "execute_result"
    }
   ],
   "source": [
    "X_test.size"
   ]
  },
  {
   "cell_type": "markdown",
   "metadata": {
    "id": "nV-Au8_8GmWm"
   },
   "source": [
    "Find the sentiment scores for the text of df:"
   ]
  },
  {
   "cell_type": "code",
   "execution_count": 112,
   "metadata": {
    "id": "a_khPosSGtsh"
   },
   "outputs": [],
   "source": [
    "output = query({\"inputs\": list(X_test.values)})"
   ]
  },
  {
   "cell_type": "markdown",
   "metadata": {
    "id": "dPX76zMUG0Bt"
   },
   "source": [
    "Similar to above, use the `llm_predict` function on this output and then call `show_summary_report` to find how the LLM performs on the original dataset."
   ]
  },
  {
   "cell_type": "code",
   "execution_count": 114,
   "metadata": {
    "id": "7XzSADgvFEKM"
   },
   "outputs": [
    {
     "name": "stdout",
     "output_type": "stream",
     "text": [
      "[1 0 1 1 0 1 1 0 0 0 0 1 0 1 0 0 1 0 1 0 0 1 0 1 1 1 1 0 1 0 0 1 0 1 1 1 1\n",
      " 0 0 1 0 0 1 0 0 0 1 0 0 0 0 0 1 1 0 0 1 0 0 1 1 1 0 0 0 1 0 1 0 1 0 1 0 1\n",
      " 0 0 0 0 0 0 1 0 1 1 1 1 0 1 1 0 0 0 1 0 0 0 1 1 0 0 0 0 1 1 0 0 0 1 0 0 1\n",
      " 0 0 0 1 1 0 0 0 0 0 1 0 0 0 1 1 1 0 1 0 1 0 0 1 0 1 1 1 1 1 1 0 0 0 1 0 1\n",
      " 0 0 1 0 1 1 0 1 0 0 1 0 1 1 0 1 1 0 1 1 0 0 1 0 1 0 0 0 1 1 1 0 1 1 1 0 1\n",
      " 1 0 0 0 1 1 1 1 0 0 1 0 0 0 0 0 1 1 1 1 1 0 1 1 1 1 0 1 1 0 0 1 0 1 1 1 0\n",
      " 0 1 1 0 0 0 0 1 0 0 0 1 0 1 1 0 0 1 1 1 0 0 0 1 1 0 1 1 1 0 0 0 0 0 0 0 0\n",
      " 0 0 0 0 1 1 0 1 1 0 0 0 0 0 1 1 0 0 0 0 0 0 1 0 1 1 1 0 0 0 1 1 1 1 0 1 1\n",
      " 1 1 0 0 0 1 1 1 1 1 0 1 1 1 0 0 0 0 1 1 0 1 1 0 1 1 0 0 1 0 0 1 1 1 1 0 0\n",
      " 0 1 0 0 0 0 0 1 1 0 0 1 1 1 1 1 1 1 1 0 1 1 0 0 0 1 1 0 0 1 0 0 1 0 1 0 0\n",
      " 1 0 0 1 1 0 0 0 0 0 0 0 0 1 0 0 0 1 0 1 1 0 1 0 1 0 1 1 1 1 1 0 1 1 0 1 1\n",
      " 0 0 0 1 0 0 0 0 0 1 0 0 1 1 0 0 0 1 1 1 0 0 1 0 1 1 1 1 0 1 1 0 0 1 1 0 1\n",
      " 0 0 1 0 1 1 1 1 0 0 1 0 1 0 0 0 0 0 1 0 0 0 0 0 0 0 1 0 1 0 1 1 1 1 0 1 0\n",
      " 0 1 1 1 1 1 0 0 1 1 0 1 1 0 0 0 1 1 0 1 0 0 0 1 0 1 1 0 1 0 1 0 1 0 0 1 1\n",
      " 0 1 1 0 0 0 0 0 1 0 1 1 0 1 0 1 0 1 1 1 1 0 1 1 0 1 0 0 1 0 0 0]\n",
      "[9.99885321e-01 2.42173672e-04 9.99565423e-01 9.99208868e-01\n",
      " 2.00450420e-04 9.99880910e-01 9.99868035e-01 3.26395035e-04\n",
      " 3.82781029e-04 6.28173351e-04 1.96754932e-04 9.99701560e-01\n",
      " 1.21814013e-03 9.99847412e-01 8.69452953e-04 3.11374664e-04\n",
      " 9.96164680e-01 3.45230103e-04 9.99846101e-01 2.27391720e-04\n",
      " 3.63701582e-03 9.96148229e-01 1.93774700e-04 9.97181535e-01\n",
      " 9.99856353e-01 9.99830842e-01 9.98719692e-01 4.11212444e-04\n",
      " 9.99850273e-01 4.93764877e-04 2.36213207e-04 9.99774158e-01\n",
      " 1.93506479e-03 7.76081622e-01 9.63877320e-01 9.98603761e-01\n",
      " 9.99442041e-01 2.03067064e-03 4.67300415e-04 9.98167992e-01\n",
      " 1.49230361e-02 8.92579556e-04 9.99878287e-01 6.42240047e-04\n",
      " 6.96420670e-04 1.40291452e-03 9.99884248e-01 4.47213650e-04\n",
      " 1.12417936e-02 3.25918198e-04 2.05457211e-04 6.08205795e-04\n",
      " 9.99882817e-01 9.99835730e-01 3.43084335e-04 1.44516826e-02\n",
      " 9.92171884e-01 2.99811363e-04 2.53498554e-04 9.99746263e-01\n",
      " 9.99874473e-01 9.99637961e-01 3.68791819e-03 1.97213888e-03\n",
      " 4.93830442e-03 9.99342382e-01 9.78225470e-03 9.99869227e-01\n",
      " 1.96963549e-03 9.99819934e-01 2.36285925e-02 9.99819219e-01\n",
      " 3.94284725e-04 9.99803483e-01 2.27272511e-04 1.87337399e-04\n",
      " 1.95920467e-04 3.03506851e-04 2.22504139e-04 4.10413742e-03\n",
      " 9.98256505e-01 8.46266747e-04 9.99883533e-01 9.99446690e-01\n",
      " 9.99792039e-01 8.76671016e-01 5.39720058e-04 9.99742568e-01\n",
      " 9.99373972e-01 1.42633021e-01 5.87534308e-02 1.11430883e-03\n",
      " 9.97260451e-01 4.69481945e-03 1.64771080e-03 2.34067440e-04\n",
      " 9.99477804e-01 9.99751627e-01 3.15546989e-04 5.08546829e-04\n",
      " 7.78889656e-03 2.70253420e-03 9.99866486e-01 9.92160738e-01\n",
      " 2.14366317e-02 2.17258930e-04 2.62200832e-04 9.87413526e-01\n",
      " 4.26948071e-04 1.00530982e-02 9.99881744e-01 2.32214928e-02\n",
      " 4.76759672e-03 7.59005547e-04 9.99816000e-01 9.99841452e-01\n",
      " 2.94029713e-04 1.92940235e-04 7.28034973e-03 1.96635723e-04\n",
      " 2.10344791e-04 9.99851823e-01 1.89125538e-04 3.55362892e-04\n",
      " 4.86612320e-04 9.98884976e-01 9.99861002e-01 9.99751627e-01\n",
      " 7.60436058e-04 9.95378375e-01 2.01642513e-04 9.99847054e-01\n",
      " 4.19914722e-04 1.90913677e-04 9.99689460e-01 9.12463665e-03\n",
      " 9.99807894e-01 9.99432027e-01 9.99827087e-01 9.99881506e-01\n",
      " 9.99860287e-01 9.99821126e-01 2.44557858e-04 2.79963017e-04\n",
      " 2.69687176e-03 9.83425558e-01 1.89960003e-04 9.99798596e-01\n",
      " 1.04570389e-02 2.01880932e-04 9.99842048e-01 3.10540199e-04\n",
      " 9.99868989e-01 9.99883652e-01 2.25961208e-04 9.78264332e-01\n",
      " 7.38084316e-04 2.76541114e-02 9.99876976e-01 4.47690487e-04\n",
      " 9.99823749e-01 9.99851942e-01 3.33678126e-02 9.97952044e-01\n",
      " 9.99075174e-01 1.28473639e-02 9.99622941e-01 9.96024728e-01\n",
      " 4.04894352e-04 2.22146511e-04 9.98518884e-01 5.91397285e-04\n",
      " 9.99879837e-01 1.09083652e-02 6.90438151e-02 4.91023064e-04\n",
      " 9.99136746e-01 9.21918571e-01 9.99863982e-01 2.51250327e-01\n",
      " 9.98551905e-01 9.99869227e-01 9.99616742e-01 8.62598419e-04\n",
      " 9.99886155e-01 9.99887943e-01 2.48348713e-03 2.18927860e-04\n",
      " 8.75532627e-04 9.99827981e-01 9.99885082e-01 9.99572933e-01\n",
      " 9.99594271e-01 3.42411995e-02 2.55525112e-04 9.99739349e-01\n",
      " 2.89857388e-04 7.61258602e-03 1.97759867e-02 2.11536884e-04\n",
      " 4.05728817e-04 9.99880433e-01 9.99783933e-01 9.99829292e-01\n",
      " 9.99676108e-01 9.99884844e-01 2.05665827e-03 9.99801219e-01\n",
      " 9.99875546e-01 9.99842048e-01 9.88602996e-01 2.56001949e-04\n",
      " 9.99518514e-01 9.99617100e-01 2.55125761e-03 3.72529030e-04\n",
      " 9.98564661e-01 1.19099617e-02 9.99871254e-01 9.99866366e-01\n",
      " 9.99818385e-01 2.08556652e-04 7.61389732e-04 9.28312123e-01\n",
      " 9.99759495e-01 2.57551670e-04 3.53336334e-04 8.77970457e-03\n",
      " 1.94370747e-04 9.99881148e-01 3.06725502e-04 2.51829624e-04\n",
      " 2.77101994e-04 9.99634147e-01 4.31898832e-02 9.98929322e-01\n",
      " 9.95507717e-01 2.16901302e-04 7.68423080e-04 9.97309327e-01\n",
      " 9.84038234e-01 9.99877930e-01 1.92463398e-04 2.69711018e-04\n",
      " 7.94589520e-04 9.99807775e-01 9.99845386e-01 1.97947025e-04\n",
      " 9.99840021e-01 6.24440432e-01 9.99847293e-01 2.11775303e-04\n",
      " 9.95695591e-03 1.04582310e-03 1.90079212e-04 2.06842422e-02\n",
      " 1.63228512e-02 8.09457302e-02 2.43747234e-03 4.45388556e-02\n",
      " 3.60131264e-04 1.74267888e-02 1.24764442e-03 9.99883533e-01\n",
      " 9.99870420e-01 1.84953213e-04 9.99858975e-01 9.99803245e-01\n",
      " 7.33077526e-04 2.78651714e-04 2.98476219e-03 1.27941370e-03\n",
      " 1.03235245e-03 9.99132574e-01 9.99832869e-01 3.26037407e-04\n",
      " 6.82538748e-03 2.15828419e-04 4.96029854e-04 2.78055668e-04\n",
      " 7.66634941e-04 9.99299288e-01 6.76155090e-04 9.99831557e-01\n",
      " 9.99829888e-01 9.99882221e-01 3.03049684e-01 1.29866600e-03\n",
      " 2.88110971e-02 9.99874711e-01 5.94418049e-01 9.99829412e-01\n",
      " 9.95729864e-01 1.32125616e-03 9.99873877e-01 9.98130143e-01\n",
      " 9.98919129e-01 9.99874473e-01 1.11408234e-02 5.02586365e-04\n",
      " 2.61604786e-04 9.99406219e-01 9.95840967e-01 9.99874949e-01\n",
      " 9.99664187e-01 9.99528885e-01 5.05685806e-04 9.97950494e-01\n",
      " 9.98069108e-01 9.99793231e-01 3.17931175e-04 1.03127956e-03\n",
      " 2.06768513e-04 4.53007221e-03 9.99080062e-01 9.91198003e-01\n",
      " 5.16295433e-04 9.99490261e-01 9.99875546e-01 1.10232830e-03\n",
      " 9.99304771e-01 9.99879718e-01 1.60386562e-02 6.72721863e-03\n",
      " 9.88479316e-01 3.69071960e-04 9.20534134e-04 9.95231807e-01\n",
      " 9.99859452e-01 9.99730527e-01 9.99850273e-01 4.72366810e-03\n",
      " 1.07187033e-03 7.58171082e-04 9.99885559e-01 1.80407166e-02\n",
      " 3.51190567e-04 2.04503536e-04 5.18381596e-04 1.94066763e-03\n",
      " 9.99882460e-01 9.99211907e-01 6.31409883e-03 2.09748745e-04\n",
      " 9.99876022e-01 9.99832749e-01 7.53188789e-01 5.92089772e-01\n",
      " 9.94915724e-01 9.99856710e-01 9.99769986e-01 9.99610364e-01\n",
      " 5.21481037e-04 9.99887466e-01 8.41436267e-01 4.20033932e-04\n",
      " 2.32279301e-04 2.16186047e-04 9.99742329e-01 9.99806345e-01\n",
      " 2.09867954e-04 1.98900700e-04 9.99349654e-01 4.96387482e-04\n",
      " 1.45262480e-03 9.98937666e-01 6.89864159e-04 9.99391913e-01\n",
      " 2.13563442e-04 2.51936913e-02 9.96541202e-01 4.58478928e-04\n",
      " 1.63155794e-03 9.99857187e-01 9.99150038e-01 8.41414928e-03\n",
      " 9.16322470e-02 9.22352076e-03 1.31840110e-02 1.62107348e-02\n",
      " 4.76479530e-04 2.12593675e-02 2.54970789e-03 9.99376714e-01\n",
      " 2.13205814e-04 1.98066235e-04 4.71234322e-04 9.99862671e-01\n",
      " 7.49647617e-04 9.99780238e-01 9.99848366e-01 1.23965740e-03\n",
      " 8.86446774e-01 3.79085541e-04 9.99868870e-01 1.77982450e-02\n",
      " 9.99880791e-01 9.99480665e-01 9.99794304e-01 9.99155045e-01\n",
      " 9.99863863e-01 3.96311283e-04 8.73861134e-01 9.99808252e-01\n",
      " 1.75508261e-02 9.99421597e-01 9.99737442e-01 1.08063221e-03\n",
      " 2.02476978e-04 3.58331203e-03 9.90690231e-01 2.66373158e-04\n",
      " 2.34305859e-04 3.58819962e-04 1.82449818e-04 6.35802746e-04\n",
      " 9.98445094e-01 5.39839268e-04 1.93655491e-04 9.91920352e-01\n",
      " 9.99535322e-01 1.31303072e-03 5.34772873e-03 3.89993191e-04\n",
      " 9.82504308e-01 9.99617338e-01 9.75777626e-01 5.59508801e-03\n",
      " 3.94615531e-02 9.99605715e-01 4.12270844e-01 9.99887943e-01\n",
      " 7.97376513e-01 9.99862313e-01 9.99852180e-01 2.09033489e-04\n",
      " 9.99785841e-01 9.99552786e-01 3.50648165e-03 2.04741955e-04\n",
      " 9.97339785e-01 9.99653697e-01 6.07436895e-03 9.99337733e-01\n",
      " 1.79466009e-02 3.91662121e-04 9.99852538e-01 1.85549259e-04\n",
      " 9.99356329e-01 9.99818981e-01 9.99851108e-01 9.99857306e-01\n",
      " 7.96992779e-02 2.88188457e-04 9.99598324e-01 8.86321068e-03\n",
      " 9.99701917e-01 3.38810682e-03 2.21550465e-04 1.14011765e-03\n",
      " 3.46302986e-04 5.92231750e-04 9.98931468e-01 6.81668520e-03\n",
      " 1.52379274e-03 4.21845913e-03 6.19685650e-02 2.06291676e-04\n",
      " 7.25686550e-04 3.25560570e-04 9.95517075e-01 2.84492970e-04\n",
      " 9.90224063e-01 1.01870298e-03 9.99872327e-01 9.99788940e-01\n",
      " 9.99593079e-01 9.99875546e-01 2.64346600e-04 9.99838352e-01\n",
      " 6.47127628e-04 4.61220741e-04 9.99504089e-01 9.99850988e-01\n",
      " 9.99468267e-01 9.99881029e-01 9.99880552e-01 4.43414807e-01\n",
      " 7.88688660e-04 9.99807775e-01 9.99873281e-01 2.78770924e-04\n",
      " 9.98838603e-01 9.99865174e-01 3.65972519e-04 5.79953194e-04\n",
      " 5.05208969e-04 9.99535084e-01 9.99673128e-01 1.95682049e-04\n",
      " 9.99570429e-01 2.89380550e-04 1.83731318e-03 1.04510784e-03\n",
      " 9.99046743e-01 4.20510769e-04 9.90675151e-01 9.99859333e-01\n",
      " 6.48915768e-04 9.99678135e-01 3.02959383e-01 9.56034482e-01\n",
      " 2.02238560e-04 9.99854088e-01 5.26249409e-04 4.27317619e-03\n",
      " 9.97234643e-01 9.99790490e-01 1.20568275e-03 9.98473227e-01\n",
      " 9.99882221e-01 4.05728817e-04 1.53684616e-03 4.66465950e-04\n",
      " 1.91158056e-03 2.37286091e-04 9.99866009e-01 2.68876553e-04\n",
      " 9.94990528e-01 9.97666597e-01 2.57432461e-04 9.98619437e-01\n",
      " 1.20413303e-01 9.99581516e-01 7.39872456e-04 9.99832630e-01\n",
      " 9.99888182e-01 9.99794543e-01 9.99178112e-01 4.02390957e-04\n",
      " 9.99865174e-01 9.99874592e-01 1.91271305e-04 9.76298869e-01\n",
      " 1.54688358e-02 4.85301018e-04 9.96116281e-01 7.94112682e-04\n",
      " 7.99238682e-04 4.53907251e-03]\n"
     ]
    }
   ],
   "source": [
    "# ANSWER\n",
    "preds, probs = llm_predict(output)\n",
    "print(preds)\n",
    "print(probs)"
   ]
  },
  {
   "cell_type": "code",
   "execution_count": 116,
   "metadata": {},
   "outputs": [
    {
     "name": "stdout",
     "output_type": "stream",
     "text": [
      "Accuracy : 0.9364 [TP / N] Proportion of predicted labels that match the true labels. Best: 1, Worst: 0\n",
      "Precision: 0.9423 [TP / (TP + FP)] Not to label a negative sample as positive.        Best: 1, Worst: 0\n",
      "Recall   : 0.9245 [TP / (TP + FN)] Find all the positive samples.                     Best: 1, Worst: 0\n",
      "ROC AUC  : 0.9829                                                                     Best: 1, Worst: < 0.5\n",
      "-----------------------------------------------------------------------------------------------------------\n",
      "TP: True Positives, FP: False Positives, TN: True Negatives, FN: False Negatives, N: Number of samples\n"
     ]
    },
    {
     "data": {
      "image/png": "[encoded data removed]",
      "text/plain": [
       "<Figure size 1800x600 with 3 Axes>"
      ]
     },
     "metadata": {},
     "output_type": "display_data"
    },
    {
     "data": {
      "text/plain": [
       "(0.9363636363636364,\n",
       " np.float64(0.9423076923076923),\n",
       " np.float64(0.9245283018867925),\n",
       " np.float64(0.9828666004634227))"
      ]
     },
     "execution_count": 116,
     "metadata": {},
     "output_type": "execute_result"
    }
   ],
   "source": [
    "show_summary_report(y_test, preds, probs)"
   ]
  },
  {
   "cell_type": "markdown",
   "metadata": {
    "id": "RVeIhdCNG71D"
   },
   "source": [
    "You should find that results are significantly better here."
   ]
  },
  {
   "cell_type": "markdown",
   "metadata": {
    "id": "GS42WvWEG9WR"
   },
   "source": [
    "## Summary\n",
    "\n",
    "Sentiment analysis models were developed using both a count vectoriser and TF-IDF vectoriser to extract numerical features, trained on reviews text data using a support vector classifier. Their performances were evaluated and later compared to that of a Large Language Model."
   ]
  },
  {
   "cell_type": "markdown",
   "metadata": {
    "id": "RERADKgNFq9T"
   },
   "source": [
    "\n",
    "\n",
    "---\n",
    "\n",
    "\n",
    "\n",
    "---\n",
    "\n",
    "\n",
    "\n",
    "> > > > > > > > > © 2025 Institute of Data\n",
    "\n",
    "\n",
    "---\n",
    "\n",
    "\n",
    "\n",
    "---\n",
    "\n",
    "\n",
    "\n"
   ]
  }
 ],
 "metadata": {
  "colab": {
   "provenance": []
  },
  "kernelspec": {
   "display_name": "Python [conda env:base] *",
   "language": "python",
   "name": "conda-base-py"
  },
  "language_info": {
   "codemirror_mode": {
    "name": "ipython",
    "version": 3
   },
   "file_extension": ".py",
   "mimetype": "text/x-python",
   "name": "python",
   "nbconvert_exporter": "python",
   "pygments_lexer": "ipython3",
   "version": "3.11.5"
  },
  "varInspector": {
   "cols": {
    "lenName": 16,
    "lenType": 16,
    "lenVar": 40
   },
   "kernels_config": {
    "python": {
     "delete_cmd_postfix": "",
     "delete_cmd_prefix": "del ",
     "library": "var_list.py",
     "varRefreshCmd": "print(var_dic_list())"
    },
    "r": {
     "delete_cmd_postfix": ") ",
     "delete_cmd_prefix": "rm(",
     "library": "var_list.r",
     "varRefreshCmd": "cat(var_dic_list()) "
    }
   },
   "types_to_exclude": [
    "module",
    "function",
    "builtin_function_or_method",
    "instance",
    "_Feature"
   ],
   "window_display": false
  }
 },
 "nbformat": 4,
 "nbformat_minor": 4
}
