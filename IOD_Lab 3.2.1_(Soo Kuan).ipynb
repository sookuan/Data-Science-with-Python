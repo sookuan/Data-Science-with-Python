{
 "cells": [
  {
   "cell_type": "markdown",
   "metadata": {
    "id": "fneIB8BIGtiY"
   },
   "source": [
    "<div>\n",
    "<img src=https://www.institutedata.com/wp-content/uploads/2019/10/iod_h_tp_primary_c.svg width=\"300\">\n",
    "</div>"
   ]
  },
  {
   "cell_type": "markdown",
   "metadata": {
    "id": "rdipUchUGtih"
   },
   "source": [
    "# Lab 3.2.1\n",
    "# *Querying the International Space Station*"
   ]
  },
  {
   "cell_type": "markdown",
   "metadata": {
    "id": "b2RLpeJNGtil"
   },
   "source": [
    "## The OpenNotify API"
   ]
  },
  {
   "cell_type": "markdown",
   "metadata": {
    "id": "rrunXmMNGtip"
   },
   "source": [
    "The OpenNotify API exposes a few attributes of the International Space Station (ISS) via a simple, authentication-free interface. The simplicity of this API precludes any need for a dedicated Python library. However, as with many APIs, it accepts requests according to HTTP standards and returns responses in JSON format, so the Python libraries request and json will make managing the I/O simpler still."
   ]
  },
  {
   "cell_type": "code",
   "execution_count": 2,
   "metadata": {
    "id": "xz4PaIIjGtis"
   },
   "outputs": [],
   "source": [
    "import requests\n",
    "import json\n",
    "from datetime import datetime, date, time"
   ]
  },
  {
   "cell_type": "markdown",
   "metadata": {
    "id": "tE2vsQo3Gti0"
   },
   "source": [
    "This request fetches the latest position of the international space station:"
   ]
  },
  {
   "cell_type": "code",
   "execution_count": 5,
   "metadata": {
    "id": "bXBJ6YSPGti3"
   },
   "outputs": [],
   "source": [
    "response = requests.get(\"http://api.open-notify.org/iss-now.json\")"
   ]
  },
  {
   "cell_type": "markdown",
   "metadata": {
    "id": "wTbnWjPGGti-"
   },
   "source": [
    "Print the status code and text of the response:"
   ]
  },
  {
   "cell_type": "code",
   "execution_count": 7,
   "metadata": {
    "colab": {
     "base_uri": "https://localhost:8080/"
    },
    "executionInfo": {
     "elapsed": 349,
     "status": "ok",
     "timestamp": 1656486719496,
     "user": {
      "displayName": "Muru Raj",
      "userId": "16263509272652930332"
     },
     "user_tz": -480
    },
    "id": "_I6hU3-AGtjA",
    "outputId": "063d1285-3a8f-409a-aed5-76511912fb1c"
   },
   "outputs": [
    {
     "data": {
      "text/plain": [
       "200"
      ]
     },
     "execution_count": 7,
     "metadata": {},
     "output_type": "execute_result"
    }
   ],
   "source": [
    "#ANSWER\n",
    "response.status_code"
   ]
  },
  {
   "cell_type": "code",
   "execution_count": 9,
   "metadata": {
    "colab": {
     "base_uri": "https://localhost:8080/"
    },
    "executionInfo": {
     "elapsed": 324,
     "status": "ok",
     "timestamp": 1656486759324,
     "user": {
      "displayName": "Muru Raj",
      "userId": "16263509272652930332"
     },
     "user_tz": -480
    },
    "id": "-WdeRA2iTYNy",
    "outputId": "ce58f787-ddf2-41e3-fa25-169380a569f6"
   },
   "outputs": [
    {
     "name": "stdout",
     "output_type": "stream",
     "text": [
      "{\"message\": \"success\", \"timestamp\": 1751636862, \"iss_position\": {\"longitude\": \"-77.2499\", \"latitude\": \"-14.2504\"}}\n"
     ]
    }
   ],
   "source": [
    "#ANSWER\n",
    "print(response.text)"
   ]
  },
  {
   "cell_type": "markdown",
   "metadata": {
    "id": "eiziNer-GtjF"
   },
   "source": [
    "We can use another API to request the current position of the ISS and the next few times at which it will be over a certain location. The latitude and longitude of Sydney are (-33.87, 151.21)."
   ]
  },
  {
   "cell_type": "code",
   "execution_count": 12,
   "metadata": {
    "id": "2XZ-ygFkGtjH"
   },
   "outputs": [],
   "source": [
    "response = requests.get(\"https://api.g7vrd.co.uk/v1/satellite-passes/25544/-33.87/151.21.json?minelevation=0&hours=24\")"
   ]
  },
  {
   "cell_type": "markdown",
   "metadata": {
    "id": "aEl3pwmHGtjN"
   },
   "source": [
    "Print the response header:"
   ]
  },
  {
   "cell_type": "code",
   "execution_count": 15,
   "metadata": {
    "id": "6rsz7gwbGtjP"
   },
   "outputs": [
    {
     "name": "stdout",
     "output_type": "stream",
     "text": [
      "{'Date': 'Fri, 04 Jul 2025 13:48:28 GMT', 'Server': 'Apache', 'X-Amzn-Trace-Id': 'Root=1-6867dbac-4246168ea2c7747e954344bc;', 'Vary': 'Origin,Access-Control-Request-Method,Access-Control-Request-Headers', 'Access-Control-Allow-Origin': '*', 'X-Content-Type-Options': 'nosniff', 'X-XSS-Protection': '0', 'Cache-Control': 'no-cache, no-store, max-age=0, must-revalidate', 'Pragma': 'no-cache', 'Expires': '0', 'X-Frame-Options': 'DENY', 'Content-Type': 'application/json', 'Keep-Alive': 'timeout=5, max=100', 'Connection': 'Keep-Alive', 'Transfer-Encoding': 'chunked'}\n"
     ]
    }
   ],
   "source": [
    "#ANSWER\n",
    "print(response.headers)"
   ]
  },
  {
   "cell_type": "markdown",
   "metadata": {
    "id": "W6tqlzySGtjR"
   },
   "source": [
    "Print the content of the response (the data that the server returned):"
   ]
  },
  {
   "cell_type": "code",
   "execution_count": 18,
   "metadata": {
    "id": "HbxepzDZGtjS"
   },
   "outputs": [
    {
     "name": "stdout",
     "output_type": "stream",
     "text": [
      "b'{\"api_status\":\"ALPHA\",\"request_timestamp\":\"2025-07-04T13:48:28.960335399Z\",\"norad_id\":25544,\"satellite_name\":\"ISS\",\"tle_last_retrieved\":\"2025-07-03T21:20:07.811146437Z\",\"lat\":-33.87,\"lon\":151.21,\"hours\":24,\"min_elevation\":0,\"query_ms\":19,\"passes\":[{\"start\":\"2025-07-04T23:05:08.941Z\",\"tca\":\"2025-07-04T23:10:08.941Z\",\"end\":\"2025-07-04T23:15:43.941Z\",\"aos_azimuth\":333,\"los_azimuth\":124,\"max_elevation\":33.0},{\"start\":\"2025-07-05T00:42:03.941Z\",\"tca\":\"2025-07-05T00:47:03.941Z\",\"end\":\"2025-07-05T00:52:18.941Z\",\"aos_azimuth\":282,\"los_azimuth\":144,\"max_elevation\":21.0},{\"start\":\"2025-07-05T02:21:28.941Z\",\"tca\":\"2025-07-05T02:24:58.941Z\",\"end\":\"2025-07-05T02:28:33.941Z\",\"aos_azimuth\":234,\"los_azimuth\":153,\"max_elevation\":5.0},{\"start\":\"2025-07-05T04:00:33.941Z\",\"tca\":\"2025-07-05T04:03:33.941Z\",\"end\":\"2025-07-05T04:06:28.941Z\",\"aos_azimuth\":205,\"los_azimuth\":139,\"max_elevation\":3.0},{\"start\":\"2025-07-05T05:37:03.941Z\",\"tca\":\"2025-07-05T05:41:33.941Z\",\"end\":\"2025-07-05T05:46:13.941Z\",\"aos_azimuth\":209,\"los_azimuth\":96,\"max_elevation\":11.0},{\"start\":\"2025-07-05T07:13:23.941Z\",\"tca\":\"2025-07-05T07:18:53.941Z\",\"end\":\"2025-07-05T07:24:18.941Z\",\"aos_azimuth\":226,\"los_azimuth\":47,\"max_elevation\":81.0},{\"start\":\"2025-07-05T08:51:13.941Z\",\"tca\":\"2025-07-05T08:55:13.941Z\",\"end\":\"2025-07-05T08:58:53.941Z\",\"aos_azimuth\":258,\"los_azimuth\":349,\"max_elevation\":7.0},{\"start\":\"2025-07-05T22:17:03.941Z\",\"tca\":\"2025-07-05T22:22:03.941Z\",\"end\":\"2025-07-05T22:26:48.941Z\",\"aos_azimuth\":348,\"los_azimuth\":116,\"max_elevation\":18.0}]}'\n"
     ]
    }
   ],
   "source": [
    "#ANSWER\n",
    "print(response.content)"
   ]
  },
  {
   "cell_type": "markdown",
   "metadata": {
    "id": "N7tHPQzDGtjU"
   },
   "source": [
    "Note that this is a Python byte string:"
   ]
  },
  {
   "cell_type": "code",
   "execution_count": 21,
   "metadata": {
    "id": "k8AMo0yWGtjV"
   },
   "outputs": [
    {
     "name": "stdout",
     "output_type": "stream",
     "text": [
      "<class 'bytes'>\n"
     ]
    }
   ],
   "source": [
    "print(type(response.content))"
   ]
  },
  {
   "cell_type": "markdown",
   "metadata": {
    "id": "5tvv9ht_GtjX"
   },
   "source": [
    "Print just the \"content-type\" value from the header:"
   ]
  },
  {
   "cell_type": "code",
   "execution_count": 24,
   "metadata": {
    "id": "nxWxxLI7GtjX"
   },
   "outputs": [
    {
     "name": "stdout",
     "output_type": "stream",
     "text": [
      "application/json\n"
     ]
    }
   ],
   "source": [
    "#ANSWER\n",
    "print(response.headers['content-type'])"
   ]
  },
  {
   "cell_type": "markdown",
   "metadata": {
    "id": "7lPlgn_hGtjZ"
   },
   "source": [
    "JSON was designed to be easy for computers to read, not for people. The `requests` library can decode the JSON byte string:"
   ]
  },
  {
   "cell_type": "code",
   "execution_count": 27,
   "metadata": {
    "id": "nGVtgDaqGtja"
   },
   "outputs": [
    {
     "name": "stdout",
     "output_type": "stream",
     "text": [
      "{'api_status': 'ALPHA', 'request_timestamp': '2025-07-04T13:48:28.960335399Z', 'norad_id': 25544, 'satellite_name': 'ISS', 'tle_last_retrieved': '2025-07-03T21:20:07.811146437Z', 'lat': -33.87, 'lon': 151.21, 'hours': 24, 'min_elevation': 0, 'query_ms': 19, 'passes': [{'start': '2025-07-04T23:05:08.941Z', 'tca': '2025-07-04T23:10:08.941Z', 'end': '2025-07-04T23:15:43.941Z', 'aos_azimuth': 333, 'los_azimuth': 124, 'max_elevation': 33.0}, {'start': '2025-07-05T00:42:03.941Z', 'tca': '2025-07-05T00:47:03.941Z', 'end': '2025-07-05T00:52:18.941Z', 'aos_azimuth': 282, 'los_azimuth': 144, 'max_elevation': 21.0}, {'start': '2025-07-05T02:21:28.941Z', 'tca': '2025-07-05T02:24:58.941Z', 'end': '2025-07-05T02:28:33.941Z', 'aos_azimuth': 234, 'los_azimuth': 153, 'max_elevation': 5.0}, {'start': '2025-07-05T04:00:33.941Z', 'tca': '2025-07-05T04:03:33.941Z', 'end': '2025-07-05T04:06:28.941Z', 'aos_azimuth': 205, 'los_azimuth': 139, 'max_elevation': 3.0}, {'start': '2025-07-05T05:37:03.941Z', 'tca': '2025-07-05T05:41:33.941Z', 'end': '2025-07-05T05:46:13.941Z', 'aos_azimuth': 209, 'los_azimuth': 96, 'max_elevation': 11.0}, {'start': '2025-07-05T07:13:23.941Z', 'tca': '2025-07-05T07:18:53.941Z', 'end': '2025-07-05T07:24:18.941Z', 'aos_azimuth': 226, 'los_azimuth': 47, 'max_elevation': 81.0}, {'start': '2025-07-05T08:51:13.941Z', 'tca': '2025-07-05T08:55:13.941Z', 'end': '2025-07-05T08:58:53.941Z', 'aos_azimuth': 258, 'los_azimuth': 349, 'max_elevation': 7.0}, {'start': '2025-07-05T22:17:03.941Z', 'tca': '2025-07-05T22:22:03.941Z', 'end': '2025-07-05T22:26:48.941Z', 'aos_azimuth': 348, 'los_azimuth': 116, 'max_elevation': 18.0}]}\n"
     ]
    }
   ],
   "source": [
    "overheads = response.json()\n",
    "print(overheads)"
   ]
  },
  {
   "cell_type": "markdown",
   "metadata": {
    "id": "l9GOdNK5Gtjc"
   },
   "source": [
    "What kind of object did this give us? Dictionary"
   ]
  },
  {
   "cell_type": "code",
   "execution_count": 30,
   "metadata": {
    "id": "JBS4nRmSGtjd"
   },
   "outputs": [
    {
     "name": "stdout",
     "output_type": "stream",
     "text": [
      "<class 'dict'>\n"
     ]
    }
   ],
   "source": [
    "#ANSWER:\n",
    "print(type(overheads))"
   ]
  },
  {
   "cell_type": "markdown",
   "metadata": {
    "id": "2ZYJabXQGtjg"
   },
   "source": [
    "Python dicts are easier to work with, but the data we want is still buried in that data structure, so we have to dig it out. First, extract the `passes` value to a separate list:"
   ]
  },
  {
   "cell_type": "code",
   "execution_count": 33,
   "metadata": {
    "id": "0u8LZg4dGtjh"
   },
   "outputs": [],
   "source": [
    "#ANSWER:\n",
    "passes = overheads['passes']"
   ]
  },
  {
   "cell_type": "markdown",
   "metadata": {
    "id": "hMHzLrfoGtjj"
   },
   "source": [
    "Now extract the `start` strings into an array called `srisetimes`:"
   ]
  },
  {
   "cell_type": "code",
   "execution_count": 36,
   "metadata": {
    "id": "nXqJ8_F2Gtjj"
   },
   "outputs": [],
   "source": [
    "#ANSWER:\n",
    "srisetimes = [xpass['start'] for xpass in passes]"
   ]
  },
  {
   "cell_type": "markdown",
   "metadata": {
    "id": "RItuBRt-Gtjl"
   },
   "source": [
    "These are strings. We convert these to an array of Python `datetime` values called `risetimes`:"
   ]
  },
  {
   "cell_type": "code",
   "execution_count": 39,
   "metadata": {
    "id": "8rzyAcLTGtjm"
   },
   "outputs": [],
   "source": [
    "srisetimes = [datetime.strptime(xpass['start'], \"%Y-%m-%dT%H:%M:%S.%fZ\") for xpass in passes]"
   ]
  },
  {
   "cell_type": "markdown",
   "metadata": {
    "id": "l1EmKOFqGtjn"
   },
   "source": [
    "Finally, use `risetime.strftime` to print these in a format that people understand:\n",
    "\n",
    "```\n",
    "e.g.\n",
    "18/10/22 07:05\n",
    "18/10/22 08:41\n",
    "18/10/22 10:20\n",
    "18/10/22 12:00\n",
    "18/10/22 01:37\n",
    "18/10/22 03:13\n",
    "```\n",
    "\n"
   ]
  },
  {
   "cell_type": "code",
   "execution_count": 41,
   "metadata": {
    "id": "AkBE76VqGtjo"
   },
   "outputs": [
    {
     "data": {
      "text/plain": [
       "[datetime.datetime(2025, 7, 4, 23, 5, 8, 941000),\n",
       " datetime.datetime(2025, 7, 5, 0, 42, 3, 941000),\n",
       " datetime.datetime(2025, 7, 5, 2, 21, 28, 941000),\n",
       " datetime.datetime(2025, 7, 5, 4, 0, 33, 941000),\n",
       " datetime.datetime(2025, 7, 5, 5, 37, 3, 941000),\n",
       " datetime.datetime(2025, 7, 5, 7, 13, 23, 941000),\n",
       " datetime.datetime(2025, 7, 5, 8, 51, 13, 941000),\n",
       " datetime.datetime(2025, 7, 5, 22, 17, 3, 941000)]"
      ]
     },
     "execution_count": 41,
     "metadata": {},
     "output_type": "execute_result"
    }
   ],
   "source": [
    "#ANSWER:\n",
    "risetimes = [datetime.strptime(xpass['start'], \"%Y-%m-%dT%H:%M:%S.%fZ\") for xpass in passes]\n",
    "risetimes"
   ]
  },
  {
   "cell_type": "markdown",
   "metadata": {
    "id": "iNm6GjX3Gtjq"
   },
   "source": [
    "Finally, here is an endpoint that tells us who is on board:"
   ]
  },
  {
   "cell_type": "code",
   "execution_count": 44,
   "metadata": {
    "id": "12yXs_OgGtjs"
   },
   "outputs": [],
   "source": [
    "response = requests.get(\"http://api.open-notify.org/astros.json\")"
   ]
  },
  {
   "cell_type": "markdown",
   "metadata": {
    "id": "0Np4S0aAGtj0"
   },
   "source": [
    "Referring to the methods used above, extract the number of astronauts and their names:"
   ]
  },
  {
   "cell_type": "code",
   "execution_count": 47,
   "metadata": {
    "id": "Oqx5L19_Gtj1"
   },
   "outputs": [
    {
     "name": "stdout",
     "output_type": "stream",
     "text": [
      "{'people': [{'craft': 'ISS', 'name': 'Oleg Kononenko'}, {'craft': 'ISS', 'name': 'Nikolai Chub'}, {'craft': 'ISS', 'name': 'Tracy Caldwell Dyson'}, {'craft': 'ISS', 'name': 'Matthew Dominick'}, {'craft': 'ISS', 'name': 'Michael Barratt'}, {'craft': 'ISS', 'name': 'Jeanette Epps'}, {'craft': 'ISS', 'name': 'Alexander Grebenkin'}, {'craft': 'ISS', 'name': 'Butch Wilmore'}, {'craft': 'ISS', 'name': 'Sunita Williams'}, {'craft': 'Tiangong', 'name': 'Li Guangsu'}, {'craft': 'Tiangong', 'name': 'Li Cong'}, {'craft': 'Tiangong', 'name': 'Ye Guangfu'}], 'number': 12, 'message': 'success'}\n",
      "12\n",
      "Oleg Kononenko\n",
      "Nikolai Chub\n",
      "Tracy Caldwell Dyson\n",
      "Matthew Dominick\n",
      "Michael Barratt\n",
      "Jeanette Epps\n",
      "Alexander Grebenkin\n",
      "Butch Wilmore\n",
      "Sunita Williams\n",
      "Li Guangsu\n",
      "Li Cong\n",
      "Ye Guangfu\n"
     ]
    }
   ],
   "source": [
    "#ANSWER:\n",
    "astros = response.json()\n",
    "print(astros)\n",
    "print(astros[\"number\"])\n",
    "for astronaut in astros['people']:\n",
    "    print(astronaut['name'])"
   ]
  },
  {
   "cell_type": "markdown",
   "metadata": {
    "id": "A4-DBw_bGtj2"
   },
   "source": [
    "## HOMEWORK\n"
   ]
  },
  {
   "cell_type": "markdown",
   "metadata": {
    "id": "c134mC6WGtj3"
   },
   "source": [
    "1. Write a simple handler for the response status code (refer to lab resources slide for HTTP response codes). As this Jupyter Notebook is an interactive device, the handler does not need to manage subsequent code execution (i.e. by branching or aborting execution), although it should return something that could be used to do so if deployed in a Python program."
   ]
  },
  {
   "cell_type": "code",
   "execution_count": 51,
   "metadata": {
    "id": "FZM2NAWuGtj4"
   },
   "outputs": [],
   "source": [
    "#ANSWER:\n",
    "def handleResponse(response, verbose = False):\n",
    "    '''\n",
    "    Returns Boolean Value, Status Code,\n",
    "    '''\n",
    "    if response == 200:\n",
    "        return False, response\n",
    "    else:\n",
    "        return True, response\n",
    "    \n",
    "  # if Status Code is 200 return false, and status code\n",
    "  # Otherwise Return True and Status Code"
   ]
  },
  {
   "cell_type": "markdown",
   "metadata": {
    "id": "9aPstlTIGtj5"
   },
   "source": [
    "2. Test your response handler on some correct and incorrect API calls."
   ]
  },
  {
   "cell_type": "code",
   "execution_count": 54,
   "metadata": {
    "id": "GYT1LAb8Gtj6"
   },
   "outputs": [
    {
     "name": "stdout",
     "output_type": "stream",
     "text": [
      "API call failed. Resolve issue before continuing!\n"
     ]
    },
    {
     "data": {
      "text/plain": [
       "True"
      ]
     },
     "execution_count": 54,
     "metadata": {},
     "output_type": "execute_result"
    }
   ],
   "source": [
    "response = requests.get(\"http://api.open-notify.org/astros.json\")\n",
    "if handleResponse(response)[0]:\n",
    "    print('API call failed. Resolve issue before continuing!')\n",
    "\n",
    "response = requests.get(\"http://api.open-notify.org/iss-now.json\")\n",
    "handleResponse(response, True)[0]"
   ]
  },
  {
   "cell_type": "markdown",
   "metadata": {
    "id": "H8Z7AkhTIUi3"
   },
   "source": [
    ">"
   ]
  },
  {
   "cell_type": "markdown",
   "metadata": {
    "id": "2lHXfE7KIHQp"
   },
   "source": [
    "\n",
    "\n",
    "---\n",
    "\n",
    "\n",
    "\n",
    "---\n",
    "\n",
    "\n",
    "\n",
    "> > > > > > > > > © 2025 Institute of Data\n",
    "\n",
    "\n",
    "---\n",
    "\n",
    "\n",
    "\n",
    "---\n",
    "\n",
    "\n",
    "\n"
   ]
  }
 ],
 "metadata": {
  "colab": {
   "provenance": [
    {
     "file_id": "1RknypYS3TD4wPumGiPV69EWtkq-3UBwF",
     "timestamp": 1553136072736
    }
   ]
  },
  "kernelspec": {
   "display_name": "Python [conda env:base] *",
   "language": "python",
   "name": "conda-base-py"
  },
  "language_info": {
   "codemirror_mode": {
    "name": "ipython",
    "version": 3
   },
   "file_extension": ".py",
   "mimetype": "text/x-python",
   "name": "python",
   "nbconvert_exporter": "python",
   "pygments_lexer": "ipython3",
   "version": "3.11.5"
  }
 },
 "nbformat": 4,
 "nbformat_minor": 4
}
