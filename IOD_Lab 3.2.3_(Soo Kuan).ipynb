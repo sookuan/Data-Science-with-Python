{
 "cells": [
  {
   "cell_type": "markdown",
   "metadata": {
    "id": "2H4rNmz9QMoq"
   },
   "source": [
    "<div>\n",
    "<img src=https://www.institutedata.com/wp-content/uploads/2019/10/iod_h_tp_primary_c.svg width=\"300\">\n",
    "</div>"
   ]
  },
  {
   "cell_type": "markdown",
   "metadata": {
    "id": "-z0xtWELQMot"
   },
   "source": [
    "# Lab 3.2.3\n",
    "# *Google BigQuery and Gemini API*"
   ]
  },
  {
   "cell_type": "markdown",
   "metadata": {
    "id": "Fyl3eBVAQMox"
   },
   "source": [
    "## Introduction"
   ]
  },
  {
   "cell_type": "markdown",
   "metadata": {
    "id": "xDR6T_maQMo0"
   },
   "source": [
    "The Google BigQuery UI provides access to Google's extensive collection of public data sets via an SQL-based query engine.\n",
    "\n",
    "The BigQuery API provides programmatic access to the data sets.\n",
    "\n",
    "The Google Gemini API provides programmatic access to Google's Generative AI models.\n",
    "\n",
    "Each of these is explored in this lab."
   ]
  },
  {
   "cell_type": "markdown",
   "metadata": {
    "id": "g2EqZVSGQMo3"
   },
   "source": [
    "## BigQuery Web UI\n",
    "\n",
    "The Google BigQuery UI can be used to discover interesting data before writing Python code to access it. Then we can reproduce it in an API request so as to aggregate large amounts of data on Google's infrastructure before pulling the results into our application.\n",
    "\n",
    "Work through the Quickstart at https://cloud.google.com/bigquery/docs/quickstarts/quickstart-web-ui.\n",
    "\n",
    "You will need to set up a Google Cloud Platform account if you don't already have one. (This should not cost anything during the trial period unless you perform a large amount of querying. Afterwards, costs are based on actual resource usage, but most offerings have a free tier.)"
   ]
  },
  {
   "cell_type": "markdown",
   "metadata": {
    "id": "JM7ACBFEQMo6"
   },
   "source": [
    "## BigQuery API\n",
    "\n",
    "- Open Google Cloud Console (https://console.cloud.google.com/home/) and select to create a project. A project is required to enable access to Google Cloud services such as BigQuery and Gemini.\n",
    "\n",
    "- Check that the BigQuery API is enabled in your project by visiting https://console.cloud.google.com/apis/library/bigquery.googleapis.com."
   ]
  },
  {
   "cell_type": "markdown",
   "metadata": {
    "id": "peKoqVLaQMpA"
   },
   "source": [
    "### Authentication\n",
    "\n",
    "Create a **service account** at https://console.cloud.google.com/iam-admin/serviceaccounts/create. A service account is used by an application to access Google Cloud Platform's services and has an associated email address (different from your own).\n"
   ]
  },
  {
   "cell_type": "markdown",
   "metadata": {
    "id": "RprZFRn6QMpB"
   },
   "source": [
    "- Give the account an appropriate name, and under step 2 (Grant this service account access to project (optional)), choose \"Owner\" under the \"Select a Role\" dropdown.\n",
    "\n",
    "- Ignore step 3 and click \"Done\"."
   ]
  },
  {
   "cell_type": "markdown",
   "metadata": {
    "id": "Vs9LutadQMpD"
   },
   "source": [
    "Go to https://console.cloud.google.com/iam-admin/serviceaccounts to create a **service account key**. This will be downloaded to your computer so that you can connect to the BigQuery API via this Jupyter notebook.\n",
    "\n",
    "- Select your recently created project.\n",
    "- Click the email address of the service account.\n",
    "- Click the Keys tab.\n",
    "- Click the Add key drop-down menu, then select Create new key.\n",
    "- Select JSON as the Key type and click Create.\n",
    "- The keys will get saved to your computer.\n",
    "\n",
    "Note the location and copy the file path (of the json file) to somewhere safe, for future reference."
   ]
  },
  {
   "cell_type": "markdown",
   "metadata": {
    "id": "F4c4B7yHQMpH"
   },
   "source": [
    "See here for more information:\n",
    "\n",
    "Service Account creation: https://cloud.google.com/iam/docs/service-accounts-create#creating (under Console)\n",
    "\n",
    "Service Account key creation: https://cloud.google.com/iam/docs/keys-create-delete#iam-service-account-keys-create-console (under Console)\n"
   ]
  },
  {
   "cell_type": "markdown",
   "metadata": {
    "id": "LycUcpuhQMpK"
   },
   "source": [
    "### Using the Python API\n",
    "\n",
    "Google provides Python libraries for wrapping the Google APIs.\n",
    "\n",
    "Installing the \"google-cloud-bigquery\", \"google-cloud-storage\", and \"google-cloud-bigquery-storage\" libraries should cover all the dependencies for the BigQuery section of this lab."
   ]
  },
  {
   "cell_type": "code",
   "execution_count": 1,
   "metadata": {
    "id": "OrjH1yqXxpwe"
   },
   "outputs": [
    {
     "name": "stdout",
     "output_type": "stream",
     "text": [
      "Collecting google-cloud-bigquery\n",
      "  Obtaining dependency information for google-cloud-bigquery from https://files.pythonhosted.org/packages/b1/7e/7115c4f67ca0bc678f25bff1eab56cc37d06eb9a3978940b2ebd0705aa0a/google_cloud_bigquery-3.34.0-py3-none-any.whl.metadata\n",
      "  Downloading google_cloud_bigquery-3.34.0-py3-none-any.whl.metadata (8.0 kB)\n",
      "Requirement already satisfied: google-api-core[grpc]<3.0.0,>=2.11.1 in c:\\users\\nsk_z\\anaconda3\\lib\\site-packages (from google-cloud-bigquery) (2.25.1)\n",
      "Requirement already satisfied: google-auth<3.0.0,>=2.14.1 in c:\\users\\nsk_z\\anaconda3\\lib\\site-packages (from google-cloud-bigquery) (2.40.3)\n",
      "Collecting google-cloud-core<3.0.0,>=2.4.1 (from google-cloud-bigquery)\n",
      "  Obtaining dependency information for google-cloud-core<3.0.0,>=2.4.1 from https://files.pythonhosted.org/packages/40/86/bda7241a8da2d28a754aad2ba0f6776e35b67e37c36ae0c45d49370f1014/google_cloud_core-2.4.3-py2.py3-none-any.whl.metadata\n",
      "  Downloading google_cloud_core-2.4.3-py2.py3-none-any.whl.metadata (2.7 kB)\n",
      "Collecting google-resumable-media<3.0.0,>=2.0.0 (from google-cloud-bigquery)\n",
      "  Obtaining dependency information for google-resumable-media<3.0.0,>=2.0.0 from https://files.pythonhosted.org/packages/82/35/b8d3baf8c46695858cb9d8835a53baa1eeb9906ddaf2f728a5f5b640fd1e/google_resumable_media-2.7.2-py2.py3-none-any.whl.metadata\n",
      "  Downloading google_resumable_media-2.7.2-py2.py3-none-any.whl.metadata (2.2 kB)\n",
      "Requirement already satisfied: packaging>=24.2.0 in c:\\users\\nsk_z\\anaconda3\\lib\\site-packages (from google-cloud-bigquery) (24.2)\n",
      "Requirement already satisfied: python-dateutil<3.0.0,>=2.8.2 in c:\\users\\nsk_z\\anaconda3\\lib\\site-packages (from google-cloud-bigquery) (2.9.0.post0)\n",
      "Requirement already satisfied: requests<3.0.0,>=2.21.0 in c:\\users\\nsk_z\\anaconda3\\lib\\site-packages (from google-cloud-bigquery) (2.32.3)\n",
      "Requirement already satisfied: googleapis-common-protos<2.0.0,>=1.56.2 in c:\\users\\nsk_z\\anaconda3\\lib\\site-packages (from google-api-core[grpc]<3.0.0,>=2.11.1->google-cloud-bigquery) (1.70.0)\n",
      "Requirement already satisfied: protobuf!=3.20.0,!=3.20.1,!=4.21.0,!=4.21.1,!=4.21.2,!=4.21.3,!=4.21.4,!=4.21.5,<7.0.0,>=3.19.5 in c:\\users\\nsk_z\\anaconda3\\lib\\site-packages (from google-api-core[grpc]<3.0.0,>=2.11.1->google-cloud-bigquery) (5.29.3)\n",
      "Requirement already satisfied: proto-plus<2.0.0,>=1.22.3 in c:\\users\\nsk_z\\anaconda3\\lib\\site-packages (from google-api-core[grpc]<3.0.0,>=2.11.1->google-cloud-bigquery) (1.26.1)\n",
      "Requirement already satisfied: grpcio<2.0.0,>=1.33.2 in c:\\users\\nsk_z\\anaconda3\\lib\\site-packages (from google-api-core[grpc]<3.0.0,>=2.11.1->google-cloud-bigquery) (1.73.0)\n",
      "Requirement already satisfied: grpcio-status<2.0.0,>=1.33.2 in c:\\users\\nsk_z\\anaconda3\\lib\\site-packages (from google-api-core[grpc]<3.0.0,>=2.11.1->google-cloud-bigquery) (1.71.0)\n",
      "Requirement already satisfied: cachetools<6.0,>=2.0.0 in c:\\users\\nsk_z\\anaconda3\\lib\\site-packages (from google-auth<3.0.0,>=2.14.1->google-cloud-bigquery) (5.5.2)\n",
      "Requirement already satisfied: pyasn1-modules>=0.2.1 in c:\\users\\nsk_z\\anaconda3\\lib\\site-packages (from google-auth<3.0.0,>=2.14.1->google-cloud-bigquery) (0.2.8)\n",
      "Requirement already satisfied: rsa<5,>=3.1.4 in c:\\users\\nsk_z\\anaconda3\\lib\\site-packages (from google-auth<3.0.0,>=2.14.1->google-cloud-bigquery) (4.9.1)\n",
      "Collecting google-crc32c<2.0dev,>=1.0 (from google-resumable-media<3.0.0,>=2.0.0->google-cloud-bigquery)\n",
      "  Obtaining dependency information for google-crc32c<2.0dev,>=1.0 from https://files.pythonhosted.org/packages/04/17/ed9aba495916fcf5fe4ecb2267ceb851fc5f273c4e4625ae453350cfd564/google_crc32c-1.7.1-cp311-cp311-win_amd64.whl.metadata\n",
      "  Downloading google_crc32c-1.7.1-cp311-cp311-win_amd64.whl.metadata (2.4 kB)\n",
      "Requirement already satisfied: six>=1.5 in c:\\users\\nsk_z\\anaconda3\\lib\\site-packages (from python-dateutil<3.0.0,>=2.8.2->google-cloud-bigquery) (1.16.0)\n",
      "Requirement already satisfied: charset-normalizer<4,>=2 in c:\\users\\nsk_z\\anaconda3\\lib\\site-packages (from requests<3.0.0,>=2.21.0->google-cloud-bigquery) (3.3.2)\n",
      "Requirement already satisfied: idna<4,>=2.5 in c:\\users\\nsk_z\\anaconda3\\lib\\site-packages (from requests<3.0.0,>=2.21.0->google-cloud-bigquery) (3.7)\n",
      "Requirement already satisfied: urllib3<3,>=1.21.1 in c:\\users\\nsk_z\\anaconda3\\lib\\site-packages (from requests<3.0.0,>=2.21.0->google-cloud-bigquery) (2.3.0)\n",
      "Requirement already satisfied: certifi>=2017.4.17 in c:\\users\\nsk_z\\anaconda3\\lib\\site-packages (from requests<3.0.0,>=2.21.0->google-cloud-bigquery) (2025.4.26)\n",
      "Requirement already satisfied: pyasn1<0.5.0,>=0.4.6 in c:\\users\\nsk_z\\anaconda3\\lib\\site-packages (from pyasn1-modules>=0.2.1->google-auth<3.0.0,>=2.14.1->google-cloud-bigquery) (0.4.8)\n",
      "Downloading google_cloud_bigquery-3.34.0-py3-none-any.whl (253 kB)\n",
      "   ---------------------------------------- 0.0/253.6 kB ? eta -:--:--\n",
      "   --- ----------------------------------- 20.5/253.6 kB 640.0 kB/s eta 0:00:01\n",
      "   -------------- ------------------------- 92.2/253.6 kB 1.3 MB/s eta 0:00:01\n",
      "   -------------------------------------- - 245.8/253.6 kB 2.1 MB/s eta 0:00:01\n",
      "   ---------------------------------------- 253.6/253.6 kB 1.9 MB/s eta 0:00:00\n",
      "Downloading google_cloud_core-2.4.3-py2.py3-none-any.whl (29 kB)\n",
      "Downloading google_resumable_media-2.7.2-py2.py3-none-any.whl (81 kB)\n",
      "   ---------------------------------------- 0.0/81.3 kB ? eta -:--:--\n",
      "   ---------------------------------------- 81.3/81.3 kB 4.4 MB/s eta 0:00:00\n",
      "Downloading google_crc32c-1.7.1-cp311-cp311-win_amd64.whl (33 kB)\n",
      "Installing collected packages: google-crc32c, google-resumable-media, google-cloud-core, google-cloud-bigquery\n",
      "Successfully installed google-cloud-bigquery-3.34.0 google-cloud-core-2.4.3 google-crc32c-1.7.1 google-resumable-media-2.7.2\n",
      "Collecting google-cloud-storage\n",
      "  Obtaining dependency information for google-cloud-storage from https://files.pythonhosted.org/packages/89/4f/b922e919f6e1ea5905f1427fadf1a3f56a85e79e2b0037fec182f6b437dd/google_cloud_storage-3.1.1-py3-none-any.whl.metadata\n",
      "  Downloading google_cloud_storage-3.1.1-py3-none-any.whl.metadata (13 kB)\n",
      "Requirement already satisfied: google-auth<3.0.0,>=2.26.1 in c:\\users\\nsk_z\\anaconda3\\lib\\site-packages (from google-cloud-storage) (2.40.3)\n",
      "Requirement already satisfied: google-api-core<3.0.0,>=2.15.0 in c:\\users\\nsk_z\\anaconda3\\lib\\site-packages (from google-cloud-storage) (2.25.1)\n",
      "Requirement already satisfied: google-cloud-core<3.0.0,>=2.4.2 in c:\\users\\nsk_z\\anaconda3\\lib\\site-packages (from google-cloud-storage) (2.4.3)\n",
      "Requirement already satisfied: google-resumable-media<3.0.0,>=2.7.2 in c:\\users\\nsk_z\\anaconda3\\lib\\site-packages (from google-cloud-storage) (2.7.2)\n",
      "Requirement already satisfied: requests<3.0.0,>=2.22.0 in c:\\users\\nsk_z\\anaconda3\\lib\\site-packages (from google-cloud-storage) (2.32.3)\n",
      "Requirement already satisfied: google-crc32c<2.0.0,>=1.1.3 in c:\\users\\nsk_z\\anaconda3\\lib\\site-packages (from google-cloud-storage) (1.7.1)\n",
      "Requirement already satisfied: googleapis-common-protos<2.0.0,>=1.56.2 in c:\\users\\nsk_z\\anaconda3\\lib\\site-packages (from google-api-core<3.0.0,>=2.15.0->google-cloud-storage) (1.70.0)\n",
      "Requirement already satisfied: protobuf!=3.20.0,!=3.20.1,!=4.21.0,!=4.21.1,!=4.21.2,!=4.21.3,!=4.21.4,!=4.21.5,<7.0.0,>=3.19.5 in c:\\users\\nsk_z\\anaconda3\\lib\\site-packages (from google-api-core<3.0.0,>=2.15.0->google-cloud-storage) (5.29.3)\n",
      "Requirement already satisfied: proto-plus<2.0.0,>=1.22.3 in c:\\users\\nsk_z\\anaconda3\\lib\\site-packages (from google-api-core<3.0.0,>=2.15.0->google-cloud-storage) (1.26.1)\n",
      "Requirement already satisfied: cachetools<6.0,>=2.0.0 in c:\\users\\nsk_z\\anaconda3\\lib\\site-packages (from google-auth<3.0.0,>=2.26.1->google-cloud-storage) (5.5.2)\n",
      "Requirement already satisfied: pyasn1-modules>=0.2.1 in c:\\users\\nsk_z\\anaconda3\\lib\\site-packages (from google-auth<3.0.0,>=2.26.1->google-cloud-storage) (0.2.8)\n",
      "Requirement already satisfied: rsa<5,>=3.1.4 in c:\\users\\nsk_z\\anaconda3\\lib\\site-packages (from google-auth<3.0.0,>=2.26.1->google-cloud-storage) (4.9.1)\n",
      "Requirement already satisfied: charset-normalizer<4,>=2 in c:\\users\\nsk_z\\anaconda3\\lib\\site-packages (from requests<3.0.0,>=2.22.0->google-cloud-storage) (3.3.2)\n",
      "Requirement already satisfied: idna<4,>=2.5 in c:\\users\\nsk_z\\anaconda3\\lib\\site-packages (from requests<3.0.0,>=2.22.0->google-cloud-storage) (3.7)\n",
      "Requirement already satisfied: urllib3<3,>=1.21.1 in c:\\users\\nsk_z\\anaconda3\\lib\\site-packages (from requests<3.0.0,>=2.22.0->google-cloud-storage) (2.3.0)\n",
      "Requirement already satisfied: certifi>=2017.4.17 in c:\\users\\nsk_z\\anaconda3\\lib\\site-packages (from requests<3.0.0,>=2.22.0->google-cloud-storage) (2025.4.26)\n",
      "Requirement already satisfied: pyasn1<0.5.0,>=0.4.6 in c:\\users\\nsk_z\\anaconda3\\lib\\site-packages (from pyasn1-modules>=0.2.1->google-auth<3.0.0,>=2.26.1->google-cloud-storage) (0.4.8)\n",
      "Downloading google_cloud_storage-3.1.1-py3-none-any.whl (175 kB)\n",
      "   ---------------------------------------- 0.0/175.5 kB ? eta -:--:--\n",
      "   ----------------------- ---------------- 102.4/175.5 kB 6.1 MB/s eta 0:00:01\n",
      "   ---------------------------------------- 175.5/175.5 kB 2.1 MB/s eta 0:00:00\n",
      "Installing collected packages: google-cloud-storage\n",
      "Successfully installed google-cloud-storage-3.1.1\n",
      "Collecting google-cloud-bigquery-storage\n",
      "  Obtaining dependency information for google-cloud-bigquery-storage from https://files.pythonhosted.org/packages/32/4c/5e7acb284276ef07f787b11ca4ad86fb814d1cf0bf6c6e8c3ae806b890ac/google_cloud_bigquery_storage-2.32.0-py3-none-any.whl.metadata\n",
      "  Downloading google_cloud_bigquery_storage-2.32.0-py3-none-any.whl.metadata (9.8 kB)\n",
      "Requirement already satisfied: google-api-core[grpc]!=2.0.*,!=2.1.*,!=2.10.*,!=2.2.*,!=2.3.*,!=2.4.*,!=2.5.*,!=2.6.*,!=2.7.*,!=2.8.*,!=2.9.*,<3.0.0,>=1.34.0 in c:\\users\\nsk_z\\anaconda3\\lib\\site-packages (from google-cloud-bigquery-storage) (2.25.1)\n",
      "Requirement already satisfied: google-auth<3.0.0,>=2.14.1 in c:\\users\\nsk_z\\anaconda3\\lib\\site-packages (from google-cloud-bigquery-storage) (2.40.3)\n",
      "Requirement already satisfied: proto-plus<2.0.0,>=1.22.0 in c:\\users\\nsk_z\\anaconda3\\lib\\site-packages (from google-cloud-bigquery-storage) (1.26.1)\n",
      "Requirement already satisfied: protobuf!=3.20.0,!=3.20.1,!=4.21.0,!=4.21.1,!=4.21.2,!=4.21.3,!=4.21.4,!=4.21.5,<7.0.0,>=3.20.2 in c:\\users\\nsk_z\\anaconda3\\lib\\site-packages (from google-cloud-bigquery-storage) (5.29.3)\n",
      "Requirement already satisfied: googleapis-common-protos<2.0.0,>=1.56.2 in c:\\users\\nsk_z\\anaconda3\\lib\\site-packages (from google-api-core[grpc]!=2.0.*,!=2.1.*,!=2.10.*,!=2.2.*,!=2.3.*,!=2.4.*,!=2.5.*,!=2.6.*,!=2.7.*,!=2.8.*,!=2.9.*,<3.0.0,>=1.34.0->google-cloud-bigquery-storage) (1.70.0)\n",
      "Requirement already satisfied: requests<3.0.0,>=2.18.0 in c:\\users\\nsk_z\\anaconda3\\lib\\site-packages (from google-api-core[grpc]!=2.0.*,!=2.1.*,!=2.10.*,!=2.2.*,!=2.3.*,!=2.4.*,!=2.5.*,!=2.6.*,!=2.7.*,!=2.8.*,!=2.9.*,<3.0.0,>=1.34.0->google-cloud-bigquery-storage) (2.32.3)\n",
      "Requirement already satisfied: grpcio<2.0.0,>=1.33.2 in c:\\users\\nsk_z\\anaconda3\\lib\\site-packages (from google-api-core[grpc]!=2.0.*,!=2.1.*,!=2.10.*,!=2.2.*,!=2.3.*,!=2.4.*,!=2.5.*,!=2.6.*,!=2.7.*,!=2.8.*,!=2.9.*,<3.0.0,>=1.34.0->google-cloud-bigquery-storage) (1.73.0)\n",
      "Requirement already satisfied: grpcio-status<2.0.0,>=1.33.2 in c:\\users\\nsk_z\\anaconda3\\lib\\site-packages (from google-api-core[grpc]!=2.0.*,!=2.1.*,!=2.10.*,!=2.2.*,!=2.3.*,!=2.4.*,!=2.5.*,!=2.6.*,!=2.7.*,!=2.8.*,!=2.9.*,<3.0.0,>=1.34.0->google-cloud-bigquery-storage) (1.71.0)\n",
      "Requirement already satisfied: cachetools<6.0,>=2.0.0 in c:\\users\\nsk_z\\anaconda3\\lib\\site-packages (from google-auth<3.0.0,>=2.14.1->google-cloud-bigquery-storage) (5.5.2)\n",
      "Requirement already satisfied: pyasn1-modules>=0.2.1 in c:\\users\\nsk_z\\anaconda3\\lib\\site-packages (from google-auth<3.0.0,>=2.14.1->google-cloud-bigquery-storage) (0.2.8)\n",
      "Requirement already satisfied: rsa<5,>=3.1.4 in c:\\users\\nsk_z\\anaconda3\\lib\\site-packages (from google-auth<3.0.0,>=2.14.1->google-cloud-bigquery-storage) (4.9.1)\n",
      "Requirement already satisfied: pyasn1<0.5.0,>=0.4.6 in c:\\users\\nsk_z\\anaconda3\\lib\\site-packages (from pyasn1-modules>=0.2.1->google-auth<3.0.0,>=2.14.1->google-cloud-bigquery-storage) (0.4.8)\n",
      "Requirement already satisfied: charset-normalizer<4,>=2 in c:\\users\\nsk_z\\anaconda3\\lib\\site-packages (from requests<3.0.0,>=2.18.0->google-api-core[grpc]!=2.0.*,!=2.1.*,!=2.10.*,!=2.2.*,!=2.3.*,!=2.4.*,!=2.5.*,!=2.6.*,!=2.7.*,!=2.8.*,!=2.9.*,<3.0.0,>=1.34.0->google-cloud-bigquery-storage) (3.3.2)\n",
      "Requirement already satisfied: idna<4,>=2.5 in c:\\users\\nsk_z\\anaconda3\\lib\\site-packages (from requests<3.0.0,>=2.18.0->google-api-core[grpc]!=2.0.*,!=2.1.*,!=2.10.*,!=2.2.*,!=2.3.*,!=2.4.*,!=2.5.*,!=2.6.*,!=2.7.*,!=2.8.*,!=2.9.*,<3.0.0,>=1.34.0->google-cloud-bigquery-storage) (3.7)\n",
      "Requirement already satisfied: urllib3<3,>=1.21.1 in c:\\users\\nsk_z\\anaconda3\\lib\\site-packages (from requests<3.0.0,>=2.18.0->google-api-core[grpc]!=2.0.*,!=2.1.*,!=2.10.*,!=2.2.*,!=2.3.*,!=2.4.*,!=2.5.*,!=2.6.*,!=2.7.*,!=2.8.*,!=2.9.*,<3.0.0,>=1.34.0->google-cloud-bigquery-storage) (2.3.0)\n",
      "Requirement already satisfied: certifi>=2017.4.17 in c:\\users\\nsk_z\\anaconda3\\lib\\site-packages (from requests<3.0.0,>=2.18.0->google-api-core[grpc]!=2.0.*,!=2.1.*,!=2.10.*,!=2.2.*,!=2.3.*,!=2.4.*,!=2.5.*,!=2.6.*,!=2.7.*,!=2.8.*,!=2.9.*,<3.0.0,>=1.34.0->google-cloud-bigquery-storage) (2025.4.26)\n",
      "Downloading google_cloud_bigquery_storage-2.32.0-py3-none-any.whl (296 kB)\n",
      "   ---------------------------------------- 0.0/296.4 kB ? eta -:--:--\n",
      "   ------------ --------------------------- 92.2/296.4 kB 2.6 MB/s eta 0:00:01\n",
      "   --------------------------- ------------ 204.8/296.4 kB 2.5 MB/s eta 0:00:01\n",
      "   -------------------------------------- - 286.7/296.4 kB 3.0 MB/s eta 0:00:01\n",
      "   ---------------------------------------- 296.4/296.4 kB 2.3 MB/s eta 0:00:00\n",
      "Installing collected packages: google-cloud-bigquery-storage\n",
      "Successfully installed google-cloud-bigquery-storage-2.32.0\n"
     ]
    }
   ],
   "source": [
    "!pip install google-cloud-bigquery\n",
    "!pip install google-cloud-storage\n",
    "!pip install google-cloud-bigquery-storage"
   ]
  },
  {
   "cell_type": "code",
   "execution_count": 2,
   "metadata": {
    "id": "eKCOlUl8QMpL"
   },
   "outputs": [],
   "source": [
    "from google.cloud import bigquery\n",
    "from google.cloud import storage\n",
    "from google.cloud import bigquery_storage"
   ]
  },
  {
   "cell_type": "markdown",
   "metadata": {
    "id": "sJfytyHnQMpZ"
   },
   "source": [
    "Invoke a method of the `.Client` object that takes the path to your key files as a string argument:"
   ]
  },
  {
   "cell_type": "code",
   "execution_count": 4,
   "metadata": {
    "id": "-L6z5aQRQMpZ"
   },
   "outputs": [],
   "source": [
    "key_path = 'iod-big-data-464513-5ccf72b16879.json'          #: Change this to match your key filename"
   ]
  },
  {
   "cell_type": "markdown",
   "metadata": {
    "id": "00HRXCrbQMpb"
   },
   "source": [
    "This should not throw an error if key retrieval / assignment worked:"
   ]
  },
  {
   "cell_type": "code",
   "execution_count": 6,
   "metadata": {
    "id": "EaI5dybYQMpc"
   },
   "outputs": [],
   "source": [
    "storage_client = storage.Client.from_service_account_json(key_path)"
   ]
  },
  {
   "cell_type": "markdown",
   "metadata": {
    "id": "XyF90p35QMpf"
   },
   "source": [
    "*Nb. The `storage` object was used in the above example, but there are other objects of interest that have polymorphic `Client` members that are used similarly, such as `bigquery`, which is used below.*"
   ]
  },
  {
   "cell_type": "markdown",
   "metadata": {
    "id": "U2ejMLo5QMpj"
   },
   "source": [
    "Next, execute this:"
   ]
  },
  {
   "cell_type": "code",
   "execution_count": 12,
   "metadata": {
    "id": "Lwfj-eI5QMpk"
   },
   "outputs": [],
   "source": [
    "client = bigquery.Client.from_service_account_json(key_path)"
   ]
  },
  {
   "cell_type": "markdown",
   "metadata": {
    "id": "vpF3Gu-iQMpm"
   },
   "source": [
    "This client is associated with the default project (which was set or defaulted in the BigQuery UI):"
   ]
  },
  {
   "cell_type": "code",
   "execution_count": 15,
   "metadata": {
    "id": "kO2v-luMQMpn"
   },
   "outputs": [
    {
     "data": {
      "text/plain": [
       "'iod-big-data-464513'"
      ]
     },
     "execution_count": 15,
     "metadata": {},
     "output_type": "execute_result"
    }
   ],
   "source": [
    "client.project"
   ]
  },
  {
   "cell_type": "markdown",
   "metadata": {
    "id": "w_pX9XbnQMpr"
   },
   "source": [
    "A BigQuery project contains datasets. Datasets contain tables. To get at the data in a table we need to create a reference that covers this hierarchy; in the `bigquery` library this looks like `project.dataset.table`.  \n",
    "\n",
    "(Nb. Queries can be performed on projects and datasets, but most queries are performed on tables.)"
   ]
  },
  {
   "cell_type": "markdown",
   "metadata": {
    "id": "JyJVwEuyQMps"
   },
   "source": [
    "To explore the public datasets we will start by reassigning our `client` variable using optional `project` parameter (set to `bigquery-public-data`):"
   ]
  },
  {
   "cell_type": "code",
   "execution_count": 19,
   "metadata": {
    "id": "cqpyCYo5QMps"
   },
   "outputs": [
    {
     "name": "stdout",
     "output_type": "stream",
     "text": [
      "bigquery-public-data\n"
     ]
    }
   ],
   "source": [
    "#project = 'bigquery-public-data'\n",
    "client = bigquery.Client.from_service_account_json(key_path, project = 'bigquery-public-data')\n",
    "print(client.project)"
   ]
  },
  {
   "cell_type": "markdown",
   "metadata": {
    "id": "MLI1MOiqQMpw"
   },
   "source": [
    "Here is how to get a list of the datasets in the current project:"
   ]
  },
  {
   "cell_type": "code",
   "execution_count": 22,
   "metadata": {
    "id": "_81SBSwKQMpx"
   },
   "outputs": [
    {
     "name": "stdout",
     "output_type": "stream",
     "text": [
      "[<google.cloud.bigquery.dataset.DatasetListItem object at 0x0000020B37CAB1D0>, <google.cloud.bigquery.dataset.DatasetListItem object at 0x0000020B37CA2B50>, <google.cloud.bigquery.dataset.DatasetListItem object at 0x0000020B37CA1890>, <google.cloud.bigquery.dataset.DatasetListItem object at 0x0000020B37CA1810>, <google.cloud.bigquery.dataset.DatasetListItem object at 0x0000020B37CA10D0>, <google.cloud.bigquery.dataset.DatasetListItem object at 0x0000020B37CA0290>, <google.cloud.bigquery.dataset.DatasetListItem object at 0x0000020B37CA3750>, <google.cloud.bigquery.dataset.DatasetListItem object at 0x0000020B3470AAD0>, <google.cloud.bigquery.dataset.DatasetListItem object at 0x0000020B37C7B4D0>, <google.cloud.bigquery.dataset.DatasetListItem object at 0x0000020B37C7B610>, <google.cloud.bigquery.dataset.DatasetListItem object at 0x0000020B343B9150>, <google.cloud.bigquery.dataset.DatasetListItem object at 0x0000020B37CC1150>, <google.cloud.bigquery.dataset.DatasetListItem object at 0x0000020B37CC1250>, <google.cloud.bigquery.dataset.DatasetListItem object at 0x0000020B37CC0CD0>, <google.cloud.bigquery.dataset.DatasetListItem object at 0x0000020B37CC1E50>, <google.cloud.bigquery.dataset.DatasetListItem object at 0x0000020B37CC0410>, <google.cloud.bigquery.dataset.DatasetListItem object at 0x0000020B37CB2990>, <google.cloud.bigquery.dataset.DatasetListItem object at 0x0000020B37CB16D0>, <google.cloud.bigquery.dataset.DatasetListItem object at 0x0000020B37CB2D90>, <google.cloud.bigquery.dataset.DatasetListItem object at 0x0000020B37CB2850>, <google.cloud.bigquery.dataset.DatasetListItem object at 0x0000020B37CB2FD0>, <google.cloud.bigquery.dataset.DatasetListItem object at 0x0000020B37CB2690>, <google.cloud.bigquery.dataset.DatasetListItem object at 0x0000020B37CB28D0>, <google.cloud.bigquery.dataset.DatasetListItem object at 0x0000020B37CB0090>, <google.cloud.bigquery.dataset.DatasetListItem object at 0x0000020B37CCA090>, <google.cloud.bigquery.dataset.DatasetListItem object at 0x0000020B37CC8790>, <google.cloud.bigquery.dataset.DatasetListItem object at 0x0000020B37CCB1D0>, <google.cloud.bigquery.dataset.DatasetListItem object at 0x0000020B37CCB810>, <google.cloud.bigquery.dataset.DatasetListItem object at 0x0000020B37CC8D90>, <google.cloud.bigquery.dataset.DatasetListItem object at 0x0000020B37CCB210>, <google.cloud.bigquery.dataset.DatasetListItem object at 0x0000020B37CCB3D0>, <google.cloud.bigquery.dataset.DatasetListItem object at 0x0000020B37CCBD10>, <google.cloud.bigquery.dataset.DatasetListItem object at 0x0000020B37CCA6D0>, <google.cloud.bigquery.dataset.DatasetListItem object at 0x0000020B37CCB610>, <google.cloud.bigquery.dataset.DatasetListItem object at 0x0000020B37CCB550>, <google.cloud.bigquery.dataset.DatasetListItem object at 0x0000020B37CC8A90>, <google.cloud.bigquery.dataset.DatasetListItem object at 0x0000020B37CCBAD0>, <google.cloud.bigquery.dataset.DatasetListItem object at 0x0000020B37CCB710>, <google.cloud.bigquery.dataset.DatasetListItem object at 0x0000020B37CC9DD0>, <google.cloud.bigquery.dataset.DatasetListItem object at 0x0000020B37CC8090>, <google.cloud.bigquery.dataset.DatasetListItem object at 0x0000020B37CCDF50>, <google.cloud.bigquery.dataset.DatasetListItem object at 0x0000020B37CCDF90>, <google.cloud.bigquery.dataset.DatasetListItem object at 0x0000020B37CCDFD0>, <google.cloud.bigquery.dataset.DatasetListItem object at 0x0000020B37CCE010>, <google.cloud.bigquery.dataset.DatasetListItem object at 0x0000020B37CCE050>, <google.cloud.bigquery.dataset.DatasetListItem object at 0x0000020B37CCE090>, <google.cloud.bigquery.dataset.DatasetListItem object at 0x0000020B37CCE0D0>, <google.cloud.bigquery.dataset.DatasetListItem object at 0x0000020B37CCE110>, <google.cloud.bigquery.dataset.DatasetListItem object at 0x0000020B37CCE150>, <google.cloud.bigquery.dataset.DatasetListItem object at 0x0000020B37CCE190>, <google.cloud.bigquery.dataset.DatasetListItem object at 0x0000020B34396DD0>, <google.cloud.bigquery.dataset.DatasetListItem object at 0x0000020B373EA0D0>, <google.cloud.bigquery.dataset.DatasetListItem object at 0x0000020B353975D0>, <google.cloud.bigquery.dataset.DatasetListItem object at 0x0000020B37C29290>, <google.cloud.bigquery.dataset.DatasetListItem object at 0x0000020B343C1A10>, <google.cloud.bigquery.dataset.DatasetListItem object at 0x0000020B37CC8CD0>, <google.cloud.bigquery.dataset.DatasetListItem object at 0x0000020B37CC8690>, <google.cloud.bigquery.dataset.DatasetListItem object at 0x0000020B37CCB650>, <google.cloud.bigquery.dataset.DatasetListItem object at 0x0000020B37CB3750>, <google.cloud.bigquery.dataset.DatasetListItem object at 0x0000020B37CB3AD0>, <google.cloud.bigquery.dataset.DatasetListItem object at 0x0000020B37CB19D0>, <google.cloud.bigquery.dataset.DatasetListItem object at 0x0000020B37CB2950>, <google.cloud.bigquery.dataset.DatasetListItem object at 0x0000020B37CB26D0>, <google.cloud.bigquery.dataset.DatasetListItem object at 0x0000020B37CC1010>, <google.cloud.bigquery.dataset.DatasetListItem object at 0x0000020B37CC09D0>, <google.cloud.bigquery.dataset.DatasetListItem object at 0x0000020B37CC2AD0>, <google.cloud.bigquery.dataset.DatasetListItem object at 0x0000020B37CC0710>, <google.cloud.bigquery.dataset.DatasetListItem object at 0x0000020B37CC2510>, <google.cloud.bigquery.dataset.DatasetListItem object at 0x0000020B37CC3350>, <google.cloud.bigquery.dataset.DatasetListItem object at 0x0000020B37CC2990>, <google.cloud.bigquery.dataset.DatasetListItem object at 0x0000020B37CC3850>, <google.cloud.bigquery.dataset.DatasetListItem object at 0x0000020B37CC3F10>, <google.cloud.bigquery.dataset.DatasetListItem object at 0x0000020B37CC3210>, <google.cloud.bigquery.dataset.DatasetListItem object at 0x0000020B37CC2850>, <google.cloud.bigquery.dataset.DatasetListItem object at 0x0000020B37CC2F90>, <google.cloud.bigquery.dataset.DatasetListItem object at 0x0000020B37CCE1D0>, <google.cloud.bigquery.dataset.DatasetListItem object at 0x0000020B37CCE210>, <google.cloud.bigquery.dataset.DatasetListItem object at 0x0000020B37CCE250>, <google.cloud.bigquery.dataset.DatasetListItem object at 0x0000020B37CCE350>, <google.cloud.bigquery.dataset.DatasetListItem object at 0x0000020B37CCE290>, <google.cloud.bigquery.dataset.DatasetListItem object at 0x0000020B37CCE2D0>, <google.cloud.bigquery.dataset.DatasetListItem object at 0x0000020B37CCE750>, <google.cloud.bigquery.dataset.DatasetListItem object at 0x0000020B37CCE710>, <google.cloud.bigquery.dataset.DatasetListItem object at 0x0000020B37CCE650>, <google.cloud.bigquery.dataset.DatasetListItem object at 0x0000020B37CCE6D0>, <google.cloud.bigquery.dataset.DatasetListItem object at 0x0000020B37CCE690>, <google.cloud.bigquery.dataset.DatasetListItem object at 0x0000020B37CCEB90>, <google.cloud.bigquery.dataset.DatasetListItem object at 0x0000020B37CCEC50>, <google.cloud.bigquery.dataset.DatasetListItem object at 0x0000020B37CCEC10>, <google.cloud.bigquery.dataset.DatasetListItem object at 0x0000020B37CCEB10>, <google.cloud.bigquery.dataset.DatasetListItem object at 0x0000020B37CCE990>, <google.cloud.bigquery.dataset.DatasetListItem object at 0x0000020B37CCE810>, <google.cloud.bigquery.dataset.DatasetListItem object at 0x0000020B37CCEF10>, <google.cloud.bigquery.dataset.DatasetListItem object at 0x0000020B37CCF450>, <google.cloud.bigquery.dataset.DatasetListItem object at 0x0000020B37CCE550>, <google.cloud.bigquery.dataset.DatasetListItem object at 0x0000020B37CCEE50>, <google.cloud.bigquery.dataset.DatasetListItem object at 0x0000020B37CCF3D0>, <google.cloud.bigquery.dataset.DatasetListItem object at 0x0000020B37CCEF90>, <google.cloud.bigquery.dataset.DatasetListItem object at 0x0000020B37CCF390>, <google.cloud.bigquery.dataset.DatasetListItem object at 0x0000020B37CCF350>, <google.cloud.bigquery.dataset.DatasetListItem object at 0x0000020B37CA1DD0>, <google.cloud.bigquery.dataset.DatasetListItem object at 0x0000020B37CC9F90>, <google.cloud.bigquery.dataset.DatasetListItem object at 0x0000020B37C7B2D0>, <google.cloud.bigquery.dataset.DatasetListItem object at 0x0000020B37CC3B90>, <google.cloud.bigquery.dataset.DatasetListItem object at 0x0000020B37CC1F10>, <google.cloud.bigquery.dataset.DatasetListItem object at 0x0000020B37CCE410>, <google.cloud.bigquery.dataset.DatasetListItem object at 0x0000020B37CCE390>, <google.cloud.bigquery.dataset.DatasetListItem object at 0x0000020B37CCEE10>, <google.cloud.bigquery.dataset.DatasetListItem object at 0x0000020B37CCEB50>, <google.cloud.bigquery.dataset.DatasetListItem object at 0x0000020B37CCEED0>, <google.cloud.bigquery.dataset.DatasetListItem object at 0x0000020B37CCF190>, <google.cloud.bigquery.dataset.DatasetListItem object at 0x0000020B37CCF250>, <google.cloud.bigquery.dataset.DatasetListItem object at 0x0000020B37CCF150>, <google.cloud.bigquery.dataset.DatasetListItem object at 0x0000020B37CCF210>, <google.cloud.bigquery.dataset.DatasetListItem object at 0x0000020B37CCF050>, <google.cloud.bigquery.dataset.DatasetListItem object at 0x0000020B37CCF0D0>, <google.cloud.bigquery.dataset.DatasetListItem object at 0x0000020B37CCEAD0>, <google.cloud.bigquery.dataset.DatasetListItem object at 0x0000020B37CCEFD0>, <google.cloud.bigquery.dataset.DatasetListItem object at 0x0000020B37CCE610>, <google.cloud.bigquery.dataset.DatasetListItem object at 0x0000020B37CCF090>, <google.cloud.bigquery.dataset.DatasetListItem object at 0x0000020B37CCF010>, <google.cloud.bigquery.dataset.DatasetListItem object at 0x0000020B37CDA450>, <google.cloud.bigquery.dataset.DatasetListItem object at 0x0000020B37CDA390>, <google.cloud.bigquery.dataset.DatasetListItem object at 0x0000020B37CDA3D0>, <google.cloud.bigquery.dataset.DatasetListItem object at 0x0000020B37CDA850>, <google.cloud.bigquery.dataset.DatasetListItem object at 0x0000020B37CDA810>, <google.cloud.bigquery.dataset.DatasetListItem object at 0x0000020B37CDA750>, <google.cloud.bigquery.dataset.DatasetListItem object at 0x0000020B37CDA7D0>, <google.cloud.bigquery.dataset.DatasetListItem object at 0x0000020B37CDA790>, <google.cloud.bigquery.dataset.DatasetListItem object at 0x0000020B37CDACD0>, <google.cloud.bigquery.dataset.DatasetListItem object at 0x0000020B37CDAD50>, <google.cloud.bigquery.dataset.DatasetListItem object at 0x0000020B37CDAD10>, <google.cloud.bigquery.dataset.DatasetListItem object at 0x0000020B37CDAC10>, <google.cloud.bigquery.dataset.DatasetListItem object at 0x0000020B37CDAA90>, <google.cloud.bigquery.dataset.DatasetListItem object at 0x0000020B37CDA910>, <google.cloud.bigquery.dataset.DatasetListItem object at 0x0000020B37CDB050>, <google.cloud.bigquery.dataset.DatasetListItem object at 0x0000020B37CDB010>, <google.cloud.bigquery.dataset.DatasetListItem object at 0x0000020B37CDB590>, <google.cloud.bigquery.dataset.DatasetListItem object at 0x0000020B37CDA650>, <google.cloud.bigquery.dataset.DatasetListItem object at 0x0000020B37CDAF90>, <google.cloud.bigquery.dataset.DatasetListItem object at 0x0000020B37CDB510>, <google.cloud.bigquery.dataset.DatasetListItem object at 0x0000020B37CDAC50>, <google.cloud.bigquery.dataset.DatasetListItem object at 0x0000020B37CDB4D0>, <google.cloud.bigquery.dataset.DatasetListItem object at 0x0000020B37CDB490>, <google.cloud.bigquery.dataset.DatasetListItem object at 0x0000020B37CDB0D0>, <google.cloud.bigquery.dataset.DatasetListItem object at 0x0000020B37CDAF10>, <google.cloud.bigquery.dataset.DatasetListItem object at 0x0000020B37CDB090>, <google.cloud.bigquery.dataset.DatasetListItem object at 0x0000020B37CE9D90>, <google.cloud.bigquery.dataset.DatasetListItem object at 0x0000020B37CE9DD0>, <google.cloud.bigquery.dataset.DatasetListItem object at 0x0000020B37CE9E10>, <google.cloud.bigquery.dataset.DatasetListItem object at 0x0000020B37CCBE90>, <google.cloud.bigquery.dataset.DatasetListItem object at 0x0000020B37CB2F90>, <google.cloud.bigquery.dataset.DatasetListItem object at 0x0000020B37CC2190>, <google.cloud.bigquery.dataset.DatasetListItem object at 0x0000020B37CC0210>, <google.cloud.bigquery.dataset.DatasetListItem object at 0x0000020B37CCF310>, <google.cloud.bigquery.dataset.DatasetListItem object at 0x0000020B37CDA550>, <google.cloud.bigquery.dataset.DatasetListItem object at 0x0000020B37CDA510>, <google.cloud.bigquery.dataset.DatasetListItem object at 0x0000020B37CDB2D0>, <google.cloud.bigquery.dataset.DatasetListItem object at 0x0000020B37CDB390>, <google.cloud.bigquery.dataset.DatasetListItem object at 0x0000020B37CDB290>, <google.cloud.bigquery.dataset.DatasetListItem object at 0x0000020B37CDB350>, <google.cloud.bigquery.dataset.DatasetListItem object at 0x0000020B37CDB190>, <google.cloud.bigquery.dataset.DatasetListItem object at 0x0000020B37CDB210>, <google.cloud.bigquery.dataset.DatasetListItem object at 0x0000020B37CDABD0>, <google.cloud.bigquery.dataset.DatasetListItem object at 0x0000020B37CDB110>, <google.cloud.bigquery.dataset.DatasetListItem object at 0x0000020B37CDA710>, <google.cloud.bigquery.dataset.DatasetListItem object at 0x0000020B37CDB1D0>, <google.cloud.bigquery.dataset.DatasetListItem object at 0x0000020B37CDB150>, <google.cloud.bigquery.dataset.DatasetListItem object at 0x0000020B37CE9E50>, <google.cloud.bigquery.dataset.DatasetListItem object at 0x0000020B37CE9E90>, <google.cloud.bigquery.dataset.DatasetListItem object at 0x0000020B37CE9ED0>, <google.cloud.bigquery.dataset.DatasetListItem object at 0x0000020B37CE9FD0>, <google.cloud.bigquery.dataset.DatasetListItem object at 0x0000020B37CE9F10>, <google.cloud.bigquery.dataset.DatasetListItem object at 0x0000020B37CE9F50>, <google.cloud.bigquery.dataset.DatasetListItem object at 0x0000020B37CEA390>, <google.cloud.bigquery.dataset.DatasetListItem object at 0x0000020B37CEA350>, <google.cloud.bigquery.dataset.DatasetListItem object at 0x0000020B37CEA290>, <google.cloud.bigquery.dataset.DatasetListItem object at 0x0000020B37CEA310>, <google.cloud.bigquery.dataset.DatasetListItem object at 0x0000020B37CEA2D0>, <google.cloud.bigquery.dataset.DatasetListItem object at 0x0000020B37CEA7D0>, <google.cloud.bigquery.dataset.DatasetListItem object at 0x0000020B37CEA450>, <google.cloud.bigquery.dataset.DatasetListItem object at 0x0000020B37CEA8D0>, <google.cloud.bigquery.dataset.DatasetListItem object at 0x0000020B37CEA890>, <google.cloud.bigquery.dataset.DatasetListItem object at 0x0000020B37CEA850>, <google.cloud.bigquery.dataset.DatasetListItem object at 0x0000020B37CEA750>, <google.cloud.bigquery.dataset.DatasetListItem object at 0x0000020B37CEA810>, <google.cloud.bigquery.dataset.DatasetListItem object at 0x0000020B37CEABD0>, <google.cloud.bigquery.dataset.DatasetListItem object at 0x0000020B37CEAB90>, <google.cloud.bigquery.dataset.DatasetListItem object at 0x0000020B37CEB110>, <google.cloud.bigquery.dataset.DatasetListItem object at 0x0000020B37CEA190>, <google.cloud.bigquery.dataset.DatasetListItem object at 0x0000020B37CEAB10>, <google.cloud.bigquery.dataset.DatasetListItem object at 0x0000020B37CEB090>, <google.cloud.bigquery.dataset.DatasetListItem object at 0x0000020B37CEA5D0>, <google.cloud.bigquery.dataset.DatasetListItem object at 0x0000020B37CEB050>, <google.cloud.bigquery.dataset.DatasetListItem object at 0x0000020B37CEB010>, <google.cloud.bigquery.dataset.DatasetListItem object at 0x0000020B37CEAC50>, <google.cloud.bigquery.dataset.DatasetListItem object at 0x0000020B37CEAA90>, <google.cloud.bigquery.dataset.DatasetListItem object at 0x0000020B37CEAC10>, <google.cloud.bigquery.dataset.DatasetListItem object at 0x0000020B37CF9490>, <google.cloud.bigquery.dataset.DatasetListItem object at 0x0000020B37CF94D0>, <google.cloud.bigquery.dataset.DatasetListItem object at 0x0000020B37CB2C90>, <google.cloud.bigquery.dataset.DatasetListItem object at 0x0000020B32B26190>, <google.cloud.bigquery.dataset.DatasetListItem object at 0x0000020B37CCF290>, <google.cloud.bigquery.dataset.DatasetListItem object at 0x0000020B37CCF110>, <google.cloud.bigquery.dataset.DatasetListItem object at 0x0000020B37CDB450>, <google.cloud.bigquery.dataset.DatasetListItem object at 0x0000020B37CEA090>, <google.cloud.bigquery.dataset.DatasetListItem object at 0x0000020B37CEA010>, <google.cloud.bigquery.dataset.DatasetListItem object at 0x0000020B37CEAE50>, <google.cloud.bigquery.dataset.DatasetListItem object at 0x0000020B37CEAF10>, <google.cloud.bigquery.dataset.DatasetListItem object at 0x0000020B37CEAE10>, <google.cloud.bigquery.dataset.DatasetListItem object at 0x0000020B37CEAED0>, <google.cloud.bigquery.dataset.DatasetListItem object at 0x0000020B37CEAD10>, <google.cloud.bigquery.dataset.DatasetListItem object at 0x0000020B37CEAD90>, <google.cloud.bigquery.dataset.DatasetListItem object at 0x0000020B37CEA710>, <google.cloud.bigquery.dataset.DatasetListItem object at 0x0000020B37CEAC90>, <google.cloud.bigquery.dataset.DatasetListItem object at 0x0000020B37CEA250>, <google.cloud.bigquery.dataset.DatasetListItem object at 0x0000020B37CEAD50>, <google.cloud.bigquery.dataset.DatasetListItem object at 0x0000020B37CEACD0>, <google.cloud.bigquery.dataset.DatasetListItem object at 0x0000020B37CF9510>, <google.cloud.bigquery.dataset.DatasetListItem object at 0x0000020B37CF9550>, <google.cloud.bigquery.dataset.DatasetListItem object at 0x0000020B37CF9590>, <google.cloud.bigquery.dataset.DatasetListItem object at 0x0000020B37CF9690>, <google.cloud.bigquery.dataset.DatasetListItem object at 0x0000020B37CF95D0>, <google.cloud.bigquery.dataset.DatasetListItem object at 0x0000020B37CF9610>, <google.cloud.bigquery.dataset.DatasetListItem object at 0x0000020B37CF9A50>, <google.cloud.bigquery.dataset.DatasetListItem object at 0x0000020B37CF9A10>, <google.cloud.bigquery.dataset.DatasetListItem object at 0x0000020B37CF9950>, <google.cloud.bigquery.dataset.DatasetListItem object at 0x0000020B37CF99D0>, <google.cloud.bigquery.dataset.DatasetListItem object at 0x0000020B37CF9990>, <google.cloud.bigquery.dataset.DatasetListItem object at 0x0000020B37CF9E90>, <google.cloud.bigquery.dataset.DatasetListItem object at 0x0000020B37CF9F50>, <google.cloud.bigquery.dataset.DatasetListItem object at 0x0000020B37CF9F10>, <google.cloud.bigquery.dataset.DatasetListItem object at 0x0000020B37CF9E10>, <google.cloud.bigquery.dataset.DatasetListItem object at 0x0000020B37CF9C90>, <google.cloud.bigquery.dataset.DatasetListItem object at 0x0000020B37CF9B10>, <google.cloud.bigquery.dataset.DatasetListItem object at 0x0000020B37CFA250>, <google.cloud.bigquery.dataset.DatasetListItem object at 0x0000020B37CFA210>, <google.cloud.bigquery.dataset.DatasetListItem object at 0x0000020B37CFA790>, <google.cloud.bigquery.dataset.DatasetListItem object at 0x0000020B37CF9850>, <google.cloud.bigquery.dataset.DatasetListItem object at 0x0000020B37CFA190>, <google.cloud.bigquery.dataset.DatasetListItem object at 0x0000020B37CFA710>, <google.cloud.bigquery.dataset.DatasetListItem object at 0x0000020B37CF9E50>, <google.cloud.bigquery.dataset.DatasetListItem object at 0x0000020B37CFA6D0>, <google.cloud.bigquery.dataset.DatasetListItem object at 0x0000020B37CFA690>, <google.cloud.bigquery.dataset.DatasetListItem object at 0x0000020B37CFA2D0>, <google.cloud.bigquery.dataset.DatasetListItem object at 0x0000020B37CFA110>, <google.cloud.bigquery.dataset.DatasetListItem object at 0x0000020B37CFA290>, <google.cloud.bigquery.dataset.DatasetListItem object at 0x0000020B37D01490>, <google.cloud.bigquery.dataset.DatasetListItem object at 0x0000020B37D014D0>, <google.cloud.bigquery.dataset.DatasetListItem object at 0x0000020B37D01510>, <google.cloud.bigquery.dataset.DatasetListItem object at 0x0000020B37CDAF50>, <google.cloud.bigquery.dataset.DatasetListItem object at 0x0000020B37CDB3D0>, <google.cloud.bigquery.dataset.DatasetListItem object at 0x0000020B37CDB250>, <google.cloud.bigquery.dataset.DatasetListItem object at 0x0000020B37CC1650>, <google.cloud.bigquery.dataset.DatasetListItem object at 0x0000020B37CCF5D0>, <google.cloud.bigquery.dataset.DatasetListItem object at 0x0000020B37CCF590>, <google.cloud.bigquery.dataset.DatasetListItem object at 0x0000020B37CCF510>, <google.cloud.bigquery.dataset.DatasetListItem object at 0x0000020B37CB3E90>, <google.cloud.bigquery.dataset.DatasetListItem object at 0x0000020B37CF9750>, <google.cloud.bigquery.dataset.DatasetListItem object at 0x0000020B37CF96D0>, <google.cloud.bigquery.dataset.DatasetListItem object at 0x0000020B37CFA590>, <google.cloud.bigquery.dataset.DatasetListItem object at 0x0000020B37CFA510>, <google.cloud.bigquery.dataset.DatasetListItem object at 0x0000020B37CFA410>, <google.cloud.bigquery.dataset.DatasetListItem object at 0x0000020B37CFA150>, <google.cloud.bigquery.dataset.DatasetListItem object at 0x0000020B37CFA490>, <google.cloud.bigquery.dataset.DatasetListItem object at 0x0000020B37CFA010>, <google.cloud.bigquery.dataset.DatasetListItem object at 0x0000020B37CFA310>, <google.cloud.bigquery.dataset.DatasetListItem object at 0x0000020B37CF9DD0>, <google.cloud.bigquery.dataset.DatasetListItem object at 0x0000020B37CFA350>, <google.cloud.bigquery.dataset.DatasetListItem object at 0x0000020B37CFA3D0>, <google.cloud.bigquery.dataset.DatasetListItem object at 0x0000020B37CF9910>, <google.cloud.bigquery.dataset.DatasetListItem object at 0x0000020B37CF9B90>, <google.cloud.bigquery.dataset.DatasetListItem object at 0x0000020B37CEAFD0>, <google.cloud.bigquery.dataset.DatasetListItem object at 0x0000020B37D01550>, <google.cloud.bigquery.dataset.DatasetListItem object at 0x0000020B37D01590>, <google.cloud.bigquery.dataset.DatasetListItem object at 0x0000020B37D015D0>, <google.cloud.bigquery.dataset.DatasetListItem object at 0x0000020B37D016D0>, <google.cloud.bigquery.dataset.DatasetListItem object at 0x0000020B37D01610>, <google.cloud.bigquery.dataset.DatasetListItem object at 0x0000020B37D01650>, <google.cloud.bigquery.dataset.DatasetListItem object at 0x0000020B37D01A90>, <google.cloud.bigquery.dataset.DatasetListItem object at 0x0000020B37D01A50>, <google.cloud.bigquery.dataset.DatasetListItem object at 0x0000020B37D01990>, <google.cloud.bigquery.dataset.DatasetListItem object at 0x0000020B37D01A10>, <google.cloud.bigquery.dataset.DatasetListItem object at 0x0000020B37D019D0>, <google.cloud.bigquery.dataset.DatasetListItem object at 0x0000020B37D01F10>, <google.cloud.bigquery.dataset.DatasetListItem object at 0x0000020B37D01F90>, <google.cloud.bigquery.dataset.DatasetListItem object at 0x0000020B37D01F50>, <google.cloud.bigquery.dataset.DatasetListItem object at 0x0000020B37D01E50>, <google.cloud.bigquery.dataset.DatasetListItem object at 0x0000020B37D01CD0>, <google.cloud.bigquery.dataset.DatasetListItem object at 0x0000020B37D01B50>, <google.cloud.bigquery.dataset.DatasetListItem object at 0x0000020B37D02290>, <google.cloud.bigquery.dataset.DatasetListItem object at 0x0000020B37D02250>, <google.cloud.bigquery.dataset.DatasetListItem object at 0x0000020B37D02750>, <google.cloud.bigquery.dataset.DatasetListItem object at 0x0000020B37D01890>, <google.cloud.bigquery.dataset.DatasetListItem object at 0x0000020B37D021D0>, <google.cloud.bigquery.dataset.DatasetListItem object at 0x0000020B37D026D0>, <google.cloud.bigquery.dataset.DatasetListItem object at 0x0000020B37D01E90>, <google.cloud.bigquery.dataset.DatasetListItem object at 0x0000020B37D02690>, <google.cloud.bigquery.dataset.DatasetListItem object at 0x0000020B37D02650>, <google.cloud.bigquery.dataset.DatasetListItem object at 0x0000020B37D02310>, <google.cloud.bigquery.dataset.DatasetListItem object at 0x0000020B37CCBF90>, <google.cloud.bigquery.dataset.DatasetListItem object at 0x0000020B37CC37D0>, <google.cloud.bigquery.dataset.DatasetListItem object at 0x0000020B37CEAAD0>, <google.cloud.bigquery.dataset.DatasetListItem object at 0x0000020B37CEAF50>, <google.cloud.bigquery.dataset.DatasetListItem object at 0x0000020B37D01790>, <google.cloud.bigquery.dataset.DatasetListItem object at 0x0000020B37D01710>, <google.cloud.bigquery.dataset.DatasetListItem object at 0x0000020B37D02150>, <google.cloud.bigquery.dataset.DatasetListItem object at 0x0000020B37D022D0>, <google.cloud.bigquery.dataset.DatasetListItem object at 0x0000020B37D024D0>, <google.cloud.bigquery.dataset.DatasetListItem object at 0x0000020B37D02550>, <google.cloud.bigquery.dataset.DatasetListItem object at 0x0000020B37D02450>, <google.cloud.bigquery.dataset.DatasetListItem object at 0x0000020B37D02510>, <google.cloud.bigquery.dataset.DatasetListItem object at 0x0000020B37D02410>, <google.cloud.bigquery.dataset.DatasetListItem object at 0x0000020B37D02390>, <google.cloud.bigquery.dataset.DatasetListItem object at 0x0000020B37D02350>, <google.cloud.bigquery.dataset.DatasetListItem object at 0x0000020B37D01BD0>, <google.cloud.bigquery.dataset.DatasetListItem object at 0x0000020B37D01E10>, <google.cloud.bigquery.dataset.DatasetListItem object at 0x0000020B37CFA610>, <google.cloud.bigquery.dataset.DatasetListItem object at 0x0000020B37CFA450>, <google.cloud.bigquery.dataset.DatasetListItem object at 0x0000020B37CFA5D0>, <google.cloud.bigquery.dataset.DatasetListItem object at 0x0000020B37D09210>, <google.cloud.bigquery.dataset.DatasetListItem object at 0x0000020B37D09310>, <google.cloud.bigquery.dataset.DatasetListItem object at 0x0000020B37D09250>, <google.cloud.bigquery.dataset.DatasetListItem object at 0x0000020B37D09290>, <google.cloud.bigquery.dataset.DatasetListItem object at 0x0000020B37D09710>, <google.cloud.bigquery.dataset.DatasetListItem object at 0x0000020B37D096D0>, <google.cloud.bigquery.dataset.DatasetListItem object at 0x0000020B37D09610>, <google.cloud.bigquery.dataset.DatasetListItem object at 0x0000020B37D09690>, <google.cloud.bigquery.dataset.DatasetListItem object at 0x0000020B37D09650>, <google.cloud.bigquery.dataset.DatasetListItem object at 0x0000020B37D09B50>, <google.cloud.bigquery.dataset.DatasetListItem object at 0x0000020B37D09C10>, <google.cloud.bigquery.dataset.DatasetListItem object at 0x0000020B37D09BD0>, <google.cloud.bigquery.dataset.DatasetListItem object at 0x0000020B37D09AD0>, <google.cloud.bigquery.dataset.DatasetListItem object at 0x0000020B37D09950>, <google.cloud.bigquery.dataset.DatasetListItem object at 0x0000020B37D097D0>, <google.cloud.bigquery.dataset.DatasetListItem object at 0x0000020B37D09E90>, <google.cloud.bigquery.dataset.DatasetListItem object at 0x0000020B37D09E50>, <google.cloud.bigquery.dataset.DatasetListItem object at 0x0000020B37D0A450>, <google.cloud.bigquery.dataset.DatasetListItem object at 0x0000020B37D09A50>, <google.cloud.bigquery.dataset.DatasetListItem object at 0x0000020B37D09DD0>, <google.cloud.bigquery.dataset.DatasetListItem object at 0x0000020B37D0A3D0>, <google.cloud.bigquery.dataset.DatasetListItem object at 0x0000020B37D09F50>]\n"
     ]
    }
   ],
   "source": [
    "datasets = list(client.list_datasets())\n",
    "print(datasets)"
   ]
  },
  {
   "cell_type": "markdown",
   "metadata": {
    "id": "WsLMF5p_QMp2"
   },
   "source": [
    "That wasn't helpful. We need to go deeper into the object structure to get at something meaningful. Below is a function that exploits the `format` method of `project` and `dataset_id`, providing an easy way to list datasets:"
   ]
  },
  {
   "cell_type": "code",
   "execution_count": 25,
   "metadata": {
    "id": "afIVw6FNQMp6"
   },
   "outputs": [],
   "source": [
    "# function for listing datasets in a project:\n",
    "def printDatasetList(client):\n",
    "    project = client.project    #: only one project can be associated with a client instance\n",
    "    datasets = list(client.list_datasets())\n",
    "    if datasets:\n",
    "        print('Datasets in project {}:'.format(project))\n",
    "        for dataset in datasets:\n",
    "            print('\\t{}'.format(dataset.dataset_id))\n",
    "        found = True\n",
    "    else:\n",
    "        print('{} project does not contain any datasets.'.format(project))\n",
    "        found = False\n",
    "    return found"
   ]
  },
  {
   "cell_type": "code",
   "execution_count": 27,
   "metadata": {
    "id": "LHsC_THYQMp7"
   },
   "outputs": [
    {
     "name": "stdout",
     "output_type": "stream",
     "text": [
      "Datasets in project bigquery-public-data:\n",
      "\tamerica_health_rankings\n",
      "\taustin_311\n",
      "\taustin_bikeshare\n",
      "\taustin_crime\n",
      "\taustin_incidents\n",
      "\taustin_waste\n",
      "\tbaseball\n",
      "\tbbc_news\n",
      "\tbigqueryml_ncaa\n",
      "\tbitcoin_blockchain\n",
      "\tblackhole_database\n",
      "\tblockchain_analytics_ethereum_mainnet_us\n",
      "\tbls\n",
      "\tbls_qcew\n",
      "\tbreathe\n",
      "\tbroadstreet_adi\n",
      "\tcatalonian_mobile_coverage\n",
      "\tcatalonian_mobile_coverage_eu\n",
      "\tcensus_bureau_acs\n",
      "\tcensus_bureau_construction\n",
      "\tcensus_bureau_international\n",
      "\tcensus_bureau_usa\n",
      "\tcensus_opportunity_atlas\n",
      "\tcensus_utility\n",
      "\tcfpb_complaints\n",
      "\tchicago_crime\n",
      "\tchicago_taxi_trips\n",
      "\tclemson_dice\n",
      "\tcloud_storage_geo_index\n",
      "\tcms_codes\n",
      "\tcms_medicare\n",
      "\tcms_synthetic_patient_data_omop\n",
      "\tcountry_codes\n",
      "\tcovid19_aha\n",
      "\tcovid19_covidtracking\n",
      "\tcovid19_ecdc\n",
      "\tcovid19_ecdc_eu\n",
      "\tcovid19_genome_sequence\n",
      "\tcovid19_geotab_mobility_impact\n",
      "\tcovid19_geotab_mobility_impact_eu\n",
      "\tcovid19_google_mobility\n",
      "\tcovid19_google_mobility_eu\n",
      "\tcovid19_govt_response\n",
      "\tcovid19_italy\n",
      "\tcovid19_italy_eu\n",
      "\tcovid19_jhu_csse\n",
      "\tcovid19_jhu_csse_eu\n",
      "\tcovid19_nyt\n",
      "\tcovid19_open_data\n",
      "\tcovid19_open_data_eu\n",
      "\tcovid19_public_forecasts\n",
      "\tcovid19_public_forecasts_asia_ne1\n",
      "\tcovid19_rxrx19\n",
      "\tcovid19_symptom_search\n",
      "\tcovid19_tracking\n",
      "\tcovid19_usafacts\n",
      "\tcovid19_vaccination_access\n",
      "\tcovid19_vaccination_search_insights\n",
      "\tcovid19_weathersource_com\n",
      "\tcrypto_aptos_mainnet_us\n",
      "\tcrypto_aptos_testnet_us\n",
      "\tcrypto_band\n",
      "\tcrypto_bitcoin\n",
      "\tcrypto_bitcoin_cash\n",
      "\tcrypto_dash\n",
      "\tcrypto_dogecoin\n",
      "\tcrypto_ethereum\n",
      "\tcrypto_ethereum_classic\n",
      "\tcrypto_iotex\n",
      "\tcrypto_kusama\n",
      "\tcrypto_litecoin\n",
      "\tcrypto_multiversx_mainnet_eu\n",
      "\tcrypto_near_mainnet_us\n",
      "\tcrypto_polkadot\n",
      "\tcrypto_polygon\n",
      "\tcrypto_solana_mainnet_us\n",
      "\tcrypto_sui_mainnet_us\n",
      "\tcrypto_tezos\n",
      "\tcrypto_theta\n",
      "\tcrypto_zcash\n",
      "\tcrypto_zilliqa\n",
      "\tcymbal_investments\n",
      "\tdataflix_covid\n",
      "\tdataflix_traffic_safety\n",
      "\tdeepmind_alphafold\n",
      "\tdeps_dev_v1\n",
      "\tdimensions_ai_covid19\n",
      "\tebi_chembl\n",
      "\tebi_mgnify\n",
      "\tebi_surechembl\n",
      "\teclipse_megamovie\n",
      "\tepa_historical_air_quality\n",
      "\tethereum_blockchain\n",
      "\tetsi_technical_standards\n",
      "\tfaa\n",
      "\tfcc_political_ads\n",
      "\tfda_drug\n",
      "\tfda_food\n",
      "\tfdic_banks\n",
      "\tfec\n",
      "\tfhir_synthea\n",
      "\tga4_obfuscated_sample_ecommerce\n",
      "\tgbif\n",
      "\tgdelt_hathitrustbooks\n",
      "\tgdelt_internetarchivebooks\n",
      "\tgenomics_cannabis\n",
      "\tgenomics_rice\n",
      "\tgeo_census_blockgroups\n",
      "\tgeo_census_tracts\n",
      "\tgeo_international_ports\n",
      "\tgeo_openstreetmap\n",
      "\tgeo_us_boundaries\n",
      "\tgeo_us_census_places\n",
      "\tgeo_us_roads\n",
      "\tgeo_whos_on_first\n",
      "\tghcn_d\n",
      "\tghcn_m\n",
      "\tgithub_repos\n",
      "\tgnomAD\n",
      "\tgnomAD_asiane1\n",
      "\tgnomAD_eu\n",
      "\tgoog_blockchain_arbitrum_one_us\n",
      "\tgoog_blockchain_avalanche_contract_chain_us\n",
      "\tgoog_blockchain_cronos_mainnet_us\n",
      "\tgoog_blockchain_ethereum_goerli_us\n",
      "\tgoog_blockchain_ethereum_mainnet_us\n",
      "\tgoog_blockchain_fantom_opera_us\n",
      "\tgoog_blockchain_optimism_mainnet_us\n",
      "\tgoog_blockchain_polygon_mainnet_us\n",
      "\tgoog_blockchain_tron_mainnet_us\n",
      "\tgoogle_ads\n",
      "\tgoogle_ads_geo_mapping_asia_east1\n",
      "\tgoogle_ads_geo_mapping_asia_east2\n",
      "\tgoogle_ads_geo_mapping_asia_northeast1\n",
      "\tgoogle_ads_geo_mapping_asia_northeast2\n",
      "\tgoogle_ads_geo_mapping_asia_northeast3\n",
      "\tgoogle_ads_geo_mapping_asia_south1\n",
      "\tgoogle_ads_geo_mapping_asia_south2\n",
      "\tgoogle_ads_geo_mapping_asia_southeast1\n",
      "\tgoogle_ads_geo_mapping_asia_southeast2\n",
      "\tgoogle_ads_geo_mapping_australia_southeast1\n",
      "\tgoogle_ads_geo_mapping_australia_southeast2\n",
      "\tgoogle_ads_geo_mapping_eu\n",
      "\tgoogle_ads_geo_mapping_europe_central2\n",
      "\tgoogle_ads_geo_mapping_europe_north1\n",
      "\tgoogle_ads_geo_mapping_europe_southwest1\n",
      "\tgoogle_ads_geo_mapping_europe_west1\n",
      "\tgoogle_ads_geo_mapping_europe_west12\n",
      "\tgoogle_ads_geo_mapping_europe_west2\n",
      "\tgoogle_ads_geo_mapping_europe_west3\n",
      "\tgoogle_ads_geo_mapping_europe_west4\n",
      "\tgoogle_ads_geo_mapping_europe_west6\n",
      "\tgoogle_ads_geo_mapping_europe_west8\n",
      "\tgoogle_ads_geo_mapping_europe_west9\n",
      "\tgoogle_ads_geo_mapping_me_central1\n",
      "\tgoogle_ads_geo_mapping_me_central2\n",
      "\tgoogle_ads_geo_mapping_me_west1\n",
      "\tgoogle_ads_geo_mapping_northamerica_northeast1\n",
      "\tgoogle_ads_geo_mapping_northamerica_northeast2\n",
      "\tgoogle_ads_geo_mapping_southamerica_east1\n",
      "\tgoogle_ads_geo_mapping_southamerica_west1\n",
      "\tgoogle_ads_geo_mapping_us\n",
      "\tgoogle_ads_geo_mapping_us_central1\n",
      "\tgoogle_ads_geo_mapping_us_central2\n",
      "\tgoogle_ads_geo_mapping_us_east1\n",
      "\tgoogle_ads_geo_mapping_us_east4\n",
      "\tgoogle_ads_geo_mapping_us_east5\n",
      "\tgoogle_ads_geo_mapping_us_south1\n",
      "\tgoogle_ads_geo_mapping_us_west1\n",
      "\tgoogle_ads_geo_mapping_us_west2\n",
      "\tgoogle_ads_geo_mapping_us_west3\n",
      "\tgoogle_ads_geo_mapping_us_west4\n",
      "\tgoogle_ads_transparency_center\n",
      "\tgoogle_analytics_sample\n",
      "\tgoogle_books_ngrams_2020\n",
      "\tgoogle_cfe\n",
      "\tgoogle_cloud_release_notes\n",
      "\tgoogle_dei\n",
      "\tgoogle_patents_research\n",
      "\tgoogle_political_ads\n",
      "\tgoogle_trends\n",
      "\tgretel_synthetic_text_to_sql\n",
      "\thacker_news\n",
      "\thud_zipcode_crosswalk\n",
      "\thuman_genome_variants\n",
      "\thuman_variant_annotation\n",
      "\tidc_current\n",
      "\tidc_current_clinical\n",
      "\tidc_v1\n",
      "\tidc_v10\n",
      "\tidc_v11\n",
      "\tidc_v11_clinical\n",
      "\tidc_v12\n",
      "\tidc_v12_clinical\n",
      "\tidc_v13\n",
      "\tidc_v13_clinical\n",
      "\tidc_v14\n",
      "\tidc_v14_clinical\n",
      "\tidc_v15\n",
      "\tidc_v15_clinical\n",
      "\tidc_v16\n",
      "\tidc_v16_clinical\n",
      "\tidc_v17\n",
      "\tidc_v17_clinical\n",
      "\tidc_v18\n",
      "\tidc_v18_clinical\n",
      "\tidc_v19\n",
      "\tidc_v19_clinical\n",
      "\tidc_v2\n",
      "\tidc_v20\n",
      "\tidc_v20_clinical\n",
      "\tidc_v21\n",
      "\tidc_v21_clinical\n",
      "\tidc_v3\n",
      "\tidc_v4\n",
      "\tidc_v5\n",
      "\tidc_v6\n",
      "\tidc_v7\n",
      "\tidc_v8\n",
      "\tidc_v9\n",
      "\timdb\n",
      "\timmune_epitope_db\n",
      "\tiowa_liquor_sales\n",
      "\tiowa_liquor_sales_forecasting\n",
      "\tirs_990\n",
      "\tlabeled_patents\n",
      "\tlibraries_io\n",
      "\tlistenbrainz\n",
      "\tlondon_bicycles\n",
      "\tlondon_crime\n",
      "\tlondon_fire_brigade\n",
      "\tmarec\n",
      "\tmedicare\n",
      "\tml_datasets\n",
      "\tml_datasets_uscentral1\n",
      "\tmodis_terra_net_primary_production\n",
      "\tmoon_phases\n",
      "\tmultilingual_spoken_words_corpus\n",
      "\tnasa_wildfire\n",
      "\tnational_water_model\n",
      "\tncaa_basketball\n",
      "\tnces_ipeds\n",
      "\tnew_york\n",
      "\tnew_york_311\n",
      "\tnew_york_citibike\n",
      "\tnew_york_mv_collisions\n",
      "\tnew_york_subway\n",
      "\tnew_york_taxi_trips\n",
      "\tnew_york_trees\n",
      "\tnhtsa_traffic_fatalities\n",
      "\tnih_gudid\n",
      "\tnih_sequence_read\n",
      "\tnlm_rxnorm\n",
      "\tnoaa_global_forecast_system\n",
      "\tnoaa_goes16\n",
      "\tnoaa_goes17\n",
      "\tnoaa_gsod\n",
      "\tnoaa_historic_severe_storms\n",
      "\tnoaa_hurricanes\n",
      "\tnoaa_icoads\n",
      "\tnoaa_lightning\n",
      "\tnoaa_passive_acoustic_index\n",
      "\tnoaa_passive_bioacoustic\n",
      "\tnoaa_pifsc_metadata\n",
      "\tnoaa_preliminary_severe_storms\n",
      "\tnoaa_significant_earthquakes\n",
      "\tnoaa_tsunami\n",
      "\tnppes\n",
      "\tnrel_nsrdb\n",
      "\topen_buildings\n",
      "\topen_images\n",
      "\topen_targets_genetics\n",
      "\topen_targets_platform\n",
      "\topenaq\n",
      "\toverture_maps\n",
      "\tpatents\n",
      "\tpatents_cpc\n",
      "\tpatents_dsep\n",
      "\tpatents_view\n",
      "\tpersistent_udfs\n",
      "\tproperati_properties_ar\n",
      "\tproperati_properties_br\n",
      "\tproperati_properties_cl\n",
      "\tproperati_properties_co\n",
      "\tproperati_properties_mx\n",
      "\tproperati_properties_pe\n",
      "\tproperati_properties_uy\n",
      "\tpypi\n",
      "\trekor\n",
      "\tsamples\n",
      "\tsan_francisco\n",
      "\tsan_francisco_311\n",
      "\tsan_francisco_bikeshare\n",
      "\tsan_francisco_film_locations\n",
      "\tsan_francisco_neighborhoods\n",
      "\tsan_francisco_sffd_service_calls\n",
      "\tsan_francisco_sfpd_incidents\n",
      "\tsan_francisco_transit_muni\n",
      "\tsan_francisco_trees\n",
      "\tsdoh_bea_cainc30\n",
      "\tsdoh_cdc_wonder_natality\n",
      "\tsdoh_cms_dual_eligible_enrollment\n",
      "\tsdoh_hrsa_shortage_areas\n",
      "\tsdoh_hud_housing\n",
      "\tsdoh_hud_pit_homelessness\n",
      "\tsdoh_snap_enrollment\n",
      "\tsec_quarterly_financials\n",
      "\tstackoverflow\n",
      "\tsunroof_solar\n",
      "\ttest_dataset_for_labels\n",
      "\tthe_general_index\n",
      "\tthe_met\n",
      "\tthelook_ecommerce\n",
      "\ttpc_ds_10t\n",
      "\ttravel_impact_model\n",
      "\tucb_fung_patent_data\n",
      "\tumiami_lincs\n",
      "\tun_sdg\n",
      "\tus_res_real_est_data\n",
      "\tusa_contagious_disease\n",
      "\tusa_names\n",
      "\tusda_nass_agriculture\n",
      "\tusfs_fia\n",
      "\tusitc_investigations\n",
      "\tuspto_oce_assignment\n",
      "\tuspto_oce_cancer\n",
      "\tuspto_oce_claims\n",
      "\tuspto_oce_litigation\n",
      "\tuspto_oce_office_actions\n",
      "\tuspto_oce_pair\n",
      "\tuspto_ptab\n",
      "\tutility_eu\n",
      "\tutility_us\n",
      "\twikipedia\n",
      "\twise_all_sky_data_release\n",
      "\tworld_bank_global_population\n",
      "\tworld_bank_health_population\n",
      "\tworld_bank_intl_debt\n",
      "\tworld_bank_intl_education\n",
      "\tworld_bank_wdi\n",
      "\tworldbank_wdi\n",
      "\tworldpop\n"
     ]
    }
   ],
   "source": [
    "# list datasets in the default project:\n",
    "flag = printDatasetList(client)  #: assigning to `flag` suppresses printing the return value (normally `True`)"
   ]
  },
  {
   "cell_type": "markdown",
   "metadata": {
    "id": "PUB7M5KEQMp-"
   },
   "source": [
    "This list should correspond to what is shown here https://bigquery.cloud.google.com/publicdatasets under the **bigquery-public-data** item."
   ]
  },
  {
   "cell_type": "markdown",
   "metadata": {
    "id": "1eGTZqizQMp-"
   },
   "source": [
    "Here is how to create a dataset reference object by assigning a project and a dataset name:"
   ]
  },
  {
   "cell_type": "code",
   "execution_count": 31,
   "metadata": {
    "id": "Rja9NOTyQMp_"
   },
   "outputs": [],
   "source": [
    "dataset_id = 'samples'\n",
    "dataset_ref = client.dataset(dataset_id)"
   ]
  },
  {
   "cell_type": "markdown",
   "metadata": {
    "id": "wVeBwg8JQMqB"
   },
   "source": [
    "If our current project was something other than `bigquery-public-data`, we could still create this reference by specifying the project that contains the dataset:"
   ]
  },
  {
   "cell_type": "code",
   "execution_count": 34,
   "metadata": {
    "id": "pUcHVtXYQMqB"
   },
   "outputs": [],
   "source": [
    "dataset_id = 'samples'\n",
    "dataset_ref = client.dataset(dataset_id, project = 'bigquery-public-data')"
   ]
  },
  {
   "cell_type": "markdown",
   "metadata": {
    "id": "JfrckJFYQMqE"
   },
   "source": [
    "How can we get the path of the dataset?"
   ]
  },
  {
   "cell_type": "code",
   "execution_count": 37,
   "metadata": {
    "id": "aqKCkd8zQMqE"
   },
   "outputs": [
    {
     "data": {
      "text/plain": [
       "'/projects/bigquery-public-data/datasets/samples'"
      ]
     },
     "execution_count": 37,
     "metadata": {},
     "output_type": "execute_result"
    }
   ],
   "source": [
    "#ANSWER:\n",
    "dataset_ref.path\n"
   ]
  },
  {
   "cell_type": "markdown",
   "metadata": {
    "id": "fz7DDChLQMqH"
   },
   "source": [
    "Explore more of this object's members:\n",
    "\n",
    "*(HINT: You can type `dataset_ref.` in a new line, then hit the [Tab] key to see the available members for the object.)*"
   ]
  },
  {
   "cell_type": "code",
   "execution_count": 42,
   "metadata": {
    "id": "_UJplaMnQMqH"
   },
   "outputs": [
    {
     "ename": "SyntaxError",
     "evalue": "invalid syntax (852032548.py, line 2)",
     "output_type": "error",
     "traceback": [
      "\u001b[1;36m  Cell \u001b[1;32mIn[42], line 2\u001b[1;36m\u001b[0m\n\u001b[1;33m    dataset_ref.\u001b[0m\n\u001b[1;37m                ^\u001b[0m\n\u001b[1;31mSyntaxError\u001b[0m\u001b[1;31m:\u001b[0m invalid syntax\n"
     ]
    }
   ],
   "source": [
    "#?\n",
    "dataset_ref."
   ]
  },
  {
   "cell_type": "markdown",
   "metadata": {
    "id": "DBPXcGciQMqJ"
   },
   "source": [
    "Here is a function for listing the tables in a dataset:"
   ]
  },
  {
   "cell_type": "code",
   "execution_count": 39,
   "metadata": {
    "id": "yLvSI1HiQMqK"
   },
   "outputs": [],
   "source": [
    "# function for listing tables in a dataset:\n",
    "def printTableList(client, dataset_id):\n",
    "    project = client.project\n",
    "    dataset_ref = client.dataset(dataset_id, project = project)\n",
    "    tables = list(client.list_tables(dataset_ref))\n",
    "    if tables:\n",
    "        print('Tables in dataset {}:'.format(dataset_id))\n",
    "        for table in tables:\n",
    "            print('\\t{}'.format(table.table_id))\n",
    "        found = True\n",
    "    else:\n",
    "        print('{} dataset does not contain any tables.'.format(dataset_id))\n",
    "        found = False\n",
    "    return found"
   ]
  },
  {
   "cell_type": "markdown",
   "metadata": {
    "id": "a-K9gx_ZQMqL"
   },
   "source": [
    "Use this function to list the tables in the current dataset:"
   ]
  },
  {
   "cell_type": "code",
   "execution_count": 42,
   "metadata": {
    "id": "iQVbZwLRQMqL"
   },
   "outputs": [
    {
     "name": "stdout",
     "output_type": "stream",
     "text": [
      "Tables in dataset samples:\n",
      "\tgithub_nested\n",
      "\tgithub_timeline\n",
      "\tgsod\n",
      "\tnatality\n",
      "\tshakespeare\n",
      "\ttrigrams\n",
      "\twikipedia\n"
     ]
    },
    {
     "data": {
      "text/plain": [
       "True"
      ]
     },
     "execution_count": 42,
     "metadata": {},
     "output_type": "execute_result"
    }
   ],
   "source": [
    "#ANSWER\n",
    "printTableList(client, dataset_id)"
   ]
  },
  {
   "cell_type": "markdown",
   "metadata": {
    "id": "F6CzLw6YQMqN"
   },
   "source": [
    "To create a reference to a table within the dataset, we use the `table_id` attribute:"
   ]
  },
  {
   "cell_type": "code",
   "execution_count": 45,
   "metadata": {
    "id": "OIAuOmziQMqO"
   },
   "outputs": [],
   "source": [
    "table_id = 'shakespeare'\n",
    "table_ref = dataset_ref.table(table_id)"
   ]
  },
  {
   "cell_type": "markdown",
   "metadata": {
    "id": "A7LCWxz9QMqQ"
   },
   "source": [
    "To access the data in the table itself, we use the `get_table()` method:"
   ]
  },
  {
   "cell_type": "code",
   "execution_count": 48,
   "metadata": {
    "id": "l0-fX9j0QMqR"
   },
   "outputs": [],
   "source": [
    "table = client.get_table(table_ref)  # API Request"
   ]
  },
  {
   "cell_type": "code",
   "execution_count": 49,
   "metadata": {},
   "outputs": [
    {
     "data": {
      "text/plain": [
       "Table(TableReference(DatasetReference('bigquery-public-data', 'samples'), 'shakespeare'))"
      ]
     },
     "execution_count": 49,
     "metadata": {},
     "output_type": "execute_result"
    }
   ],
   "source": [
    "table"
   ]
  },
  {
   "cell_type": "markdown",
   "metadata": {
    "id": "TuWzIYpEQMqS"
   },
   "source": [
    "NOTE: The contents of the table are not actually in our memory after this call! We are working with a Big Data platform, now, and we could easily end up pulling GBs or TBs of data by accident.\n",
    "\n",
    "To minimise data bandwidth, memory consumption, and processing time, Big Data platforms employ ***lazy evaluation***. This means that no computation or data transfer actually takes place until we *realise* (use) the data. Even if we execute subsequent code that performs calculations on the data, no data flow or computation actually occurs until we request output (e.g. by executing a print to stdout or writing to a file)."
   ]
  },
  {
   "cell_type": "markdown",
   "metadata": {
    "id": "A5sefu0lQMqS"
   },
   "source": [
    "What kind of object is returned by `client.get_table`?"
   ]
  },
  {
   "cell_type": "code",
   "execution_count": 54,
   "metadata": {
    "id": "kF-aRGZsQMqS"
   },
   "outputs": [
    {
     "data": {
      "text/plain": [
       "google.cloud.bigquery.table.Table"
      ]
     },
     "execution_count": 54,
     "metadata": {},
     "output_type": "execute_result"
    }
   ],
   "source": [
    "#ANSWER:\n",
    "type(table)"
   ]
  },
  {
   "cell_type": "markdown",
   "metadata": {
    "id": "fPiGLOjnQMqU"
   },
   "source": [
    "How can we view the design of the table (column names and types)? The name of the object attribute we need is the same term we learned in the module on databases:"
   ]
  },
  {
   "cell_type": "code",
   "execution_count": 57,
   "metadata": {
    "id": "lBNJqT9EQMqU"
   },
   "outputs": [
    {
     "name": "stdout",
     "output_type": "stream",
     "text": [
      "[SchemaField('word', 'STRING', 'REQUIRED', None, 'A single unique word (where whitespace is the delimiter) extracted from a corpus.', (), None), SchemaField('word_count', 'INTEGER', 'REQUIRED', None, 'The number of times this word appears in this corpus.', (), None), SchemaField('corpus', 'STRING', 'REQUIRED', None, 'The work from which this word was extracted.', (), None), SchemaField('corpus_date', 'INTEGER', 'REQUIRED', None, 'The year in which this corpus was published.', (), None)]\n"
     ]
    }
   ],
   "source": [
    "#ANSWER\n",
    "print(table.schema)"
   ]
  },
  {
   "cell_type": "markdown",
   "metadata": {
    "id": "iGrt3XsIQMqW"
   },
   "source": [
    "Again, this is messy. If we wanted to refer to the column names and types in code, we might use something like this (which we could then parse into a dict):"
   ]
  },
  {
   "cell_type": "code",
   "execution_count": 60,
   "metadata": {
    "id": "G27W0Q9QQMqX"
   },
   "outputs": [
    {
     "name": "stdout",
     "output_type": "stream",
     "text": [
      "['word STRING', 'word_count INTEGER', 'corpus STRING', 'corpus_date INTEGER']\n"
     ]
    }
   ],
   "source": [
    "result = [\"{0} {1}\".format(schema.name,schema.field_type) for schema in table.schema]\n",
    "print(result)"
   ]
  },
  {
   "cell_type": "markdown",
   "metadata": {
    "id": "EKV8IsmlQMqY"
   },
   "source": [
    "But if we just want to print them, here is another neat function for that:"
   ]
  },
  {
   "cell_type": "code",
   "execution_count": 63,
   "metadata": {
    "id": "m1uf0jPxQMqZ"
   },
   "outputs": [],
   "source": [
    "# function to print a table schema:\n",
    "def printTableSchema(aTable):\n",
    "    schemas = list(aTable.schema)\n",
    "    if schemas:\n",
    "        print('Table schema for {}:'.format(aTable.table_id))\n",
    "        for aSchema in schemas:\n",
    "            print('\\t{0} {1}'.format(aSchema.name, aSchema.field_type))\n",
    "        found = True\n",
    "    else:\n",
    "        found = False\n",
    "    return found"
   ]
  },
  {
   "cell_type": "markdown",
   "metadata": {
    "id": "3-l8kOkVQMqa"
   },
   "source": [
    "Use this function to print the table schema:"
   ]
  },
  {
   "cell_type": "code",
   "execution_count": 66,
   "metadata": {
    "id": "zc10udqtQMqa"
   },
   "outputs": [
    {
     "name": "stdout",
     "output_type": "stream",
     "text": [
      "Table schema for shakespeare:\n",
      "\tword STRING\n",
      "\tword_count INTEGER\n",
      "\tcorpus STRING\n",
      "\tcorpus_date INTEGER\n"
     ]
    },
    {
     "data": {
      "text/plain": [
       "True"
      ]
     },
     "execution_count": 66,
     "metadata": {},
     "output_type": "execute_result"
    }
   ],
   "source": [
    "#ANSWER:\n",
    "printTableSchema(table)"
   ]
  },
  {
   "cell_type": "markdown",
   "metadata": {
    "id": "b8CKkZBPQMqc"
   },
   "source": [
    "Now that we know what the columns are, we can write queries. Actually, we construct a query job by assigning an SQL statement to a method of the `client` object:"
   ]
  },
  {
   "cell_type": "code",
   "execution_count": 70,
   "metadata": {
    "id": "yfsmLuJHQMqd"
   },
   "outputs": [],
   "source": [
    "sql = \"SELECT COUNT(1) FROM bigquery-public-data.samples.shakespeare\"\n",
    "query_job = client.query(sql)"
   ]
  },
  {
   "cell_type": "markdown",
   "metadata": {
    "id": "CAaHnxvuQMqf"
   },
   "source": [
    "This will throw an error since we don't have permission to create queries inside the `bigquery-public-data` project. Instead we set the project to our BigQuery project name."
   ]
  },
  {
   "cell_type": "code",
   "execution_count": 73,
   "metadata": {
    "id": "5D9V0KjiQMqf"
   },
   "outputs": [],
   "source": [
    "client = bigquery.Client.from_service_account_json(key_path, project = 'iod-big-data-464513') #<<< your BigQuery project ID here!\n",
    "query_job = client.query(sql)"
   ]
  },
  {
   "cell_type": "markdown",
   "metadata": {
    "id": "79jeDjSUQMqg"
   },
   "source": [
    "If that worked, show what query_job is:"
   ]
  },
  {
   "cell_type": "code",
   "execution_count": 76,
   "metadata": {
    "id": "9-cJTROVxpw0"
   },
   "outputs": [
    {
     "data": {
      "text/plain": [
       "google.cloud.bigquery.job.query.QueryJob"
      ]
     },
     "execution_count": 76,
     "metadata": {},
     "output_type": "execute_result"
    }
   ],
   "source": [
    "# ANSWER\n",
    "type(query_job)"
   ]
  },
  {
   "cell_type": "markdown",
   "metadata": {
    "id": "k9lZ6v0cQMqi"
   },
   "source": [
    "Once again, due to lazy execution, no actual execution occurs until we request output:"
   ]
  },
  {
   "cell_type": "code",
   "execution_count": 79,
   "metadata": {
    "id": "SSw6zneJQMqi"
   },
   "outputs": [
    {
     "name": "stdout",
     "output_type": "stream",
     "text": [
      "Row((164656,), {'f0_': 0})\n"
     ]
    }
   ],
   "source": [
    "for row in query_job:  # API request - fetches results\n",
    "    print(row)"
   ]
  },
  {
   "cell_type": "markdown",
   "metadata": {
    "id": "ItvCscRsQMqk"
   },
   "source": [
    "And, again, we need to manipulate this to make it neat. Each member of the rowset is a list and we only want to extract the value, which is in the first member:"
   ]
  },
  {
   "cell_type": "code",
   "execution_count": 82,
   "metadata": {
    "id": "9rB2rpmoQMqk"
   },
   "outputs": [
    {
     "name": "stdout",
     "output_type": "stream",
     "text": [
      "164656\n"
     ]
    }
   ],
   "source": [
    "print(row[0])"
   ]
  },
  {
   "cell_type": "markdown",
   "metadata": {
    "id": "UE_dP3i2QMqn"
   },
   "source": [
    "So, we now know that this table has 164,656 rows. (We would not want to print it!)"
   ]
  },
  {
   "cell_type": "markdown",
   "metadata": {
    "id": "Hd4SdhDwQMqr"
   },
   "source": [
    "Write, execute, and print the results of a query that fetches 10 rows from the table, each containing the \"word\", \"word_count\", and \"corpus\" fields:"
   ]
  },
  {
   "cell_type": "code",
   "execution_count": 86,
   "metadata": {
    "id": "KiQXzKCbQMqr"
   },
   "outputs": [
    {
     "name": "stdout",
     "output_type": "stream",
     "text": [
      "LVII 1 sonnets\n",
      "augurs 1 sonnets\n",
      "dimm'd 1 sonnets\n",
      "plagues 1 sonnets\n",
      "treason 1 sonnets\n",
      "surmise 1 sonnets\n",
      "heed 1 sonnets\n",
      "Unthrifty 1 sonnets\n",
      "quality 1 sonnets\n",
      "wherever 1 sonnets\n"
     ]
    }
   ],
   "source": [
    "#ANSWER\n",
    "sql = \"SELECT word, word_count, corpus FROM bigquery-public-data.samples.shakespeare LIMIT 10\"\n",
    "query_job = client.query(sql)\n",
    "\n",
    "for row in query_job:\n",
    "    assert row[0] == row.word == row['word']\n",
    "    assert row[1] == row.word_count == row['word_count']\n",
    "    assert row[2] == row.corpus == row['corpus']\n",
    "    print(row['word'], row['word_count'], row['corpus'])"
   ]
  },
  {
   "cell_type": "markdown",
   "metadata": {
    "id": "o-_rW8ApQMqu"
   },
   "source": [
    "Whenever you catch yourself writing a swag of code to do something that seems rudimentary or low-level, there is a very good chance that you don't need to. A much easier way to handle the above requirement is to use the `to_dataframe` method of the QueryJob object:"
   ]
  },
  {
   "cell_type": "code",
   "execution_count": 88,
   "metadata": {},
   "outputs": [
    {
     "name": "stdout",
     "output_type": "stream",
     "text": [
      "Requirement already satisfied: db-dtypes in c:\\users\\nsk_z\\anaconda3\\lib\\site-packages (1.4.3)\n",
      "Requirement already satisfied: numpy>=1.24.0 in c:\\users\\nsk_z\\anaconda3\\lib\\site-packages (from db-dtypes) (1.26.4)\n",
      "Requirement already satisfied: packaging>=24.2.0 in c:\\users\\nsk_z\\anaconda3\\lib\\site-packages (from db-dtypes) (24.2)\n",
      "Requirement already satisfied: pandas>=1.5.3 in c:\\users\\nsk_z\\anaconda3\\lib\\site-packages (from db-dtypes) (2.2.3)\n",
      "Requirement already satisfied: pyarrow>=13.0.0 in c:\\users\\nsk_z\\anaconda3\\lib\\site-packages (from db-dtypes) (19.0.0)\n",
      "Requirement already satisfied: python-dateutil>=2.8.2 in c:\\users\\nsk_z\\anaconda3\\lib\\site-packages (from pandas>=1.5.3->db-dtypes) (2.9.0.post0)\n",
      "Requirement already satisfied: pytz>=2020.1 in c:\\users\\nsk_z\\anaconda3\\lib\\site-packages (from pandas>=1.5.3->db-dtypes) (2024.1)\n",
      "Requirement already satisfied: tzdata>=2022.7 in c:\\users\\nsk_z\\anaconda3\\lib\\site-packages (from pandas>=1.5.3->db-dtypes) (2023.3)\n",
      "Requirement already satisfied: six>=1.5 in c:\\users\\nsk_z\\anaconda3\\lib\\site-packages (from python-dateutil>=2.8.2->pandas>=1.5.3->db-dtypes) (1.16.0)\n"
     ]
    }
   ],
   "source": [
    "!pip install db-dtypes"
   ]
  },
  {
   "cell_type": "code",
   "execution_count": 89,
   "metadata": {
    "id": "oZ25oiMOQMqu"
   },
   "outputs": [
    {
     "data": {
      "text/html": [
       "<div>\n",
       "<style scoped>\n",
       "    .dataframe tbody tr th:only-of-type {\n",
       "        vertical-align: middle;\n",
       "    }\n",
       "\n",
       "    .dataframe tbody tr th {\n",
       "        vertical-align: top;\n",
       "    }\n",
       "\n",
       "    .dataframe thead th {\n",
       "        text-align: right;\n",
       "    }\n",
       "</style>\n",
       "<table border=\"1\" class=\"dataframe\">\n",
       "  <thead>\n",
       "    <tr style=\"text-align: right;\">\n",
       "      <th></th>\n",
       "      <th>word</th>\n",
       "      <th>word_count</th>\n",
       "      <th>corpus</th>\n",
       "    </tr>\n",
       "  </thead>\n",
       "  <tbody>\n",
       "    <tr>\n",
       "      <th>0</th>\n",
       "      <td>LVII</td>\n",
       "      <td>1</td>\n",
       "      <td>sonnets</td>\n",
       "    </tr>\n",
       "    <tr>\n",
       "      <th>1</th>\n",
       "      <td>augurs</td>\n",
       "      <td>1</td>\n",
       "      <td>sonnets</td>\n",
       "    </tr>\n",
       "    <tr>\n",
       "      <th>2</th>\n",
       "      <td>dimm'd</td>\n",
       "      <td>1</td>\n",
       "      <td>sonnets</td>\n",
       "    </tr>\n",
       "    <tr>\n",
       "      <th>3</th>\n",
       "      <td>plagues</td>\n",
       "      <td>1</td>\n",
       "      <td>sonnets</td>\n",
       "    </tr>\n",
       "    <tr>\n",
       "      <th>4</th>\n",
       "      <td>treason</td>\n",
       "      <td>1</td>\n",
       "      <td>sonnets</td>\n",
       "    </tr>\n",
       "    <tr>\n",
       "      <th>5</th>\n",
       "      <td>surmise</td>\n",
       "      <td>1</td>\n",
       "      <td>sonnets</td>\n",
       "    </tr>\n",
       "    <tr>\n",
       "      <th>6</th>\n",
       "      <td>heed</td>\n",
       "      <td>1</td>\n",
       "      <td>sonnets</td>\n",
       "    </tr>\n",
       "    <tr>\n",
       "      <th>7</th>\n",
       "      <td>Unthrifty</td>\n",
       "      <td>1</td>\n",
       "      <td>sonnets</td>\n",
       "    </tr>\n",
       "    <tr>\n",
       "      <th>8</th>\n",
       "      <td>quality</td>\n",
       "      <td>1</td>\n",
       "      <td>sonnets</td>\n",
       "    </tr>\n",
       "    <tr>\n",
       "      <th>9</th>\n",
       "      <td>wherever</td>\n",
       "      <td>1</td>\n",
       "      <td>sonnets</td>\n",
       "    </tr>\n",
       "  </tbody>\n",
       "</table>\n",
       "</div>"
      ],
      "text/plain": [
       "        word  word_count   corpus\n",
       "0       LVII           1  sonnets\n",
       "1     augurs           1  sonnets\n",
       "2     dimm'd           1  sonnets\n",
       "3    plagues           1  sonnets\n",
       "4    treason           1  sonnets\n",
       "5    surmise           1  sonnets\n",
       "6       heed           1  sonnets\n",
       "7  Unthrifty           1  sonnets\n",
       "8    quality           1  sonnets\n",
       "9   wherever           1  sonnets"
      ]
     },
     "execution_count": 89,
     "metadata": {},
     "output_type": "execute_result"
    }
   ],
   "source": [
    "df = query_job.to_dataframe()\n",
    "df"
   ]
  },
  {
   "cell_type": "markdown",
   "metadata": {
    "id": "3iNOJ-cnQMqv"
   },
   "source": [
    "#### Additional Notes"
   ]
  },
  {
   "cell_type": "markdown",
   "metadata": {
    "id": "1DFF38wvQMqv"
   },
   "source": [
    "1. Here is a readable way to code long SQL statements:"
   ]
  },
  {
   "cell_type": "code",
   "execution_count": 95,
   "metadata": {
    "id": "C1rUFwnnQMqv"
   },
   "outputs": [],
   "source": [
    "sql = \"\"\"\n",
    "    SELECT word, word_count, corpus\n",
    "    FROM bigquery-public-data.samples.shakespeare\n",
    "    LIMIT 10\n",
    "    \"\"\""
   ]
  },
  {
   "cell_type": "markdown",
   "metadata": {
    "id": "ey8f9Hg_QMqw"
   },
   "source": [
    "2. If you had an application that needed to modify the tables or datasets in the `bigquery-public-data` is project, you could copy them to our own project, where you would have the permissions to do as you please with the data (subject to Google's terms of use)."
   ]
  },
  {
   "cell_type": "markdown",
   "metadata": {
    "id": "bMrmiDRJQMqw"
   },
   "source": [
    "3. We aren't limited to the datasets that are already in BigQuery. We can upload tables from our computer, and we can pull data in from other online sources."
   ]
  },
  {
   "cell_type": "markdown",
   "metadata": {
    "id": "KpCJE78Cxpw4"
   },
   "source": [
    "## Google Gemini"
   ]
  },
  {
   "cell_type": "markdown",
   "metadata": {
    "id": "y42HUkiyxpw4"
   },
   "source": [
    "Google Gemini (formerly Bard) is a multimodal generative AI chatbot. It can process text, audio, images and video.\n",
    "\n",
    "Create an API key at https://aistudio.google.com/app/apikey . Copy the key and paste it into a text file called 'gemini_key.txt'"
   ]
  },
  {
   "cell_type": "markdown",
   "metadata": {
    "id": "2778CTfIxpw4"
   },
   "source": [
    "## Google Gemini UI\n",
    "While signed into Google experiment with some prompts at https://aistudio.google.com/app/prompts/new_chat. A prompt gallery is available at https://aistudio.google.com/app/gallery."
   ]
  },
  {
   "cell_type": "markdown",
   "metadata": {
    "id": "5VtWkTPixpw4"
   },
   "source": [
    "## Google Gemini API"
   ]
  },
  {
   "cell_type": "markdown",
   "metadata": {
    "id": "1sr2VmOgxpw4"
   },
   "source": [
    "The library `google-generativeai` gives access to Gemini models. For this section download the following two files from the DATA folder:\n",
    "\n",
    "* `equation.jpg`\n",
    "* `JFK.mp3`"
   ]
  },
  {
   "cell_type": "code",
   "execution_count": 75,
   "metadata": {
    "id": "Wfv8zvH1xpw5"
   },
   "outputs": [
    {
     "name": "stdout",
     "output_type": "stream",
     "text": [
      "Collecting google-genai\n",
      "  Obtaining dependency information for google-genai from https://files.pythonhosted.org/packages/30/28/a35f64fc02e599808101617a21d447d241dadeba2aac1f4dc2d1179b8218/google_genai-1.24.0-py3-none-any.whl.metadata\n",
      "  Downloading google_genai-1.24.0-py3-none-any.whl.metadata (40 kB)\n",
      "     ---------------------------------------- 0.0/40.5 kB ? eta -:--:--\n",
      "     ------------------------------ --------- 30.7/40.5 kB ? eta -:--:--\n",
      "     -------------------------------------- 40.5/40.5 kB 644.7 kB/s eta 0:00:00\n",
      "Collecting anyio<5.0.0,>=4.8.0 (from google-genai)\n",
      "  Obtaining dependency information for anyio<5.0.0,>=4.8.0 from https://files.pythonhosted.org/packages/a1/ee/48ca1a7c89ffec8b6a0c5d02b89c305671d5ffd8d3c94acf8b8c408575bb/anyio-4.9.0-py3-none-any.whl.metadata\n",
      "  Downloading anyio-4.9.0-py3-none-any.whl.metadata (4.7 kB)\n",
      "Requirement already satisfied: google-auth<3.0.0,>=2.14.1 in c:\\users\\nsk_z\\anaconda3\\lib\\site-packages (from google-genai) (2.40.3)\n",
      "Collecting httpx<1.0.0,>=0.28.1 (from google-genai)\n",
      "  Obtaining dependency information for httpx<1.0.0,>=0.28.1 from https://files.pythonhosted.org/packages/2a/39/e50c7c3a983047577ee07d2a9e53faf5a69493943ec3f6a384bdc792deb2/httpx-0.28.1-py3-none-any.whl.metadata\n",
      "  Downloading httpx-0.28.1-py3-none-any.whl.metadata (7.1 kB)\n",
      "Requirement already satisfied: pydantic<3.0.0,>=2.0.0 in c:\\users\\nsk_z\\anaconda3\\lib\\site-packages (from google-genai) (2.10.3)\n",
      "Requirement already satisfied: requests<3.0.0,>=2.28.1 in c:\\users\\nsk_z\\anaconda3\\lib\\site-packages (from google-genai) (2.32.3)\n",
      "Collecting tenacity<9.0.0,>=8.2.3 (from google-genai)\n",
      "  Obtaining dependency information for tenacity<9.0.0,>=8.2.3 from https://files.pythonhosted.org/packages/d2/3f/8ba87d9e287b9d385a02a7114ddcef61b26f86411e121c9003eb509a1773/tenacity-8.5.0-py3-none-any.whl.metadata\n",
      "  Downloading tenacity-8.5.0-py3-none-any.whl.metadata (1.2 kB)\n",
      "Collecting websockets<15.1.0,>=13.0.0 (from google-genai)\n",
      "  Obtaining dependency information for websockets<15.1.0,>=13.0.0 from https://files.pythonhosted.org/packages/98/93/e36c73f78400a65f5e236cd376713c34182e6663f6889cd45a4a04d8f203/websockets-15.0.1-cp311-cp311-win_amd64.whl.metadata\n",
      "  Downloading websockets-15.0.1-cp311-cp311-win_amd64.whl.metadata (7.0 kB)\n",
      "Requirement already satisfied: typing-extensions<5.0.0,>=4.11.0 in c:\\users\\nsk_z\\anaconda3\\lib\\site-packages (from google-genai) (4.12.2)\n",
      "Requirement already satisfied: idna>=2.8 in c:\\users\\nsk_z\\anaconda3\\lib\\site-packages (from anyio<5.0.0,>=4.8.0->google-genai) (3.7)\n",
      "Requirement already satisfied: sniffio>=1.1 in c:\\users\\nsk_z\\anaconda3\\lib\\site-packages (from anyio<5.0.0,>=4.8.0->google-genai) (1.3.0)\n",
      "Requirement already satisfied: cachetools<6.0,>=2.0.0 in c:\\users\\nsk_z\\anaconda3\\lib\\site-packages (from google-auth<3.0.0,>=2.14.1->google-genai) (5.5.2)\n",
      "Requirement already satisfied: pyasn1-modules>=0.2.1 in c:\\users\\nsk_z\\anaconda3\\lib\\site-packages (from google-auth<3.0.0,>=2.14.1->google-genai) (0.2.8)\n",
      "Requirement already satisfied: rsa<5,>=3.1.4 in c:\\users\\nsk_z\\anaconda3\\lib\\site-packages (from google-auth<3.0.0,>=2.14.1->google-genai) (4.9.1)\n",
      "Requirement already satisfied: certifi in c:\\users\\nsk_z\\anaconda3\\lib\\site-packages (from httpx<1.0.0,>=0.28.1->google-genai) (2025.4.26)\n",
      "Requirement already satisfied: httpcore==1.* in c:\\users\\nsk_z\\anaconda3\\lib\\site-packages (from httpx<1.0.0,>=0.28.1->google-genai) (1.0.2)\n",
      "Requirement already satisfied: h11<0.15,>=0.13 in c:\\users\\nsk_z\\anaconda3\\lib\\site-packages (from httpcore==1.*->httpx<1.0.0,>=0.28.1->google-genai) (0.14.0)\n",
      "Requirement already satisfied: annotated-types>=0.6.0 in c:\\users\\nsk_z\\anaconda3\\lib\\site-packages (from pydantic<3.0.0,>=2.0.0->google-genai) (0.6.0)\n",
      "Requirement already satisfied: pydantic-core==2.27.1 in c:\\users\\nsk_z\\anaconda3\\lib\\site-packages (from pydantic<3.0.0,>=2.0.0->google-genai) (2.27.1)\n",
      "Requirement already satisfied: charset-normalizer<4,>=2 in c:\\users\\nsk_z\\anaconda3\\lib\\site-packages (from requests<3.0.0,>=2.28.1->google-genai) (3.3.2)\n",
      "Requirement already satisfied: urllib3<3,>=1.21.1 in c:\\users\\nsk_z\\anaconda3\\lib\\site-packages (from requests<3.0.0,>=2.28.1->google-genai) (2.3.0)\n",
      "Requirement already satisfied: pyasn1<0.5.0,>=0.4.6 in c:\\users\\nsk_z\\anaconda3\\lib\\site-packages (from pyasn1-modules>=0.2.1->google-auth<3.0.0,>=2.14.1->google-genai) (0.4.8)\n",
      "Downloading google_genai-1.24.0-py3-none-any.whl (226 kB)\n",
      "   ---------------------------------------- 0.0/226.1 kB ? eta -:--:--\n",
      "   ------------------- -------------------- 112.6/226.1 kB 3.3 MB/s eta 0:00:01\n",
      "   ------------------------------------ --- 204.8/226.1 kB 2.5 MB/s eta 0:00:01\n",
      "   ---------------------------------------- 226.1/226.1 kB 1.7 MB/s eta 0:00:00\n",
      "Downloading anyio-4.9.0-py3-none-any.whl (100 kB)\n",
      "   ---------------------------------------- 0.0/100.9 kB ? eta -:--:--\n",
      "   ------------------------------------ --- 92.2/100.9 kB 5.5 MB/s eta 0:00:01\n",
      "   ---------------------------------------- 100.9/100.9 kB 1.9 MB/s eta 0:00:00\n",
      "Downloading httpx-0.28.1-py3-none-any.whl (73 kB)\n",
      "   ---------------------------------------- 0.0/73.5 kB ? eta -:--:--\n",
      "   ---------------------------------------- 73.5/73.5 kB 4.2 MB/s eta 0:00:00\n",
      "Downloading tenacity-8.5.0-py3-none-any.whl (28 kB)\n",
      "Downloading websockets-15.0.1-cp311-cp311-win_amd64.whl (176 kB)\n",
      "   ---------------------------------------- 0.0/176.8 kB ? eta -:--:--\n",
      "   ---------------------------------------- 176.8/176.8 kB 5.4 MB/s eta 0:00:00\n",
      "Installing collected packages: websockets, tenacity, anyio, httpx, google-genai\n",
      "  Attempting uninstall: tenacity\n",
      "    Found existing installation: tenacity 9.0.0\n",
      "    Uninstalling tenacity-9.0.0:\n",
      "      Successfully uninstalled tenacity-9.0.0\n",
      "  Attempting uninstall: anyio\n",
      "    Found existing installation: anyio 4.6.2\n",
      "    Uninstalling anyio-4.6.2:\n",
      "      Successfully uninstalled anyio-4.6.2\n",
      "  Attempting uninstall: httpx\n",
      "    Found existing installation: httpx 0.27.0\n",
      "    Uninstalling httpx-0.27.0:\n",
      "      Successfully uninstalled httpx-0.27.0\n",
      "Successfully installed anyio-4.9.0 google-genai-1.24.0 httpx-0.28.1 tenacity-8.5.0 websockets-15.0.1\n"
     ]
    },
    {
     "name": "stderr",
     "output_type": "stream",
     "text": [
      "ERROR: pip's dependency resolver does not currently take into account all the packages that are installed. This behaviour is the source of the following dependency conflicts.\n",
      "aext-shared 4.1.0 requires anaconda-cloud-auth>=0.7.1, which is not installed.\n",
      "aext-share-notebook-server 4.1.0 requires anaconda-cloud-auth>=0.7.1, which is not installed.\n",
      "aext-toolbox 4.1.0 requires anaconda-cloud-auth>=0.7.1, which is not installed.\n"
     ]
    }
   ],
   "source": [
    "# -U gives the latest version\n",
    "!pip install -U google-genai"
   ]
  },
  {
   "cell_type": "code",
   "execution_count": 100,
   "metadata": {
    "id": "_rwuMn5Bxpw5"
   },
   "outputs": [],
   "source": [
    "from google import genai\n",
    "from IPython.display import Markdown # allows Markdown text to be displayed in the notebook"
   ]
  },
  {
   "cell_type": "markdown",
   "metadata": {
    "id": "fLIKAdCwxpw5"
   },
   "source": [
    "Firstly we read our API key from `gemini_key.txt`:"
   ]
  },
  {
   "cell_type": "code",
   "execution_count": 102,
   "metadata": {
    "id": "locq-5Cxxpw6"
   },
   "outputs": [],
   "source": [
    "filename = 'gemini_key.txt'\n",
    "try:\n",
    "    with open(filename, 'r') as f:\n",
    "        # It's assumed your file contains a single line containing your API key only\n",
    "        key = f.read().strip()\n",
    "except FileNotFoundError:\n",
    "    print(\"'%s' file not found\" % filename)"
   ]
  },
  {
   "cell_type": "code",
   "execution_count": 103,
   "metadata": {
    "id": "57kbcoErxpw6"
   },
   "outputs": [],
   "source": [
    "client = genai.Client(api_key=key)"
   ]
  },
  {
   "cell_type": "markdown",
   "metadata": {
    "id": "oD4bAhVoxpw6"
   },
   "source": [
    "We shall use the following client methods:\n",
    "\n",
    "* `models.generate_content()`: used to generate responses from the model\n",
    "* `models.list()`: used to see available models\n",
    "* `files.upload()`: used to upload image/audio files"
   ]
  },
  {
   "cell_type": "markdown",
   "metadata": {
    "id": "yLdPzZGMxpw6"
   },
   "source": [
    "The following code lists the available models for text generation:"
   ]
  },
  {
   "cell_type": "code",
   "execution_count": 109,
   "metadata": {
    "id": "hGfNEiAuxpw7"
   },
   "outputs": [
    {
     "name": "stdout",
     "output_type": "stream",
     "text": [
      "models/gemini-1.0-pro-vision-latest\n",
      "models/gemini-pro-vision\n",
      "models/gemini-1.5-pro-latest\n",
      "models/gemini-1.5-pro-002\n",
      "models/gemini-1.5-pro\n",
      "models/gemini-1.5-flash-latest\n",
      "models/gemini-1.5-flash\n",
      "models/gemini-1.5-flash-002\n",
      "models/gemini-1.5-flash-8b\n",
      "models/gemini-1.5-flash-8b-001\n",
      "models/gemini-1.5-flash-8b-latest\n",
      "models/gemini-2.5-pro-preview-03-25\n",
      "models/gemini-2.5-flash-preview-04-17\n",
      "models/gemini-2.5-flash-preview-05-20\n",
      "models/gemini-2.5-flash\n",
      "models/gemini-2.5-flash-preview-04-17-thinking\n",
      "models/gemini-2.5-flash-lite-preview-06-17\n",
      "models/gemini-2.5-pro-preview-05-06\n",
      "models/gemini-2.5-pro-preview-06-05\n",
      "models/gemini-2.5-pro\n",
      "models/gemini-2.0-flash-exp\n",
      "models/gemini-2.0-flash\n",
      "models/gemini-2.0-flash-001\n",
      "models/gemini-2.0-flash-exp-image-generation\n",
      "models/gemini-2.0-flash-lite-001\n",
      "models/gemini-2.0-flash-lite\n",
      "models/gemini-2.0-flash-preview-image-generation\n",
      "models/gemini-2.0-flash-lite-preview-02-05\n",
      "models/gemini-2.0-flash-lite-preview\n",
      "models/gemini-2.0-pro-exp\n",
      "models/gemini-2.0-pro-exp-02-05\n",
      "models/gemini-exp-1206\n",
      "models/gemini-2.0-flash-thinking-exp-01-21\n",
      "models/gemini-2.0-flash-thinking-exp\n",
      "models/gemini-2.0-flash-thinking-exp-1219\n",
      "models/gemini-2.5-flash-preview-tts\n",
      "models/gemini-2.5-pro-preview-tts\n",
      "models/learnlm-2.0-flash-experimental\n",
      "models/gemma-3-1b-it\n",
      "models/gemma-3-4b-it\n",
      "models/gemma-3-12b-it\n",
      "models/gemma-3-27b-it\n",
      "models/gemma-3n-e4b-it\n",
      "models/gemma-3n-e2b-it\n"
     ]
    }
   ],
   "source": [
    "for m in client.models.list():\n",
    "    if \"generateContent\" in m.supported_actions:\n",
    "        print(m.name)"
   ]
  },
  {
   "cell_type": "markdown",
   "metadata": {
    "id": "7gXcb3_axpw7"
   },
   "source": [
    "As suggested by the name, Gemini Flash is designed for faster responses while Gemini Pro works better at more challenging tasks. Pro has a lower rate limit of 2 requests per minute as seen in https://ai.google.dev/pricing."
   ]
  },
  {
   "cell_type": "code",
   "execution_count": 112,
   "metadata": {
    "id": "nM7O6cazxpw7"
   },
   "outputs": [],
   "source": [
    "response = client.models.generate_content(\n",
    "    model=\"gemini-1.5-flash\", contents=\"What is an API?\"\n",
    ")"
   ]
  },
  {
   "cell_type": "markdown",
   "metadata": {
    "id": "r25EuFCFxpw7"
   },
   "source": [
    "The attribute `text` shows in Markdown format the response of the model to the question."
   ]
  },
  {
   "cell_type": "code",
   "execution_count": 115,
   "metadata": {
    "id": "tVpmzYEXxpw7"
   },
   "outputs": [
    {
     "data": {
      "text/markdown": [
       "API stands for **Application Programming Interface**.  It's essentially a messenger that allows different software systems to talk to each other.  Think of it like a waiter in a restaurant: you (the application) tell the waiter (the API) what you want (data or a specific action), the waiter goes to the kitchen (the database or other system), gets your order (the data), and brings it back to you.\n",
       "\n",
       "More technically, an API is a set of rules and specifications that software programs can follow to communicate and exchange information.  It defines how one application can request services from another application and how the second application will respond.\n",
       "\n",
       "Here's a breakdown of key aspects:\n",
       "\n",
       "* **Defines how applications interact:** APIs specify the format of requests and responses, ensuring consistent communication. This is crucial for different systems built using various programming languages to understand each other.\n",
       "\n",
       "* **Abstraction:** APIs hide the internal complexities of the system they're interacting with.  You don't need to know *how* the data is stored or processed; you only need to know *what* data you can access and *how* to request it.\n",
       "\n",
       "* **Standardized communication:** APIs use standard formats like JSON or XML to exchange data, making integration seamless across different platforms.\n",
       "\n",
       "* **Examples:**  When you use a weather app on your phone, that app uses an API to get weather data from a weather service. When you log in to a website using your Google account, the website is using an API provided by Google.  Many online services and platforms offer APIs to allow other developers to build applications that integrate with their functionality.\n",
       "\n",
       "\n",
       "In short, APIs are fundamental building blocks for modern software development, enabling interoperability and facilitating the creation of complex, interconnected systems.\n"
      ],
      "text/plain": [
       "<IPython.core.display.Markdown object>"
      ]
     },
     "execution_count": 115,
     "metadata": {},
     "output_type": "execute_result"
    }
   ],
   "source": [
    "Markdown(response.text)"
   ]
  },
  {
   "cell_type": "markdown",
   "metadata": {
    "id": "7DKf8jEUxpw8"
   },
   "source": [
    "Study the response object and identify the total token count."
   ]
  },
  {
   "cell_type": "code",
   "execution_count": 118,
   "metadata": {
    "id": "GWJKsCqvxpw8"
   },
   "outputs": [
    {
     "data": {
      "text/plain": [
       "367"
      ]
     },
     "execution_count": 118,
     "metadata": {},
     "output_type": "execute_result"
    }
   ],
   "source": [
    "# ANSWER\n",
    "response.usage_metadata.total_token_count"
   ]
  },
  {
   "cell_type": "markdown",
   "metadata": {
    "id": "D4ArzGbKxpw8"
   },
   "source": [
    "Next, we have Gemini process a mathematical equation in an image."
   ]
  },
  {
   "cell_type": "code",
   "execution_count": 121,
   "metadata": {
    "id": "wcxC9JItxpw8"
   },
   "outputs": [],
   "source": [
    "sample_image = client.files.upload(file=\"equation.jpg\")"
   ]
  },
  {
   "cell_type": "code",
   "execution_count": 122,
   "metadata": {
    "id": "oM27gjfJxpw8"
   },
   "outputs": [
    {
     "data": {
      "text/markdown": [
       "The image contains a quadratic equation:\n",
       "\n",
       "0 = x² - 5x + 6"
      ],
      "text/plain": [
       "<IPython.core.display.Markdown object>"
      ]
     },
     "execution_count": 122,
     "metadata": {},
     "output_type": "execute_result"
    }
   ],
   "source": [
    "result = client.models.generate_content(\n",
    "    model=\"gemini-1.5-flash\",\n",
    "    contents=[\n",
    "        sample_image,\n",
    "        \"\\n\\n\",\n",
    "        \"What is in this image?\",\n",
    "    ],\n",
    ")\n",
    "Markdown(result.text)"
   ]
  },
  {
   "cell_type": "markdown",
   "metadata": {
    "id": "tuKbviaNxpw8"
   },
   "source": [
    "Use the Gemini 1.5 Flash model to solve the equation in the image."
   ]
  },
  {
   "cell_type": "code",
   "execution_count": 126,
   "metadata": {
    "id": "eHIqvaj9xpw8"
   },
   "outputs": [
    {
     "data": {
      "text/markdown": [
       ">Here's how to solve the equation 0 = x² - 5x + 6:\n",
       "\n",
       "**1. Factor the quadratic expression:**\n",
       "\n",
       "We need to find two numbers that add up to -5 (the coefficient of x) and multiply to 6 (the constant term). Those numbers are -2 and -3.  Therefore, the factored form is:\n",
       "\n",
       "0 = (x - 2)(x - 3)\n",
       "\n",
       "**2. Solve for x:**\n",
       "\n",
       "Since the product of two factors is zero, at least one of the factors must be zero.  This gives us two possible solutions:\n",
       "\n",
       "* x - 2 = 0  =>  x = 2\n",
       "* x - 3 = 0  =>  x = 3\n",
       "\n",
       "**Therefore, the solutions to the equation are x = 2 and x = 3**\n"
      ],
      "text/plain": [
       "<IPython.core.display.Markdown object>"
      ]
     },
     "execution_count": 126,
     "metadata": {},
     "output_type": "execute_result"
    }
   ],
   "source": [
    "# REPLACE ??? with code\n",
    "result = client.models.generate_content(\n",
    "    model=\"gemini-1.5-flash\",\n",
    "    contents=[\n",
    "        sample_image,\n",
    "        \"\\n\\n\",\n",
    "        \"solve the equation in this image?\",\n",
    "    ],\n",
    ")\n",
    "\n",
    "Markdown(\">\" + result.text)"
   ]
  },
  {
   "cell_type": "markdown",
   "metadata": {
    "id": "9luhD3Jnxpw9"
   },
   "source": [
    "Finally we transcribe a short audio clip."
   ]
  },
  {
   "cell_type": "code",
   "execution_count": 129,
   "metadata": {
    "id": "IUO21JIuxpw9"
   },
   "outputs": [
    {
     "name": "stdout",
     "output_type": "stream",
     "text": [
      "And so my fellow Americans, ask not what your country can do for you, ask what you can do for your country.\n",
      "\n"
     ]
    }
   ],
   "source": [
    "# REPLACE ??? with code\n",
    "audio_file = client.files.upload(file=\"JFK.mp3\")\n",
    "\n",
    "# Create a prompt.\n",
    "prompt = \"Transcribe the audio.\"\n",
    "\n",
    "# Pass the prompt and the audio file to gemini-1.5-flash using client.models.generate_content\n",
    "response = client.models.generate_content(\n",
    "    model = \"gemini-1.5-flash\",\n",
    "    contents = [\n",
    "        audio_file,\n",
    "        '\\n\\n'\n",
    "        'Transcribe the audio'\n",
    "    ]\n",
    ")\n",
    "\n",
    "# Print the response.\n",
    "print(response.text)"
   ]
  },
  {
   "cell_type": "markdown",
   "metadata": {
    "id": "BbB6B7r3QMqx"
   },
   "source": [
    "## Further reading\n",
    "\n",
    "If you wish to pick up a few more skills in BigQuery you can go to https://cloud.google.com/bigquery/create-simple-app-api and https://cloud.google.com/bigquery/docs/samples.\n",
    "\n",
    "Alternatively, you can take a deeper dive into the API here: https://googlecloudplatform.github.io/google-cloud-python/latest/bigquery/usage.html.\n",
    "\n",
    "The Google Gemini API documentation is at https://ai.google.dev/gemini-api/docs"
   ]
  },
  {
   "cell_type": "markdown",
   "metadata": {
    "id": "c6jzTfrZQMqx"
   },
   "source": [
    "## - END -"
   ]
  },
  {
   "cell_type": "markdown",
   "metadata": {
    "id": "fWOk43cgN71c"
   },
   "source": [
    "\n",
    "\n",
    "---\n",
    "\n",
    "\n",
    "\n",
    "---\n",
    "\n",
    "\n",
    "\n",
    "> > > > > > > > > © 2025 Institute of Data\n",
    "\n",
    "\n",
    "---\n",
    "\n",
    "\n",
    "\n",
    "---\n",
    "\n",
    "\n",
    "\n"
   ]
  }
 ],
 "metadata": {
  "colab": {
   "collapsed_sections": [
    "BbB6B7r3QMqx"
   ],
   "provenance": []
  },
  "kernelspec": {
   "display_name": "Python [conda env:base] *",
   "language": "python",
   "name": "conda-base-py"
  },
  "language_info": {
   "codemirror_mode": {
    "name": "ipython",
    "version": 3
   },
   "file_extension": ".py",
   "mimetype": "text/x-python",
   "name": "python",
   "nbconvert_exporter": "python",
   "pygments_lexer": "ipython3",
   "version": "3.11.5"
  }
 },
 "nbformat": 4,
 "nbformat_minor": 4
}
